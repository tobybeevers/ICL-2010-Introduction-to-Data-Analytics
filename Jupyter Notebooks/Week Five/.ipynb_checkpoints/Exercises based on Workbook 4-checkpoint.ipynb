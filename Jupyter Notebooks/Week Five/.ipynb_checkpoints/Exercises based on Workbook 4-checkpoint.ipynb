{
 "cells": [
  {
   "cell_type": "markdown",
   "id": "b73d5679",
   "metadata": {},
   "source": [
    "<h1>Exercises based on Workbook 4 </h1>\n",
    "\n",
    "Now switch back to using the Car_Insurance_Claim.csv Include a Screen of each of the results below please."
   ]
  },
  {
   "cell_type": "code",
   "execution_count": 5,
   "id": "7a234150",
   "metadata": {},
   "outputs": [],
   "source": [
    "## Import pandas library\n",
    "import pandas as pd"
   ]
  },
  {
   "cell_type": "code",
   "execution_count": 6,
   "id": "5e4815e7",
   "metadata": {},
   "outputs": [],
   "source": [
    "precip = pd.read_csv('climate_precip.csv') #has 151,111 rows\n",
    "temp = pd.read_csv('climate_temp.csv') #has 127,021 rows"
   ]
  },
  {
   "cell_type": "code",
   "execution_count": 7,
   "id": "1be7bef8",
   "metadata": {
    "scrolled": true
   },
   "outputs": [
    {
     "name": "stdout",
     "output_type": "stream",
     "text": [
      "<class 'pandas.core.frame.DataFrame'>\n",
      "RangeIndex: 151110 entries, 0 to 151109\n",
      "Data columns (total 29 columns):\n",
      " #   Column                   Non-Null Count   Dtype  \n",
      "---  ------                   --------------   -----  \n",
      " 0   STATION                  151110 non-null  object \n",
      " 1   STATION_NAME             151110 non-null  object \n",
      " 2   DATE                     151110 non-null  int64  \n",
      " 3   DLY-PRCP-25PCTL          151110 non-null  float64\n",
      " 4   DLY-SNWD-25PCTL          151110 non-null  int64  \n",
      " 5   DLY-SNOW-25PCTL          151110 non-null  float64\n",
      " 6   DLY-PRCP-50PCTL          151110 non-null  float64\n",
      " 7   DLY-SNWD-50PCTL          151110 non-null  int64  \n",
      " 8   DLY-SNOW-50PCTL          151110 non-null  float64\n",
      " 9   DLY-PRCP-75PCTL          151110 non-null  float64\n",
      " 10  DLY-SNWD-75PCTL          151110 non-null  int64  \n",
      " 11  DLY-SNOW-75PCTL          151110 non-null  float64\n",
      " 12  MTD-PRCP-NORMAL          151110 non-null  float64\n",
      " 13  MTD-SNOW-NORMAL          151110 non-null  float64\n",
      " 14  YTD-PRCP-NORMAL          151110 non-null  float64\n",
      " 15  YTD-SNOW-NORMAL          151110 non-null  float64\n",
      " 16  DLY-PRCP-PCTALL-GE001HI  151110 non-null  int64  \n",
      " 17  DLY-PRCP-PCTALL-GE010HI  151110 non-null  int64  \n",
      " 18  DLY-PRCP-PCTALL-GE050HI  151110 non-null  int64  \n",
      " 19  DLY-PRCP-PCTALL-GE100HI  151110 non-null  int64  \n",
      " 20  DLY-SNWD-PCTALL-GE001WI  151110 non-null  int64  \n",
      " 21  DLY-SNWD-PCTALL-GE010WI  151110 non-null  int64  \n",
      " 22  DLY-SNWD-PCTALL-GE003WI  151110 non-null  int64  \n",
      " 23  DLY-SNWD-PCTALL-GE005WI  151110 non-null  int64  \n",
      " 24  DLY-SNOW-PCTALL-GE001TI  151110 non-null  int64  \n",
      " 25  DLY-SNOW-PCTALL-GE010TI  151110 non-null  int64  \n",
      " 26  DLY-SNOW-PCTALL-GE100TI  151110 non-null  int64  \n",
      " 27  DLY-SNOW-PCTALL-GE030TI  151110 non-null  int64  \n",
      " 28  DLY-SNOW-PCTALL-GE050TI  151110 non-null  int64  \n",
      "dtypes: float64(10), int64(17), object(2)\n",
      "memory usage: 33.4+ MB\n"
     ]
    }
   ],
   "source": [
    "##precip.head()\n",
    "##precip.shape\n",
    "precip.info()"
   ]
  },
  {
   "cell_type": "code",
   "execution_count": 8,
   "id": "4cdb6c46",
   "metadata": {},
   "outputs": [
    {
     "name": "stdout",
     "output_type": "stream",
     "text": [
      "<class 'pandas.core.frame.DataFrame'>\n",
      "RangeIndex: 127020 entries, 0 to 127019\n",
      "Data columns (total 21 columns):\n",
      " #   Column           Non-Null Count   Dtype \n",
      "---  ------           --------------   ----- \n",
      " 0   STATION          127020 non-null  object\n",
      " 1   STATION_NAME     127020 non-null  object\n",
      " 2   ELEVATION        127020 non-null  object\n",
      " 3   LATITUDE         127020 non-null  object\n",
      " 4   LONGITUDE        127020 non-null  object\n",
      " 5   DATE             127020 non-null  int64 \n",
      " 6   DLY-CLDD-BASE45  127020 non-null  int64 \n",
      " 7   DLY-CLDD-BASE50  127020 non-null  int64 \n",
      " 8   DLY-CLDD-BASE55  127020 non-null  int64 \n",
      " 9   DLY-CLDD-BASE57  127020 non-null  int64 \n",
      " 10  DLY-CLDD-BASE60  127020 non-null  int64 \n",
      " 11  DLY-CLDD-NORMAL  127020 non-null  int64 \n",
      " 12  DLY-CLDD-BASE70  127020 non-null  int64 \n",
      " 13  DLY-CLDD-BASE72  127020 non-null  int64 \n",
      " 14  DLY-HTDD-BASE40  127020 non-null  int64 \n",
      " 15  DLY-HTDD-BASE45  127020 non-null  int64 \n",
      " 16  DLY-HTDD-BASE50  127020 non-null  int64 \n",
      " 17  DLY-HTDD-BASE55  127020 non-null  int64 \n",
      " 18  DLY-HTDD-BASE57  127020 non-null  int64 \n",
      " 19  DLY-HTDD-BASE60  127020 non-null  int64 \n",
      " 20  DLY-HTDD-NORMAL  127020 non-null  int64 \n",
      "dtypes: int64(16), object(5)\n",
      "memory usage: 20.4+ MB\n"
     ]
    }
   ],
   "source": [
    "#temp.head()\n",
    "#temp.shape\n",
    "temp.info()"
   ]
  },
  {
   "cell_type": "code",
   "execution_count": null,
   "id": "b7589e3b",
   "metadata": {},
   "outputs": [],
   "source": [
    "\n",
    "\n",
    "\n"
   ]
  },
  {
   "cell_type": "markdown",
   "id": "dc79eb32",
   "metadata": {},
   "source": [
    "<h3>pandas .join(): Combining Data on a Column or Index</h3>\n",
    "\n",
    "While merge() is a module function, .join() is an instance method that lives on your DataFrame. This enables you to specify only one DataFrame, which will join the DataFrame you call .join() on.\n",
    "\n",
    "Under the hood, .join() uses merge(), but it provides a more efficient way to join DataFrames than a fully specified merge() call."
   ]
  },
  {
   "cell_type": "code",
   "execution_count": 9,
   "id": "73088a7c",
   "metadata": {},
   "outputs": [
    {
     "data": {
      "text/html": [
       "<div>\n",
       "<style scoped>\n",
       "    .dataframe tbody tr th:only-of-type {\n",
       "        vertical-align: middle;\n",
       "    }\n",
       "\n",
       "    .dataframe tbody tr th {\n",
       "        vertical-align: top;\n",
       "    }\n",
       "\n",
       "    .dataframe thead th {\n",
       "        text-align: right;\n",
       "    }\n",
       "</style>\n",
       "<table border=\"1\" class=\"dataframe\">\n",
       "  <thead>\n",
       "    <tr style=\"text-align: right;\">\n",
       "      <th></th>\n",
       "      <th>DATE</th>\n",
       "    </tr>\n",
       "  </thead>\n",
       "  <tbody>\n",
       "    <tr>\n",
       "      <th>0</th>\n",
       "      <td>20100101</td>\n",
       "    </tr>\n",
       "    <tr>\n",
       "      <th>1</th>\n",
       "      <td>20100101</td>\n",
       "    </tr>\n",
       "    <tr>\n",
       "      <th>2</th>\n",
       "      <td>20100101</td>\n",
       "    </tr>\n",
       "    <tr>\n",
       "      <th>3</th>\n",
       "      <td>20100101</td>\n",
       "    </tr>\n",
       "    <tr>\n",
       "      <th>4</th>\n",
       "      <td>20100101</td>\n",
       "    </tr>\n",
       "    <tr>\n",
       "      <th>...</th>\n",
       "      <td>...</td>\n",
       "    </tr>\n",
       "    <tr>\n",
       "      <th>52586275</th>\n",
       "      <td>20101231</td>\n",
       "    </tr>\n",
       "    <tr>\n",
       "      <th>52586276</th>\n",
       "      <td>20101231</td>\n",
       "    </tr>\n",
       "    <tr>\n",
       "      <th>52586277</th>\n",
       "      <td>20101231</td>\n",
       "    </tr>\n",
       "    <tr>\n",
       "      <th>52586278</th>\n",
       "      <td>20101231</td>\n",
       "    </tr>\n",
       "    <tr>\n",
       "      <th>52586279</th>\n",
       "      <td>20101231</td>\n",
       "    </tr>\n",
       "  </tbody>\n",
       "</table>\n",
       "<p>52586280 rows × 1 columns</p>\n",
       "</div>"
      ],
      "text/plain": [
       "              DATE\n",
       "0         20100101\n",
       "1         20100101\n",
       "2         20100101\n",
       "3         20100101\n",
       "4         20100101\n",
       "...            ...\n",
       "52586275  20101231\n",
       "52586276  20101231\n",
       "52586277  20101231\n",
       "52586278  20101231\n",
       "52586279  20101231\n",
       "\n",
       "[52586280 rows x 1 columns]"
      ]
     },
     "execution_count": 9,
     "metadata": {},
     "output_type": "execute_result"
    }
   ],
   "source": [
    "import dask.dataframe as dd\n",
    "\n",
    "# Load the CSVs using Dask\n",
    "precip = dd.read_csv('climate_precip.csv', usecols=['DATE'])\n",
    "temp = dd.read_csv('climate_temp.csv', usecols=['DATE'])\n",
    "\n",
    "# Perform the join operation\n",
    "merged_data = dd.merge(precip, temp, on='DATE', how='inner')\n",
    "\n",
    "# Convert to pandas DataFrame (optional)\n",
    "merged_data = merged_data.compute()\n",
    "merged_data\n",
    "\n"
   ]
  },
  {
   "cell_type": "code",
   "execution_count": 10,
   "id": "ef812132",
   "metadata": {
    "scrolled": true
   },
   "outputs": [
    {
     "ename": "ValueError",
     "evalue": "columns overlap but no suffix specified: Index(['DATE'], dtype='object')",
     "output_type": "error",
     "traceback": [
      "\u001b[1;31m---------------------------------------------------------------------------\u001b[0m",
      "\u001b[1;31mValueError\u001b[0m                                Traceback (most recent call last)",
      "Cell \u001b[1;32mIn[10], line 3\u001b[0m\n\u001b[0;32m      1\u001b[0m \u001b[38;5;66;03m#merged_data = pd.join(precip, temp, on='DATE', how='inner')\u001b[39;00m\n\u001b[1;32m----> 3\u001b[0m merged_data \u001b[38;5;241m=\u001b[39m \u001b[43mprecip\u001b[49m\u001b[38;5;241;43m.\u001b[39;49m\u001b[43mjoin\u001b[49m\u001b[43m(\u001b[49m\u001b[43mtemp\u001b[49m\u001b[43m,\u001b[49m\u001b[43m \u001b[49m\u001b[43mhow\u001b[49m\u001b[38;5;241;43m=\u001b[39;49m\u001b[38;5;124;43m'\u001b[39;49m\u001b[38;5;124;43minner\u001b[39;49m\u001b[38;5;124;43m'\u001b[39;49m\u001b[43m)\u001b[49m\n",
      "File \u001b[1;32m~\\anaconda3\\lib\\site-packages\\dask\\dataframe\\core.py:5323\u001b[0m, in \u001b[0;36mDataFrame.join\u001b[1;34m(self, other, on, how, lsuffix, rsuffix, npartitions, shuffle)\u001b[0m\n\u001b[0;32m   5312\u001b[0m         other \u001b[38;5;241m=\u001b[39m _recursive_pairwise_outer_join(\n\u001b[0;32m   5313\u001b[0m             other,\n\u001b[0;32m   5314\u001b[0m             on\u001b[38;5;241m=\u001b[39mon,\n\u001b[1;32m   (...)\u001b[0m\n\u001b[0;32m   5318\u001b[0m             shuffle\u001b[38;5;241m=\u001b[39mshuffle,\n\u001b[0;32m   5319\u001b[0m         )\n\u001b[0;32m   5321\u001b[0m \u001b[38;5;28;01mfrom\u001b[39;00m \u001b[38;5;21;01mdask\u001b[39;00m\u001b[38;5;21;01m.\u001b[39;00m\u001b[38;5;21;01mdataframe\u001b[39;00m\u001b[38;5;21;01m.\u001b[39;00m\u001b[38;5;21;01mmulti\u001b[39;00m \u001b[38;5;28;01mimport\u001b[39;00m merge\n\u001b[1;32m-> 5323\u001b[0m \u001b[38;5;28;01mreturn\u001b[39;00m \u001b[43mmerge\u001b[49m\u001b[43m(\u001b[49m\n\u001b[0;32m   5324\u001b[0m \u001b[43m    \u001b[49m\u001b[38;5;28;43mself\u001b[39;49m\u001b[43m,\u001b[49m\n\u001b[0;32m   5325\u001b[0m \u001b[43m    \u001b[49m\u001b[43mother\u001b[49m\u001b[43m,\u001b[49m\n\u001b[0;32m   5326\u001b[0m \u001b[43m    \u001b[49m\u001b[43mhow\u001b[49m\u001b[38;5;241;43m=\u001b[39;49m\u001b[43mhow\u001b[49m\u001b[43m,\u001b[49m\n\u001b[0;32m   5327\u001b[0m \u001b[43m    \u001b[49m\u001b[43mleft_index\u001b[49m\u001b[38;5;241;43m=\u001b[39;49m\u001b[43mon\u001b[49m\u001b[43m \u001b[49m\u001b[38;5;129;43;01mis\u001b[39;49;00m\u001b[43m \u001b[49m\u001b[38;5;28;43;01mNone\u001b[39;49;00m\u001b[43m,\u001b[49m\n\u001b[0;32m   5328\u001b[0m \u001b[43m    \u001b[49m\u001b[43mright_index\u001b[49m\u001b[38;5;241;43m=\u001b[39;49m\u001b[38;5;28;43;01mTrue\u001b[39;49;00m\u001b[43m,\u001b[49m\n\u001b[0;32m   5329\u001b[0m \u001b[43m    \u001b[49m\u001b[43mleft_on\u001b[49m\u001b[38;5;241;43m=\u001b[39;49m\u001b[43mon\u001b[49m\u001b[43m,\u001b[49m\n\u001b[0;32m   5330\u001b[0m \u001b[43m    \u001b[49m\u001b[43msuffixes\u001b[49m\u001b[38;5;241;43m=\u001b[39;49m\u001b[43m(\u001b[49m\u001b[43mlsuffix\u001b[49m\u001b[43m,\u001b[49m\u001b[43m \u001b[49m\u001b[43mrsuffix\u001b[49m\u001b[43m)\u001b[49m\u001b[43m,\u001b[49m\n\u001b[0;32m   5331\u001b[0m \u001b[43m    \u001b[49m\u001b[43mnpartitions\u001b[49m\u001b[38;5;241;43m=\u001b[39;49m\u001b[43mnpartitions\u001b[49m\u001b[43m,\u001b[49m\n\u001b[0;32m   5332\u001b[0m \u001b[43m    \u001b[49m\u001b[43mshuffle\u001b[49m\u001b[38;5;241;43m=\u001b[39;49m\u001b[43mshuffle\u001b[49m\u001b[43m,\u001b[49m\n\u001b[0;32m   5333\u001b[0m \u001b[43m\u001b[49m\u001b[43m)\u001b[49m\n",
      "File \u001b[1;32m~\\anaconda3\\lib\\site-packages\\dask\\dataframe\\multi.py:584\u001b[0m, in \u001b[0;36mmerge\u001b[1;34m(left, right, how, on, left_on, right_on, left_index, right_index, suffixes, indicator, npartitions, shuffle, max_branch, broadcast)\u001b[0m\n\u001b[0;32m    576\u001b[0m \u001b[38;5;66;03m# Single partition on one side\u001b[39;00m\n\u001b[0;32m    577\u001b[0m \u001b[38;5;66;03m# Note that cudf supports \"leftsemi\" and \"leftanti\" joins\u001b[39;00m\n\u001b[0;32m    578\u001b[0m \u001b[38;5;28;01melif\u001b[39;00m (\n\u001b[0;32m    579\u001b[0m     left\u001b[38;5;241m.\u001b[39mnpartitions \u001b[38;5;241m==\u001b[39m \u001b[38;5;241m1\u001b[39m\n\u001b[0;32m    580\u001b[0m     \u001b[38;5;129;01mand\u001b[39;00m how \u001b[38;5;129;01min\u001b[39;00m allowed_right\n\u001b[0;32m    581\u001b[0m     \u001b[38;5;129;01mor\u001b[39;00m right\u001b[38;5;241m.\u001b[39mnpartitions \u001b[38;5;241m==\u001b[39m \u001b[38;5;241m1\u001b[39m\n\u001b[0;32m    582\u001b[0m     \u001b[38;5;129;01mand\u001b[39;00m how \u001b[38;5;129;01min\u001b[39;00m allowed_left\n\u001b[0;32m    583\u001b[0m ):\n\u001b[1;32m--> 584\u001b[0m     \u001b[38;5;28;01mreturn\u001b[39;00m \u001b[43msingle_partition_join\u001b[49m\u001b[43m(\u001b[49m\n\u001b[0;32m    585\u001b[0m \u001b[43m        \u001b[49m\u001b[43mleft\u001b[49m\u001b[43m,\u001b[49m\n\u001b[0;32m    586\u001b[0m \u001b[43m        \u001b[49m\u001b[43mright\u001b[49m\u001b[43m,\u001b[49m\n\u001b[0;32m    587\u001b[0m \u001b[43m        \u001b[49m\u001b[43mhow\u001b[49m\u001b[38;5;241;43m=\u001b[39;49m\u001b[43mhow\u001b[49m\u001b[43m,\u001b[49m\n\u001b[0;32m    588\u001b[0m \u001b[43m        \u001b[49m\u001b[43mright_on\u001b[49m\u001b[38;5;241;43m=\u001b[39;49m\u001b[43mright_on\u001b[49m\u001b[43m,\u001b[49m\n\u001b[0;32m    589\u001b[0m \u001b[43m        \u001b[49m\u001b[43mleft_on\u001b[49m\u001b[38;5;241;43m=\u001b[39;49m\u001b[43mleft_on\u001b[49m\u001b[43m,\u001b[49m\n\u001b[0;32m    590\u001b[0m \u001b[43m        \u001b[49m\u001b[43mleft_index\u001b[49m\u001b[38;5;241;43m=\u001b[39;49m\u001b[43mleft_index\u001b[49m\u001b[43m,\u001b[49m\n\u001b[0;32m    591\u001b[0m \u001b[43m        \u001b[49m\u001b[43mright_index\u001b[49m\u001b[38;5;241;43m=\u001b[39;49m\u001b[43mright_index\u001b[49m\u001b[43m,\u001b[49m\n\u001b[0;32m    592\u001b[0m \u001b[43m        \u001b[49m\u001b[43msuffixes\u001b[49m\u001b[38;5;241;43m=\u001b[39;49m\u001b[43msuffixes\u001b[49m\u001b[43m,\u001b[49m\n\u001b[0;32m    593\u001b[0m \u001b[43m        \u001b[49m\u001b[43mindicator\u001b[49m\u001b[38;5;241;43m=\u001b[39;49m\u001b[43mindicator\u001b[49m\u001b[43m,\u001b[49m\n\u001b[0;32m    594\u001b[0m \u001b[43m    \u001b[49m\u001b[43m)\u001b[49m\n\u001b[0;32m    596\u001b[0m \u001b[38;5;66;03m# One side is indexed, the other not\u001b[39;00m\n\u001b[0;32m    597\u001b[0m \u001b[38;5;28;01melif\u001b[39;00m (\n\u001b[0;32m    598\u001b[0m     left_index\n\u001b[0;32m    599\u001b[0m     \u001b[38;5;129;01mand\u001b[39;00m left\u001b[38;5;241m.\u001b[39mknown_divisions\n\u001b[1;32m   (...)\u001b[0m\n\u001b[0;32m    603\u001b[0m     \u001b[38;5;129;01mand\u001b[39;00m \u001b[38;5;129;01mnot\u001b[39;00m left_index\n\u001b[0;32m    604\u001b[0m ):\n",
      "File \u001b[1;32m~\\anaconda3\\lib\\site-packages\\dask\\dataframe\\multi.py:399\u001b[0m, in \u001b[0;36msingle_partition_join\u001b[1;34m(left, right, **kwargs)\u001b[0m\n\u001b[0;32m    395\u001b[0m \u001b[38;5;28;01mdef\u001b[39;00m \u001b[38;5;21msingle_partition_join\u001b[39m(left, right, \u001b[38;5;241m*\u001b[39m\u001b[38;5;241m*\u001b[39mkwargs):\n\u001b[0;32m    396\u001b[0m     \u001b[38;5;66;03m# if the merge is performed on_index, divisions can be kept, otherwise the\u001b[39;00m\n\u001b[0;32m    397\u001b[0m     \u001b[38;5;66;03m# new index will not necessarily correspond with the current divisions\u001b[39;00m\n\u001b[1;32m--> 399\u001b[0m     meta \u001b[38;5;241m=\u001b[39m left\u001b[38;5;241m.\u001b[39m_meta_nonempty\u001b[38;5;241m.\u001b[39mmerge(right\u001b[38;5;241m.\u001b[39m_meta_nonempty, \u001b[38;5;241m*\u001b[39m\u001b[38;5;241m*\u001b[39mkwargs)\n\u001b[0;32m    401\u001b[0m     use_left \u001b[38;5;241m=\u001b[39m kwargs\u001b[38;5;241m.\u001b[39mget(\u001b[38;5;124m\"\u001b[39m\u001b[38;5;124mright_index\u001b[39m\u001b[38;5;124m\"\u001b[39m) \u001b[38;5;129;01mor\u001b[39;00m right\u001b[38;5;241m.\u001b[39m_contains_index_name(\n\u001b[0;32m    402\u001b[0m         kwargs\u001b[38;5;241m.\u001b[39mget(\u001b[38;5;124m\"\u001b[39m\u001b[38;5;124mright_on\u001b[39m\u001b[38;5;124m\"\u001b[39m)\n\u001b[0;32m    403\u001b[0m     )\n\u001b[0;32m    404\u001b[0m     use_right \u001b[38;5;241m=\u001b[39m kwargs\u001b[38;5;241m.\u001b[39mget(\u001b[38;5;124m\"\u001b[39m\u001b[38;5;124mleft_index\u001b[39m\u001b[38;5;124m\"\u001b[39m) \u001b[38;5;129;01mor\u001b[39;00m left\u001b[38;5;241m.\u001b[39m_contains_index_name(\n\u001b[0;32m    405\u001b[0m         kwargs\u001b[38;5;241m.\u001b[39mget(\u001b[38;5;124m\"\u001b[39m\u001b[38;5;124mleft_on\u001b[39m\u001b[38;5;124m\"\u001b[39m)\n\u001b[0;32m    406\u001b[0m     )\n",
      "File \u001b[1;32m~\\anaconda3\\lib\\site-packages\\pandas\\core\\frame.py:10093\u001b[0m, in \u001b[0;36mDataFrame.merge\u001b[1;34m(self, right, how, on, left_on, right_on, left_index, right_index, sort, suffixes, copy, indicator, validate)\u001b[0m\n\u001b[0;32m  10074\u001b[0m \u001b[38;5;129m@Substitution\u001b[39m(\u001b[38;5;124m\"\u001b[39m\u001b[38;5;124m\"\u001b[39m)\n\u001b[0;32m  10075\u001b[0m \u001b[38;5;129m@Appender\u001b[39m(_merge_doc, indents\u001b[38;5;241m=\u001b[39m\u001b[38;5;241m2\u001b[39m)\n\u001b[0;32m  10076\u001b[0m \u001b[38;5;28;01mdef\u001b[39;00m \u001b[38;5;21mmerge\u001b[39m(\n\u001b[1;32m   (...)\u001b[0m\n\u001b[0;32m  10089\u001b[0m     validate: \u001b[38;5;28mstr\u001b[39m \u001b[38;5;241m|\u001b[39m \u001b[38;5;28;01mNone\u001b[39;00m \u001b[38;5;241m=\u001b[39m \u001b[38;5;28;01mNone\u001b[39;00m,\n\u001b[0;32m  10090\u001b[0m ) \u001b[38;5;241m-\u001b[39m\u001b[38;5;241m>\u001b[39m DataFrame:\n\u001b[0;32m  10091\u001b[0m     \u001b[38;5;28;01mfrom\u001b[39;00m \u001b[38;5;21;01mpandas\u001b[39;00m\u001b[38;5;21;01m.\u001b[39;00m\u001b[38;5;21;01mcore\u001b[39;00m\u001b[38;5;21;01m.\u001b[39;00m\u001b[38;5;21;01mreshape\u001b[39;00m\u001b[38;5;21;01m.\u001b[39;00m\u001b[38;5;21;01mmerge\u001b[39;00m \u001b[38;5;28;01mimport\u001b[39;00m merge\n\u001b[1;32m> 10093\u001b[0m     \u001b[38;5;28;01mreturn\u001b[39;00m \u001b[43mmerge\u001b[49m\u001b[43m(\u001b[49m\n\u001b[0;32m  10094\u001b[0m \u001b[43m        \u001b[49m\u001b[38;5;28;43mself\u001b[39;49m\u001b[43m,\u001b[49m\n\u001b[0;32m  10095\u001b[0m \u001b[43m        \u001b[49m\u001b[43mright\u001b[49m\u001b[43m,\u001b[49m\n\u001b[0;32m  10096\u001b[0m \u001b[43m        \u001b[49m\u001b[43mhow\u001b[49m\u001b[38;5;241;43m=\u001b[39;49m\u001b[43mhow\u001b[49m\u001b[43m,\u001b[49m\n\u001b[0;32m  10097\u001b[0m \u001b[43m        \u001b[49m\u001b[43mon\u001b[49m\u001b[38;5;241;43m=\u001b[39;49m\u001b[43mon\u001b[49m\u001b[43m,\u001b[49m\n\u001b[0;32m  10098\u001b[0m \u001b[43m        \u001b[49m\u001b[43mleft_on\u001b[49m\u001b[38;5;241;43m=\u001b[39;49m\u001b[43mleft_on\u001b[49m\u001b[43m,\u001b[49m\n\u001b[0;32m  10099\u001b[0m \u001b[43m        \u001b[49m\u001b[43mright_on\u001b[49m\u001b[38;5;241;43m=\u001b[39;49m\u001b[43mright_on\u001b[49m\u001b[43m,\u001b[49m\n\u001b[0;32m  10100\u001b[0m \u001b[43m        \u001b[49m\u001b[43mleft_index\u001b[49m\u001b[38;5;241;43m=\u001b[39;49m\u001b[43mleft_index\u001b[49m\u001b[43m,\u001b[49m\n\u001b[0;32m  10101\u001b[0m \u001b[43m        \u001b[49m\u001b[43mright_index\u001b[49m\u001b[38;5;241;43m=\u001b[39;49m\u001b[43mright_index\u001b[49m\u001b[43m,\u001b[49m\n\u001b[0;32m  10102\u001b[0m \u001b[43m        \u001b[49m\u001b[43msort\u001b[49m\u001b[38;5;241;43m=\u001b[39;49m\u001b[43msort\u001b[49m\u001b[43m,\u001b[49m\n\u001b[0;32m  10103\u001b[0m \u001b[43m        \u001b[49m\u001b[43msuffixes\u001b[49m\u001b[38;5;241;43m=\u001b[39;49m\u001b[43msuffixes\u001b[49m\u001b[43m,\u001b[49m\n\u001b[0;32m  10104\u001b[0m \u001b[43m        \u001b[49m\u001b[43mcopy\u001b[49m\u001b[38;5;241;43m=\u001b[39;49m\u001b[43mcopy\u001b[49m\u001b[43m,\u001b[49m\n\u001b[0;32m  10105\u001b[0m \u001b[43m        \u001b[49m\u001b[43mindicator\u001b[49m\u001b[38;5;241;43m=\u001b[39;49m\u001b[43mindicator\u001b[49m\u001b[43m,\u001b[49m\n\u001b[0;32m  10106\u001b[0m \u001b[43m        \u001b[49m\u001b[43mvalidate\u001b[49m\u001b[38;5;241;43m=\u001b[39;49m\u001b[43mvalidate\u001b[49m\u001b[43m,\u001b[49m\n\u001b[0;32m  10107\u001b[0m \u001b[43m    \u001b[49m\u001b[43m)\u001b[49m\n",
      "File \u001b[1;32m~\\anaconda3\\lib\\site-packages\\pandas\\core\\reshape\\merge.py:124\u001b[0m, in \u001b[0;36mmerge\u001b[1;34m(left, right, how, on, left_on, right_on, left_index, right_index, sort, suffixes, copy, indicator, validate)\u001b[0m\n\u001b[0;32m     93\u001b[0m \u001b[38;5;129m@Substitution\u001b[39m(\u001b[38;5;124m\"\u001b[39m\u001b[38;5;130;01m\\n\u001b[39;00m\u001b[38;5;124mleft : DataFrame or named Series\u001b[39m\u001b[38;5;124m\"\u001b[39m)\n\u001b[0;32m     94\u001b[0m \u001b[38;5;129m@Appender\u001b[39m(_merge_doc, indents\u001b[38;5;241m=\u001b[39m\u001b[38;5;241m0\u001b[39m)\n\u001b[0;32m     95\u001b[0m \u001b[38;5;28;01mdef\u001b[39;00m \u001b[38;5;21mmerge\u001b[39m(\n\u001b[1;32m   (...)\u001b[0m\n\u001b[0;32m    108\u001b[0m     validate: \u001b[38;5;28mstr\u001b[39m \u001b[38;5;241m|\u001b[39m \u001b[38;5;28;01mNone\u001b[39;00m \u001b[38;5;241m=\u001b[39m \u001b[38;5;28;01mNone\u001b[39;00m,\n\u001b[0;32m    109\u001b[0m ) \u001b[38;5;241m-\u001b[39m\u001b[38;5;241m>\u001b[39m DataFrame:\n\u001b[0;32m    110\u001b[0m     op \u001b[38;5;241m=\u001b[39m _MergeOperation(\n\u001b[0;32m    111\u001b[0m         left,\n\u001b[0;32m    112\u001b[0m         right,\n\u001b[1;32m   (...)\u001b[0m\n\u001b[0;32m    122\u001b[0m         validate\u001b[38;5;241m=\u001b[39mvalidate,\n\u001b[0;32m    123\u001b[0m     )\n\u001b[1;32m--> 124\u001b[0m     \u001b[38;5;28;01mreturn\u001b[39;00m \u001b[43mop\u001b[49m\u001b[38;5;241;43m.\u001b[39;49m\u001b[43mget_result\u001b[49m\u001b[43m(\u001b[49m\u001b[43mcopy\u001b[49m\u001b[38;5;241;43m=\u001b[39;49m\u001b[43mcopy\u001b[49m\u001b[43m)\u001b[49m\n",
      "File \u001b[1;32m~\\anaconda3\\lib\\site-packages\\pandas\\core\\reshape\\merge.py:775\u001b[0m, in \u001b[0;36m_MergeOperation.get_result\u001b[1;34m(self, copy)\u001b[0m\n\u001b[0;32m    771\u001b[0m     \u001b[38;5;28mself\u001b[39m\u001b[38;5;241m.\u001b[39mleft, \u001b[38;5;28mself\u001b[39m\u001b[38;5;241m.\u001b[39mright \u001b[38;5;241m=\u001b[39m \u001b[38;5;28mself\u001b[39m\u001b[38;5;241m.\u001b[39m_indicator_pre_merge(\u001b[38;5;28mself\u001b[39m\u001b[38;5;241m.\u001b[39mleft, \u001b[38;5;28mself\u001b[39m\u001b[38;5;241m.\u001b[39mright)\n\u001b[0;32m    773\u001b[0m join_index, left_indexer, right_indexer \u001b[38;5;241m=\u001b[39m \u001b[38;5;28mself\u001b[39m\u001b[38;5;241m.\u001b[39m_get_join_info()\n\u001b[1;32m--> 775\u001b[0m result \u001b[38;5;241m=\u001b[39m \u001b[38;5;28;43mself\u001b[39;49m\u001b[38;5;241;43m.\u001b[39;49m\u001b[43m_reindex_and_concat\u001b[49m\u001b[43m(\u001b[49m\n\u001b[0;32m    776\u001b[0m \u001b[43m    \u001b[49m\u001b[43mjoin_index\u001b[49m\u001b[43m,\u001b[49m\u001b[43m \u001b[49m\u001b[43mleft_indexer\u001b[49m\u001b[43m,\u001b[49m\u001b[43m \u001b[49m\u001b[43mright_indexer\u001b[49m\u001b[43m,\u001b[49m\u001b[43m \u001b[49m\u001b[43mcopy\u001b[49m\u001b[38;5;241;43m=\u001b[39;49m\u001b[43mcopy\u001b[49m\n\u001b[0;32m    777\u001b[0m \u001b[43m\u001b[49m\u001b[43m)\u001b[49m\n\u001b[0;32m    778\u001b[0m result \u001b[38;5;241m=\u001b[39m result\u001b[38;5;241m.\u001b[39m__finalize__(\u001b[38;5;28mself\u001b[39m, method\u001b[38;5;241m=\u001b[39m\u001b[38;5;28mself\u001b[39m\u001b[38;5;241m.\u001b[39m_merge_type)\n\u001b[0;32m    780\u001b[0m \u001b[38;5;28;01mif\u001b[39;00m \u001b[38;5;28mself\u001b[39m\u001b[38;5;241m.\u001b[39mindicator:\n",
      "File \u001b[1;32m~\\anaconda3\\lib\\site-packages\\pandas\\core\\reshape\\merge.py:729\u001b[0m, in \u001b[0;36m_MergeOperation._reindex_and_concat\u001b[1;34m(self, join_index, left_indexer, right_indexer, copy)\u001b[0m\n\u001b[0;32m    726\u001b[0m left \u001b[38;5;241m=\u001b[39m \u001b[38;5;28mself\u001b[39m\u001b[38;5;241m.\u001b[39mleft[:]\n\u001b[0;32m    727\u001b[0m right \u001b[38;5;241m=\u001b[39m \u001b[38;5;28mself\u001b[39m\u001b[38;5;241m.\u001b[39mright[:]\n\u001b[1;32m--> 729\u001b[0m llabels, rlabels \u001b[38;5;241m=\u001b[39m \u001b[43m_items_overlap_with_suffix\u001b[49m\u001b[43m(\u001b[49m\n\u001b[0;32m    730\u001b[0m \u001b[43m    \u001b[49m\u001b[38;5;28;43mself\u001b[39;49m\u001b[38;5;241;43m.\u001b[39;49m\u001b[43mleft\u001b[49m\u001b[38;5;241;43m.\u001b[39;49m\u001b[43m_info_axis\u001b[49m\u001b[43m,\u001b[49m\u001b[43m \u001b[49m\u001b[38;5;28;43mself\u001b[39;49m\u001b[38;5;241;43m.\u001b[39;49m\u001b[43mright\u001b[49m\u001b[38;5;241;43m.\u001b[39;49m\u001b[43m_info_axis\u001b[49m\u001b[43m,\u001b[49m\u001b[43m \u001b[49m\u001b[38;5;28;43mself\u001b[39;49m\u001b[38;5;241;43m.\u001b[39;49m\u001b[43msuffixes\u001b[49m\n\u001b[0;32m    731\u001b[0m \u001b[43m\u001b[49m\u001b[43m)\u001b[49m\n\u001b[0;32m    733\u001b[0m \u001b[38;5;28;01mif\u001b[39;00m left_indexer \u001b[38;5;129;01mis\u001b[39;00m \u001b[38;5;129;01mnot\u001b[39;00m \u001b[38;5;28;01mNone\u001b[39;00m:\n\u001b[0;32m    734\u001b[0m     \u001b[38;5;66;03m# Pinning the index here (and in the right code just below) is not\u001b[39;00m\n\u001b[0;32m    735\u001b[0m     \u001b[38;5;66;03m#  necessary, but makes the `.take` more performant if we have e.g.\u001b[39;00m\n\u001b[0;32m    736\u001b[0m     \u001b[38;5;66;03m#  a MultiIndex for left.index.\u001b[39;00m\n\u001b[0;32m    737\u001b[0m     lmgr \u001b[38;5;241m=\u001b[39m left\u001b[38;5;241m.\u001b[39m_mgr\u001b[38;5;241m.\u001b[39mreindex_indexer(\n\u001b[0;32m    738\u001b[0m         join_index,\n\u001b[0;32m    739\u001b[0m         left_indexer,\n\u001b[1;32m   (...)\u001b[0m\n\u001b[0;32m    744\u001b[0m         use_na_proxy\u001b[38;5;241m=\u001b[39m\u001b[38;5;28;01mTrue\u001b[39;00m,\n\u001b[0;32m    745\u001b[0m     )\n",
      "File \u001b[1;32m~\\anaconda3\\lib\\site-packages\\pandas\\core\\reshape\\merge.py:2458\u001b[0m, in \u001b[0;36m_items_overlap_with_suffix\u001b[1;34m(left, right, suffixes)\u001b[0m\n\u001b[0;32m   2455\u001b[0m lsuffix, rsuffix \u001b[38;5;241m=\u001b[39m suffixes\n\u001b[0;32m   2457\u001b[0m \u001b[38;5;28;01mif\u001b[39;00m \u001b[38;5;129;01mnot\u001b[39;00m lsuffix \u001b[38;5;129;01mand\u001b[39;00m \u001b[38;5;129;01mnot\u001b[39;00m rsuffix:\n\u001b[1;32m-> 2458\u001b[0m     \u001b[38;5;28;01mraise\u001b[39;00m \u001b[38;5;167;01mValueError\u001b[39;00m(\u001b[38;5;124mf\u001b[39m\u001b[38;5;124m\"\u001b[39m\u001b[38;5;124mcolumns overlap but no suffix specified: \u001b[39m\u001b[38;5;132;01m{\u001b[39;00mto_rename\u001b[38;5;132;01m}\u001b[39;00m\u001b[38;5;124m\"\u001b[39m)\n\u001b[0;32m   2460\u001b[0m \u001b[38;5;28;01mdef\u001b[39;00m \u001b[38;5;21mrenamer\u001b[39m(x, suffix):\n\u001b[0;32m   2461\u001b[0m     \u001b[38;5;124;03m\"\"\"\u001b[39;00m\n\u001b[0;32m   2462\u001b[0m \u001b[38;5;124;03m    Rename the left and right indices.\u001b[39;00m\n\u001b[0;32m   2463\u001b[0m \n\u001b[1;32m   (...)\u001b[0m\n\u001b[0;32m   2474\u001b[0m \u001b[38;5;124;03m    x : renamed column name\u001b[39;00m\n\u001b[0;32m   2475\u001b[0m \u001b[38;5;124;03m    \"\"\"\u001b[39;00m\n",
      "\u001b[1;31mValueError\u001b[0m: columns overlap but no suffix specified: Index(['DATE'], dtype='object')"
     ]
    }
   ],
   "source": [
    "#merged_data = pd.join(precip, temp, on='DATE', how='inner')\n",
    "\n",
    "merged_data = precip.join(temp, how='inner')\n"
   ]
  },
  {
   "cell_type": "markdown",
   "id": "de49a394",
   "metadata": {},
   "source": [
    "<h4> Inner Join </h4>"
   ]
  },
  {
   "cell_type": "code",
   "execution_count": 11,
   "id": "65538753",
   "metadata": {
    "scrolled": true
   },
   "outputs": [
    {
     "ename": "ValueError",
     "evalue": "Metadata inference failed in `query`.\n\nYou have supplied a custom function and Dask is unable to \ndetermine the type of output that that function returns. \n\nTo resolve this please provide a meta= keyword.\nThe docstring of the Dask function you ran should have more information.\n\nOriginal error is below:\n------------------------\nUndefinedVariableError(\"name 'STATION' is not defined\")\n\nTraceback:\n---------\n  File \"C:\\Users\\toby\\anaconda3\\lib\\site-packages\\dask\\dataframe\\utils.py\", line 182, in raise_on_meta_error\n    yield\n  File \"C:\\Users\\toby\\anaconda3\\lib\\site-packages\\dask\\dataframe\\core.py\", line 6406, in _emulate\n    return func(*_extract_meta(args, True), **_extract_meta(kwargs, True))\n  File \"C:\\Users\\toby\\anaconda3\\lib\\site-packages\\dask\\utils.py\", line 1070, in __call__\n    return getattr(__obj, self.method)(*args, **kwargs)\n  File \"C:\\Users\\toby\\anaconda3\\lib\\site-packages\\pandas\\util\\_decorators.py\", line 331, in wrapper\n    return func(*args, **kwargs)\n  File \"C:\\Users\\toby\\anaconda3\\lib\\site-packages\\pandas\\core\\frame.py\", line 4474, in query\n    res = self.eval(expr, **kwargs)\n  File \"C:\\Users\\toby\\anaconda3\\lib\\site-packages\\pandas\\util\\_decorators.py\", line 331, in wrapper\n    return func(*args, **kwargs)\n  File \"C:\\Users\\toby\\anaconda3\\lib\\site-packages\\pandas\\core\\frame.py\", line 4612, in eval\n    return _eval(expr, inplace=inplace, **kwargs)\n  File \"C:\\Users\\toby\\anaconda3\\lib\\site-packages\\pandas\\core\\computation\\eval.py\", line 353, in eval\n    parsed_expr = Expr(expr, engine=engine, parser=parser, env=env)\n  File \"C:\\Users\\toby\\anaconda3\\lib\\site-packages\\pandas\\core\\computation\\expr.py\", line 813, in __init__\n    self.terms = self.parse()\n  File \"C:\\Users\\toby\\anaconda3\\lib\\site-packages\\pandas\\core\\computation\\expr.py\", line 832, in parse\n    return self._visitor.visit(self.expr)\n  File \"C:\\Users\\toby\\anaconda3\\lib\\site-packages\\pandas\\core\\computation\\expr.py\", line 415, in visit\n    return visitor(node, **kwargs)\n  File \"C:\\Users\\toby\\anaconda3\\lib\\site-packages\\pandas\\core\\computation\\expr.py\", line 421, in visit_Module\n    return self.visit(expr, **kwargs)\n  File \"C:\\Users\\toby\\anaconda3\\lib\\site-packages\\pandas\\core\\computation\\expr.py\", line 415, in visit\n    return visitor(node, **kwargs)\n  File \"C:\\Users\\toby\\anaconda3\\lib\\site-packages\\pandas\\core\\computation\\expr.py\", line 424, in visit_Expr\n    return self.visit(node.value, **kwargs)\n  File \"C:\\Users\\toby\\anaconda3\\lib\\site-packages\\pandas\\core\\computation\\expr.py\", line 415, in visit\n    return visitor(node, **kwargs)\n  File \"C:\\Users\\toby\\anaconda3\\lib\\site-packages\\pandas\\core\\computation\\expr.py\", line 723, in visit_Compare\n    return self.visit(binop)\n  File \"C:\\Users\\toby\\anaconda3\\lib\\site-packages\\pandas\\core\\computation\\expr.py\", line 415, in visit\n    return visitor(node, **kwargs)\n  File \"C:\\Users\\toby\\anaconda3\\lib\\site-packages\\pandas\\core\\computation\\expr.py\", line 536, in visit_BinOp\n    op, op_class, left, right = self._maybe_transform_eq_ne(node)\n  File \"C:\\Users\\toby\\anaconda3\\lib\\site-packages\\pandas\\core\\computation\\expr.py\", line 456, in _maybe_transform_eq_ne\n    left = self.visit(node.left, side=\"left\")\n  File \"C:\\Users\\toby\\anaconda3\\lib\\site-packages\\pandas\\core\\computation\\expr.py\", line 415, in visit\n    return visitor(node, **kwargs)\n  File \"C:\\Users\\toby\\anaconda3\\lib\\site-packages\\pandas\\core\\computation\\expr.py\", line 549, in visit_Name\n    return self.term_type(node.id, self.env, **kwargs)\n  File \"C:\\Users\\toby\\anaconda3\\lib\\site-packages\\pandas\\core\\computation\\ops.py\", line 85, in __init__\n    self._value = self._resolve_name()\n  File \"C:\\Users\\toby\\anaconda3\\lib\\site-packages\\pandas\\core\\computation\\ops.py\", line 109, in _resolve_name\n    res = self.env.resolve(local_name, is_local=is_local)\n  File \"C:\\Users\\toby\\anaconda3\\lib\\site-packages\\pandas\\core\\computation\\scope.py\", line 211, in resolve\n    raise UndefinedVariableError(key, is_local) from err\n",
     "output_type": "error",
     "traceback": [
      "\u001b[1;31m---------------------------------------------------------------------------\u001b[0m",
      "\u001b[1;31mKeyError\u001b[0m                                  Traceback (most recent call last)",
      "File \u001b[1;32m~\\anaconda3\\lib\\site-packages\\pandas\\core\\computation\\scope.py:198\u001b[0m, in \u001b[0;36mScope.resolve\u001b[1;34m(self, key, is_local)\u001b[0m\n\u001b[0;32m    197\u001b[0m \u001b[38;5;28;01mif\u001b[39;00m \u001b[38;5;28mself\u001b[39m\u001b[38;5;241m.\u001b[39mhas_resolvers:\n\u001b[1;32m--> 198\u001b[0m     \u001b[38;5;28;01mreturn\u001b[39;00m \u001b[38;5;28;43mself\u001b[39;49m\u001b[38;5;241;43m.\u001b[39;49m\u001b[43mresolvers\u001b[49m\u001b[43m[\u001b[49m\u001b[43mkey\u001b[49m\u001b[43m]\u001b[49m\n\u001b[0;32m    200\u001b[0m \u001b[38;5;66;03m# if we're here that means that we have no locals and we also have\u001b[39;00m\n\u001b[0;32m    201\u001b[0m \u001b[38;5;66;03m# no resolvers\u001b[39;00m\n",
      "File \u001b[1;32m~\\anaconda3\\lib\\collections\\__init__.py:986\u001b[0m, in \u001b[0;36mChainMap.__getitem__\u001b[1;34m(self, key)\u001b[0m\n\u001b[0;32m    985\u001b[0m         \u001b[38;5;28;01mpass\u001b[39;00m\n\u001b[1;32m--> 986\u001b[0m \u001b[38;5;28;01mreturn\u001b[39;00m \u001b[38;5;28;43mself\u001b[39;49m\u001b[38;5;241;43m.\u001b[39;49m\u001b[38;5;21;43m__missing__\u001b[39;49m\u001b[43m(\u001b[49m\u001b[43mkey\u001b[49m\u001b[43m)\u001b[49m\n",
      "File \u001b[1;32m~\\anaconda3\\lib\\collections\\__init__.py:978\u001b[0m, in \u001b[0;36mChainMap.__missing__\u001b[1;34m(self, key)\u001b[0m\n\u001b[0;32m    977\u001b[0m \u001b[38;5;28;01mdef\u001b[39;00m \u001b[38;5;21m__missing__\u001b[39m(\u001b[38;5;28mself\u001b[39m, key):\n\u001b[1;32m--> 978\u001b[0m     \u001b[38;5;28;01mraise\u001b[39;00m \u001b[38;5;167;01mKeyError\u001b[39;00m(key)\n",
      "\u001b[1;31mKeyError\u001b[0m: 'STATION'",
      "\nDuring handling of the above exception, another exception occurred:\n",
      "\u001b[1;31mKeyError\u001b[0m                                  Traceback (most recent call last)",
      "File \u001b[1;32m~\\anaconda3\\lib\\site-packages\\pandas\\core\\computation\\scope.py:209\u001b[0m, in \u001b[0;36mScope.resolve\u001b[1;34m(self, key, is_local)\u001b[0m\n\u001b[0;32m    205\u001b[0m \u001b[38;5;28;01mtry\u001b[39;00m:\n\u001b[0;32m    206\u001b[0m     \u001b[38;5;66;03m# last ditch effort we look in temporaries\u001b[39;00m\n\u001b[0;32m    207\u001b[0m     \u001b[38;5;66;03m# these are created when parsing indexing expressions\u001b[39;00m\n\u001b[0;32m    208\u001b[0m     \u001b[38;5;66;03m# e.g., df[df > 0]\u001b[39;00m\n\u001b[1;32m--> 209\u001b[0m     \u001b[38;5;28;01mreturn\u001b[39;00m \u001b[38;5;28;43mself\u001b[39;49m\u001b[38;5;241;43m.\u001b[39;49m\u001b[43mtemps\u001b[49m\u001b[43m[\u001b[49m\u001b[43mkey\u001b[49m\u001b[43m]\u001b[49m\n\u001b[0;32m    210\u001b[0m \u001b[38;5;28;01mexcept\u001b[39;00m \u001b[38;5;167;01mKeyError\u001b[39;00m \u001b[38;5;28;01mas\u001b[39;00m err:\n",
      "\u001b[1;31mKeyError\u001b[0m: 'STATION'",
      "\nThe above exception was the direct cause of the following exception:\n",
      "\u001b[1;31mUndefinedVariableError\u001b[0m                    Traceback (most recent call last)",
      "File \u001b[1;32m~\\anaconda3\\lib\\site-packages\\dask\\dataframe\\utils.py:182\u001b[0m, in \u001b[0;36mraise_on_meta_error\u001b[1;34m(funcname, udf)\u001b[0m\n\u001b[0;32m    181\u001b[0m \u001b[38;5;28;01mtry\u001b[39;00m:\n\u001b[1;32m--> 182\u001b[0m     \u001b[38;5;28;01myield\u001b[39;00m\n\u001b[0;32m    183\u001b[0m \u001b[38;5;28;01mexcept\u001b[39;00m \u001b[38;5;167;01mException\u001b[39;00m \u001b[38;5;28;01mas\u001b[39;00m e:\n",
      "File \u001b[1;32m~\\anaconda3\\lib\\site-packages\\dask\\dataframe\\core.py:6406\u001b[0m, in \u001b[0;36m_emulate\u001b[1;34m(func, udf, *args, **kwargs)\u001b[0m\n\u001b[0;32m   6405\u001b[0m \u001b[38;5;28;01mwith\u001b[39;00m raise_on_meta_error(funcname(func), udf\u001b[38;5;241m=\u001b[39mudf):\n\u001b[1;32m-> 6406\u001b[0m     \u001b[38;5;28;01mreturn\u001b[39;00m func(\u001b[38;5;241m*\u001b[39m_extract_meta(args, \u001b[38;5;28;01mTrue\u001b[39;00m), \u001b[38;5;241m*\u001b[39m\u001b[38;5;241m*\u001b[39m_extract_meta(kwargs, \u001b[38;5;28;01mTrue\u001b[39;00m))\n",
      "File \u001b[1;32m~\\anaconda3\\lib\\site-packages\\dask\\utils.py:1070\u001b[0m, in \u001b[0;36mmethodcaller.__call__\u001b[1;34m(self, _methodcaller__obj, *args, **kwargs)\u001b[0m\n\u001b[0;32m   1069\u001b[0m \u001b[38;5;28;01mdef\u001b[39;00m \u001b[38;5;21m__call__\u001b[39m(\u001b[38;5;28mself\u001b[39m, __obj, \u001b[38;5;241m*\u001b[39margs, \u001b[38;5;241m*\u001b[39m\u001b[38;5;241m*\u001b[39mkwargs):\n\u001b[1;32m-> 1070\u001b[0m     \u001b[38;5;28;01mreturn\u001b[39;00m \u001b[38;5;28mgetattr\u001b[39m(__obj, \u001b[38;5;28mself\u001b[39m\u001b[38;5;241m.\u001b[39mmethod)(\u001b[38;5;241m*\u001b[39margs, \u001b[38;5;241m*\u001b[39m\u001b[38;5;241m*\u001b[39mkwargs)\n",
      "File \u001b[1;32m~\\anaconda3\\lib\\site-packages\\pandas\\util\\_decorators.py:331\u001b[0m, in \u001b[0;36mdeprecate_nonkeyword_arguments.<locals>.decorate.<locals>.wrapper\u001b[1;34m(*args, **kwargs)\u001b[0m\n\u001b[0;32m    326\u001b[0m     warnings\u001b[38;5;241m.\u001b[39mwarn(\n\u001b[0;32m    327\u001b[0m         msg\u001b[38;5;241m.\u001b[39mformat(arguments\u001b[38;5;241m=\u001b[39m_format_argument_list(allow_args)),\n\u001b[0;32m    328\u001b[0m         \u001b[38;5;167;01mFutureWarning\u001b[39;00m,\n\u001b[0;32m    329\u001b[0m         stacklevel\u001b[38;5;241m=\u001b[39mfind_stack_level(),\n\u001b[0;32m    330\u001b[0m     )\n\u001b[1;32m--> 331\u001b[0m \u001b[38;5;28;01mreturn\u001b[39;00m func(\u001b[38;5;241m*\u001b[39margs, \u001b[38;5;241m*\u001b[39m\u001b[38;5;241m*\u001b[39mkwargs)\n",
      "File \u001b[1;32m~\\anaconda3\\lib\\site-packages\\pandas\\core\\frame.py:4474\u001b[0m, in \u001b[0;36mDataFrame.query\u001b[1;34m(self, expr, inplace, **kwargs)\u001b[0m\n\u001b[0;32m   4473\u001b[0m kwargs[\u001b[38;5;124m\"\u001b[39m\u001b[38;5;124mtarget\u001b[39m\u001b[38;5;124m\"\u001b[39m] \u001b[38;5;241m=\u001b[39m \u001b[38;5;28;01mNone\u001b[39;00m\n\u001b[1;32m-> 4474\u001b[0m res \u001b[38;5;241m=\u001b[39m \u001b[38;5;28mself\u001b[39m\u001b[38;5;241m.\u001b[39meval(expr, \u001b[38;5;241m*\u001b[39m\u001b[38;5;241m*\u001b[39mkwargs)\n\u001b[0;32m   4476\u001b[0m \u001b[38;5;28;01mtry\u001b[39;00m:\n",
      "File \u001b[1;32m~\\anaconda3\\lib\\site-packages\\pandas\\util\\_decorators.py:331\u001b[0m, in \u001b[0;36mdeprecate_nonkeyword_arguments.<locals>.decorate.<locals>.wrapper\u001b[1;34m(*args, **kwargs)\u001b[0m\n\u001b[0;32m    326\u001b[0m     warnings\u001b[38;5;241m.\u001b[39mwarn(\n\u001b[0;32m    327\u001b[0m         msg\u001b[38;5;241m.\u001b[39mformat(arguments\u001b[38;5;241m=\u001b[39m_format_argument_list(allow_args)),\n\u001b[0;32m    328\u001b[0m         \u001b[38;5;167;01mFutureWarning\u001b[39;00m,\n\u001b[0;32m    329\u001b[0m         stacklevel\u001b[38;5;241m=\u001b[39mfind_stack_level(),\n\u001b[0;32m    330\u001b[0m     )\n\u001b[1;32m--> 331\u001b[0m \u001b[38;5;28;01mreturn\u001b[39;00m func(\u001b[38;5;241m*\u001b[39margs, \u001b[38;5;241m*\u001b[39m\u001b[38;5;241m*\u001b[39mkwargs)\n",
      "File \u001b[1;32m~\\anaconda3\\lib\\site-packages\\pandas\\core\\frame.py:4612\u001b[0m, in \u001b[0;36mDataFrame.eval\u001b[1;34m(self, expr, inplace, **kwargs)\u001b[0m\n\u001b[0;32m   4610\u001b[0m kwargs[\u001b[38;5;124m\"\u001b[39m\u001b[38;5;124mresolvers\u001b[39m\u001b[38;5;124m\"\u001b[39m] \u001b[38;5;241m=\u001b[39m \u001b[38;5;28mtuple\u001b[39m(kwargs\u001b[38;5;241m.\u001b[39mget(\u001b[38;5;124m\"\u001b[39m\u001b[38;5;124mresolvers\u001b[39m\u001b[38;5;124m\"\u001b[39m, ())) \u001b[38;5;241m+\u001b[39m resolvers\n\u001b[1;32m-> 4612\u001b[0m \u001b[38;5;28;01mreturn\u001b[39;00m _eval(expr, inplace\u001b[38;5;241m=\u001b[39minplace, \u001b[38;5;241m*\u001b[39m\u001b[38;5;241m*\u001b[39mkwargs)\n",
      "File \u001b[1;32m~\\anaconda3\\lib\\site-packages\\pandas\\core\\computation\\eval.py:353\u001b[0m, in \u001b[0;36meval\u001b[1;34m(expr, parser, engine, truediv, local_dict, global_dict, resolvers, level, target, inplace)\u001b[0m\n\u001b[0;32m    345\u001b[0m env \u001b[38;5;241m=\u001b[39m ensure_scope(\n\u001b[0;32m    346\u001b[0m     level \u001b[38;5;241m+\u001b[39m \u001b[38;5;241m1\u001b[39m,\n\u001b[0;32m    347\u001b[0m     global_dict\u001b[38;5;241m=\u001b[39mglobal_dict,\n\u001b[1;32m   (...)\u001b[0m\n\u001b[0;32m    350\u001b[0m     target\u001b[38;5;241m=\u001b[39mtarget,\n\u001b[0;32m    351\u001b[0m )\n\u001b[1;32m--> 353\u001b[0m parsed_expr \u001b[38;5;241m=\u001b[39m \u001b[43mExpr\u001b[49m\u001b[43m(\u001b[49m\u001b[43mexpr\u001b[49m\u001b[43m,\u001b[49m\u001b[43m \u001b[49m\u001b[43mengine\u001b[49m\u001b[38;5;241;43m=\u001b[39;49m\u001b[43mengine\u001b[49m\u001b[43m,\u001b[49m\u001b[43m \u001b[49m\u001b[43mparser\u001b[49m\u001b[38;5;241;43m=\u001b[39;49m\u001b[43mparser\u001b[49m\u001b[43m,\u001b[49m\u001b[43m \u001b[49m\u001b[43menv\u001b[49m\u001b[38;5;241;43m=\u001b[39;49m\u001b[43menv\u001b[49m\u001b[43m)\u001b[49m\n\u001b[0;32m    355\u001b[0m \u001b[38;5;66;03m# construct the engine and evaluate the parsed expression\u001b[39;00m\n",
      "File \u001b[1;32m~\\anaconda3\\lib\\site-packages\\pandas\\core\\computation\\expr.py:813\u001b[0m, in \u001b[0;36mExpr.__init__\u001b[1;34m(self, expr, engine, parser, env, level)\u001b[0m\n\u001b[0;32m    812\u001b[0m \u001b[38;5;28mself\u001b[39m\u001b[38;5;241m.\u001b[39m_visitor \u001b[38;5;241m=\u001b[39m PARSERS[parser](\u001b[38;5;28mself\u001b[39m\u001b[38;5;241m.\u001b[39menv, \u001b[38;5;28mself\u001b[39m\u001b[38;5;241m.\u001b[39mengine, \u001b[38;5;28mself\u001b[39m\u001b[38;5;241m.\u001b[39mparser)\n\u001b[1;32m--> 813\u001b[0m \u001b[38;5;28mself\u001b[39m\u001b[38;5;241m.\u001b[39mterms \u001b[38;5;241m=\u001b[39m \u001b[38;5;28;43mself\u001b[39;49m\u001b[38;5;241;43m.\u001b[39;49m\u001b[43mparse\u001b[49m\u001b[43m(\u001b[49m\u001b[43m)\u001b[49m\n",
      "File \u001b[1;32m~\\anaconda3\\lib\\site-packages\\pandas\\core\\computation\\expr.py:832\u001b[0m, in \u001b[0;36mExpr.parse\u001b[1;34m(self)\u001b[0m\n\u001b[0;32m    829\u001b[0m \u001b[38;5;124;03m\"\"\"\u001b[39;00m\n\u001b[0;32m    830\u001b[0m \u001b[38;5;124;03mParse an expression.\u001b[39;00m\n\u001b[0;32m    831\u001b[0m \u001b[38;5;124;03m\"\"\"\u001b[39;00m\n\u001b[1;32m--> 832\u001b[0m \u001b[38;5;28;01mreturn\u001b[39;00m \u001b[38;5;28;43mself\u001b[39;49m\u001b[38;5;241;43m.\u001b[39;49m\u001b[43m_visitor\u001b[49m\u001b[38;5;241;43m.\u001b[39;49m\u001b[43mvisit\u001b[49m\u001b[43m(\u001b[49m\u001b[38;5;28;43mself\u001b[39;49m\u001b[38;5;241;43m.\u001b[39;49m\u001b[43mexpr\u001b[49m\u001b[43m)\u001b[49m\n",
      "File \u001b[1;32m~\\anaconda3\\lib\\site-packages\\pandas\\core\\computation\\expr.py:415\u001b[0m, in \u001b[0;36mBaseExprVisitor.visit\u001b[1;34m(self, node, **kwargs)\u001b[0m\n\u001b[0;32m    414\u001b[0m visitor \u001b[38;5;241m=\u001b[39m \u001b[38;5;28mgetattr\u001b[39m(\u001b[38;5;28mself\u001b[39m, method)\n\u001b[1;32m--> 415\u001b[0m \u001b[38;5;28;01mreturn\u001b[39;00m visitor(node, \u001b[38;5;241m*\u001b[39m\u001b[38;5;241m*\u001b[39mkwargs)\n",
      "File \u001b[1;32m~\\anaconda3\\lib\\site-packages\\pandas\\core\\computation\\expr.py:421\u001b[0m, in \u001b[0;36mBaseExprVisitor.visit_Module\u001b[1;34m(self, node, **kwargs)\u001b[0m\n\u001b[0;32m    420\u001b[0m expr \u001b[38;5;241m=\u001b[39m node\u001b[38;5;241m.\u001b[39mbody[\u001b[38;5;241m0\u001b[39m]\n\u001b[1;32m--> 421\u001b[0m \u001b[38;5;28;01mreturn\u001b[39;00m \u001b[38;5;28mself\u001b[39m\u001b[38;5;241m.\u001b[39mvisit(expr, \u001b[38;5;241m*\u001b[39m\u001b[38;5;241m*\u001b[39mkwargs)\n",
      "File \u001b[1;32m~\\anaconda3\\lib\\site-packages\\pandas\\core\\computation\\expr.py:415\u001b[0m, in \u001b[0;36mBaseExprVisitor.visit\u001b[1;34m(self, node, **kwargs)\u001b[0m\n\u001b[0;32m    414\u001b[0m visitor \u001b[38;5;241m=\u001b[39m \u001b[38;5;28mgetattr\u001b[39m(\u001b[38;5;28mself\u001b[39m, method)\n\u001b[1;32m--> 415\u001b[0m \u001b[38;5;28;01mreturn\u001b[39;00m visitor(node, \u001b[38;5;241m*\u001b[39m\u001b[38;5;241m*\u001b[39mkwargs)\n",
      "File \u001b[1;32m~\\anaconda3\\lib\\site-packages\\pandas\\core\\computation\\expr.py:424\u001b[0m, in \u001b[0;36mBaseExprVisitor.visit_Expr\u001b[1;34m(self, node, **kwargs)\u001b[0m\n\u001b[0;32m    423\u001b[0m \u001b[38;5;28;01mdef\u001b[39;00m \u001b[38;5;21mvisit_Expr\u001b[39m(\u001b[38;5;28mself\u001b[39m, node, \u001b[38;5;241m*\u001b[39m\u001b[38;5;241m*\u001b[39mkwargs):\n\u001b[1;32m--> 424\u001b[0m     \u001b[38;5;28;01mreturn\u001b[39;00m \u001b[38;5;28mself\u001b[39m\u001b[38;5;241m.\u001b[39mvisit(node\u001b[38;5;241m.\u001b[39mvalue, \u001b[38;5;241m*\u001b[39m\u001b[38;5;241m*\u001b[39mkwargs)\n",
      "File \u001b[1;32m~\\anaconda3\\lib\\site-packages\\pandas\\core\\computation\\expr.py:415\u001b[0m, in \u001b[0;36mBaseExprVisitor.visit\u001b[1;34m(self, node, **kwargs)\u001b[0m\n\u001b[0;32m    414\u001b[0m visitor \u001b[38;5;241m=\u001b[39m \u001b[38;5;28mgetattr\u001b[39m(\u001b[38;5;28mself\u001b[39m, method)\n\u001b[1;32m--> 415\u001b[0m \u001b[38;5;28;01mreturn\u001b[39;00m visitor(node, \u001b[38;5;241m*\u001b[39m\u001b[38;5;241m*\u001b[39mkwargs)\n",
      "File \u001b[1;32m~\\anaconda3\\lib\\site-packages\\pandas\\core\\computation\\expr.py:723\u001b[0m, in \u001b[0;36mBaseExprVisitor.visit_Compare\u001b[1;34m(self, node, **kwargs)\u001b[0m\n\u001b[0;32m    722\u001b[0m     binop \u001b[38;5;241m=\u001b[39m ast\u001b[38;5;241m.\u001b[39mBinOp(op\u001b[38;5;241m=\u001b[39mop, left\u001b[38;5;241m=\u001b[39mnode\u001b[38;5;241m.\u001b[39mleft, right\u001b[38;5;241m=\u001b[39mcomps[\u001b[38;5;241m0\u001b[39m])\n\u001b[1;32m--> 723\u001b[0m     \u001b[38;5;28;01mreturn\u001b[39;00m \u001b[38;5;28;43mself\u001b[39;49m\u001b[38;5;241;43m.\u001b[39;49m\u001b[43mvisit\u001b[49m\u001b[43m(\u001b[49m\u001b[43mbinop\u001b[49m\u001b[43m)\u001b[49m\n\u001b[0;32m    725\u001b[0m \u001b[38;5;66;03m# recursive case: we have a chained comparison, a CMP b CMP c, etc.\u001b[39;00m\n",
      "File \u001b[1;32m~\\anaconda3\\lib\\site-packages\\pandas\\core\\computation\\expr.py:415\u001b[0m, in \u001b[0;36mBaseExprVisitor.visit\u001b[1;34m(self, node, **kwargs)\u001b[0m\n\u001b[0;32m    414\u001b[0m visitor \u001b[38;5;241m=\u001b[39m \u001b[38;5;28mgetattr\u001b[39m(\u001b[38;5;28mself\u001b[39m, method)\n\u001b[1;32m--> 415\u001b[0m \u001b[38;5;28;01mreturn\u001b[39;00m visitor(node, \u001b[38;5;241m*\u001b[39m\u001b[38;5;241m*\u001b[39mkwargs)\n",
      "File \u001b[1;32m~\\anaconda3\\lib\\site-packages\\pandas\\core\\computation\\expr.py:536\u001b[0m, in \u001b[0;36mBaseExprVisitor.visit_BinOp\u001b[1;34m(self, node, **kwargs)\u001b[0m\n\u001b[0;32m    535\u001b[0m \u001b[38;5;28;01mdef\u001b[39;00m \u001b[38;5;21mvisit_BinOp\u001b[39m(\u001b[38;5;28mself\u001b[39m, node, \u001b[38;5;241m*\u001b[39m\u001b[38;5;241m*\u001b[39mkwargs):\n\u001b[1;32m--> 536\u001b[0m     op, op_class, left, right \u001b[38;5;241m=\u001b[39m \u001b[38;5;28;43mself\u001b[39;49m\u001b[38;5;241;43m.\u001b[39;49m\u001b[43m_maybe_transform_eq_ne\u001b[49m\u001b[43m(\u001b[49m\u001b[43mnode\u001b[49m\u001b[43m)\u001b[49m\n\u001b[0;32m    537\u001b[0m     left, right \u001b[38;5;241m=\u001b[39m \u001b[38;5;28mself\u001b[39m\u001b[38;5;241m.\u001b[39m_maybe_downcast_constants(left, right)\n",
      "File \u001b[1;32m~\\anaconda3\\lib\\site-packages\\pandas\\core\\computation\\expr.py:456\u001b[0m, in \u001b[0;36mBaseExprVisitor._maybe_transform_eq_ne\u001b[1;34m(self, node, left, right)\u001b[0m\n\u001b[0;32m    455\u001b[0m \u001b[38;5;28;01mif\u001b[39;00m left \u001b[38;5;129;01mis\u001b[39;00m \u001b[38;5;28;01mNone\u001b[39;00m:\n\u001b[1;32m--> 456\u001b[0m     left \u001b[38;5;241m=\u001b[39m \u001b[38;5;28;43mself\u001b[39;49m\u001b[38;5;241;43m.\u001b[39;49m\u001b[43mvisit\u001b[49m\u001b[43m(\u001b[49m\u001b[43mnode\u001b[49m\u001b[38;5;241;43m.\u001b[39;49m\u001b[43mleft\u001b[49m\u001b[43m,\u001b[49m\u001b[43m \u001b[49m\u001b[43mside\u001b[49m\u001b[38;5;241;43m=\u001b[39;49m\u001b[38;5;124;43m\"\u001b[39;49m\u001b[38;5;124;43mleft\u001b[39;49m\u001b[38;5;124;43m\"\u001b[39;49m\u001b[43m)\u001b[49m\n\u001b[0;32m    457\u001b[0m \u001b[38;5;28;01mif\u001b[39;00m right \u001b[38;5;129;01mis\u001b[39;00m \u001b[38;5;28;01mNone\u001b[39;00m:\n",
      "File \u001b[1;32m~\\anaconda3\\lib\\site-packages\\pandas\\core\\computation\\expr.py:415\u001b[0m, in \u001b[0;36mBaseExprVisitor.visit\u001b[1;34m(self, node, **kwargs)\u001b[0m\n\u001b[0;32m    414\u001b[0m visitor \u001b[38;5;241m=\u001b[39m \u001b[38;5;28mgetattr\u001b[39m(\u001b[38;5;28mself\u001b[39m, method)\n\u001b[1;32m--> 415\u001b[0m \u001b[38;5;28;01mreturn\u001b[39;00m visitor(node, \u001b[38;5;241m*\u001b[39m\u001b[38;5;241m*\u001b[39mkwargs)\n",
      "File \u001b[1;32m~\\anaconda3\\lib\\site-packages\\pandas\\core\\computation\\expr.py:549\u001b[0m, in \u001b[0;36mBaseExprVisitor.visit_Name\u001b[1;34m(self, node, **kwargs)\u001b[0m\n\u001b[0;32m    548\u001b[0m \u001b[38;5;28;01mdef\u001b[39;00m \u001b[38;5;21mvisit_Name\u001b[39m(\u001b[38;5;28mself\u001b[39m, node, \u001b[38;5;241m*\u001b[39m\u001b[38;5;241m*\u001b[39mkwargs):\n\u001b[1;32m--> 549\u001b[0m     \u001b[38;5;28;01mreturn\u001b[39;00m \u001b[38;5;28mself\u001b[39m\u001b[38;5;241m.\u001b[39mterm_type(node\u001b[38;5;241m.\u001b[39mid, \u001b[38;5;28mself\u001b[39m\u001b[38;5;241m.\u001b[39menv, \u001b[38;5;241m*\u001b[39m\u001b[38;5;241m*\u001b[39mkwargs)\n",
      "File \u001b[1;32m~\\anaconda3\\lib\\site-packages\\pandas\\core\\computation\\ops.py:85\u001b[0m, in \u001b[0;36mTerm.__init__\u001b[1;34m(self, name, env, side, encoding)\u001b[0m\n\u001b[0;32m     84\u001b[0m \u001b[38;5;28mself\u001b[39m\u001b[38;5;241m.\u001b[39mis_local \u001b[38;5;241m=\u001b[39m tname\u001b[38;5;241m.\u001b[39mstartswith(LOCAL_TAG) \u001b[38;5;129;01mor\u001b[39;00m tname \u001b[38;5;129;01min\u001b[39;00m DEFAULT_GLOBALS\n\u001b[1;32m---> 85\u001b[0m \u001b[38;5;28mself\u001b[39m\u001b[38;5;241m.\u001b[39m_value \u001b[38;5;241m=\u001b[39m \u001b[38;5;28;43mself\u001b[39;49m\u001b[38;5;241;43m.\u001b[39;49m\u001b[43m_resolve_name\u001b[49m\u001b[43m(\u001b[49m\u001b[43m)\u001b[49m\n\u001b[0;32m     86\u001b[0m \u001b[38;5;28mself\u001b[39m\u001b[38;5;241m.\u001b[39mencoding \u001b[38;5;241m=\u001b[39m encoding\n",
      "File \u001b[1;32m~\\anaconda3\\lib\\site-packages\\pandas\\core\\computation\\ops.py:109\u001b[0m, in \u001b[0;36mTerm._resolve_name\u001b[1;34m(self)\u001b[0m\n\u001b[0;32m    107\u001b[0m     is_local \u001b[38;5;241m=\u001b[39m \u001b[38;5;28;01mFalse\u001b[39;00m\n\u001b[1;32m--> 109\u001b[0m res \u001b[38;5;241m=\u001b[39m \u001b[38;5;28;43mself\u001b[39;49m\u001b[38;5;241;43m.\u001b[39;49m\u001b[43menv\u001b[49m\u001b[38;5;241;43m.\u001b[39;49m\u001b[43mresolve\u001b[49m\u001b[43m(\u001b[49m\u001b[43mlocal_name\u001b[49m\u001b[43m,\u001b[49m\u001b[43m \u001b[49m\u001b[43mis_local\u001b[49m\u001b[38;5;241;43m=\u001b[39;49m\u001b[43mis_local\u001b[49m\u001b[43m)\u001b[49m\n\u001b[0;32m    110\u001b[0m \u001b[38;5;28mself\u001b[39m\u001b[38;5;241m.\u001b[39mupdate(res)\n",
      "File \u001b[1;32m~\\anaconda3\\lib\\site-packages\\pandas\\core\\computation\\scope.py:211\u001b[0m, in \u001b[0;36mScope.resolve\u001b[1;34m(self, key, is_local)\u001b[0m\n\u001b[0;32m    210\u001b[0m \u001b[38;5;28;01mexcept\u001b[39;00m \u001b[38;5;167;01mKeyError\u001b[39;00m \u001b[38;5;28;01mas\u001b[39;00m err:\n\u001b[1;32m--> 211\u001b[0m     \u001b[38;5;28;01mraise\u001b[39;00m UndefinedVariableError(key, is_local) \u001b[38;5;28;01mfrom\u001b[39;00m \u001b[38;5;21;01merr\u001b[39;00m\n",
      "\u001b[1;31mUndefinedVariableError\u001b[0m: name 'STATION' is not defined",
      "\nThe above exception was the direct cause of the following exception:\n",
      "\u001b[1;31mValueError\u001b[0m                                Traceback (most recent call last)",
      "Cell \u001b[1;32mIn[11], line 4\u001b[0m\n\u001b[0;32m      1\u001b[0m \u001b[38;5;66;03m## First I've queried the precip table to filter the data to a specific Station, \u001b[39;00m\n\u001b[0;32m      2\u001b[0m \u001b[38;5;66;03m## using the .shape to establish the row count of 365\u001b[39;00m\n\u001b[1;32m----> 4\u001b[0m precip_one_station \u001b[38;5;241m=\u001b[39m \u001b[43mprecip\u001b[49m\u001b[38;5;241;43m.\u001b[39;49m\u001b[43mquery\u001b[49m\u001b[43m(\u001b[49m\u001b[38;5;124;43m\"\u001b[39;49m\u001b[38;5;124;43mSTATION == \u001b[39;49m\u001b[38;5;124;43m'\u001b[39;49m\u001b[38;5;124;43mGHCND:USC00045721\u001b[39;49m\u001b[38;5;124;43m'\u001b[39;49m\u001b[38;5;124;43m\"\u001b[39;49m\u001b[43m)\u001b[49m\n\u001b[0;32m      5\u001b[0m \u001b[38;5;66;03m##precip_one_station.head()\u001b[39;00m\n\u001b[0;32m      7\u001b[0m precip_one_station\u001b[38;5;241m.\u001b[39mshape\n",
      "File \u001b[1;32m~\\anaconda3\\lib\\site-packages\\dask\\dataframe\\core.py:5017\u001b[0m, in \u001b[0;36mDataFrame.query\u001b[1;34m(self, expr, **kwargs)\u001b[0m\n\u001b[0;32m   4947\u001b[0m \u001b[38;5;28;01mdef\u001b[39;00m \u001b[38;5;21mquery\u001b[39m(\u001b[38;5;28mself\u001b[39m, expr, \u001b[38;5;241m*\u001b[39m\u001b[38;5;241m*\u001b[39mkwargs):\n\u001b[0;32m   4948\u001b[0m     \u001b[38;5;124;03m\"\"\"Filter dataframe with complex expression\u001b[39;00m\n\u001b[0;32m   4949\u001b[0m \n\u001b[0;32m   4950\u001b[0m \u001b[38;5;124;03m    Blocked version of pd.DataFrame.query\u001b[39;00m\n\u001b[1;32m   (...)\u001b[0m\n\u001b[0;32m   5015\u001b[0m \u001b[38;5;124;03m    2  1  3    2\u001b[39;00m\n\u001b[0;32m   5016\u001b[0m \u001b[38;5;124;03m    \"\"\"\u001b[39;00m\n\u001b[1;32m-> 5017\u001b[0m     \u001b[38;5;28;01mreturn\u001b[39;00m \u001b[38;5;28mself\u001b[39m\u001b[38;5;241m.\u001b[39mmap_partitions(M\u001b[38;5;241m.\u001b[39mquery, expr, \u001b[38;5;241m*\u001b[39m\u001b[38;5;241m*\u001b[39mkwargs)\n",
      "File \u001b[1;32m~\\anaconda3\\lib\\site-packages\\dask\\dataframe\\core.py:866\u001b[0m, in \u001b[0;36m_Frame.map_partitions\u001b[1;34m(self, func, *args, **kwargs)\u001b[0m\n\u001b[0;32m    739\u001b[0m \u001b[38;5;129m@insert_meta_param_description\u001b[39m(pad\u001b[38;5;241m=\u001b[39m\u001b[38;5;241m12\u001b[39m)\n\u001b[0;32m    740\u001b[0m \u001b[38;5;28;01mdef\u001b[39;00m \u001b[38;5;21mmap_partitions\u001b[39m(\u001b[38;5;28mself\u001b[39m, func, \u001b[38;5;241m*\u001b[39margs, \u001b[38;5;241m*\u001b[39m\u001b[38;5;241m*\u001b[39mkwargs):\n\u001b[0;32m    741\u001b[0m     \u001b[38;5;124;03m\"\"\"Apply Python function on each DataFrame partition.\u001b[39;00m\n\u001b[0;32m    742\u001b[0m \n\u001b[0;32m    743\u001b[0m \u001b[38;5;124;03m    Note that the index and divisions are assumed to remain unchanged.\u001b[39;00m\n\u001b[1;32m   (...)\u001b[0m\n\u001b[0;32m    864\u001b[0m \u001b[38;5;124;03m    None as the division.\u001b[39;00m\n\u001b[0;32m    865\u001b[0m \u001b[38;5;124;03m    \"\"\"\u001b[39;00m\n\u001b[1;32m--> 866\u001b[0m     \u001b[38;5;28;01mreturn\u001b[39;00m map_partitions(func, \u001b[38;5;28mself\u001b[39m, \u001b[38;5;241m*\u001b[39margs, \u001b[38;5;241m*\u001b[39m\u001b[38;5;241m*\u001b[39mkwargs)\n",
      "File \u001b[1;32m~\\anaconda3\\lib\\site-packages\\dask\\dataframe\\core.py:6475\u001b[0m, in \u001b[0;36mmap_partitions\u001b[1;34m(func, meta, enforce_metadata, transform_divisions, align_dataframes, *args, **kwargs)\u001b[0m\n\u001b[0;32m   6468\u001b[0m         \u001b[38;5;28;01mraise\u001b[39;00m \u001b[38;5;167;01mValueError\u001b[39;00m(\n\u001b[0;32m   6469\u001b[0m             \u001b[38;5;124mf\u001b[39m\u001b[38;5;124m\"\u001b[39m\u001b[38;5;132;01m{\u001b[39;00me\u001b[38;5;132;01m}\u001b[39;00m\u001b[38;5;124m. If you don\u001b[39m\u001b[38;5;124m'\u001b[39m\u001b[38;5;124mt want the partitions to be aligned, and are \u001b[39m\u001b[38;5;124m\"\u001b[39m\n\u001b[0;32m   6470\u001b[0m             \u001b[38;5;124m\"\u001b[39m\u001b[38;5;124mcalling `map_partitions` directly, pass `align_dataframes=False`.\u001b[39m\u001b[38;5;124m\"\u001b[39m\n\u001b[0;32m   6471\u001b[0m         ) \u001b[38;5;28;01mfrom\u001b[39;00m \u001b[38;5;21;01me\u001b[39;00m\n\u001b[0;32m   6473\u001b[0m dfs \u001b[38;5;241m=\u001b[39m [df \u001b[38;5;28;01mfor\u001b[39;00m df \u001b[38;5;129;01min\u001b[39;00m args \u001b[38;5;28;01mif\u001b[39;00m \u001b[38;5;28misinstance\u001b[39m(df, _Frame)]\n\u001b[1;32m-> 6475\u001b[0m meta \u001b[38;5;241m=\u001b[39m \u001b[43m_get_meta_map_partitions\u001b[49m\u001b[43m(\u001b[49m\u001b[43margs\u001b[49m\u001b[43m,\u001b[49m\u001b[43m \u001b[49m\u001b[43mdfs\u001b[49m\u001b[43m,\u001b[49m\u001b[43m \u001b[49m\u001b[43mfunc\u001b[49m\u001b[43m,\u001b[49m\u001b[43m \u001b[49m\u001b[43mkwargs\u001b[49m\u001b[43m,\u001b[49m\u001b[43m \u001b[49m\u001b[43mmeta\u001b[49m\u001b[43m,\u001b[49m\u001b[43m \u001b[49m\u001b[43mparent_meta\u001b[49m\u001b[43m)\u001b[49m\n\u001b[0;32m   6477\u001b[0m \u001b[38;5;28;01mif\u001b[39;00m \u001b[38;5;28mall\u001b[39m(\u001b[38;5;28misinstance\u001b[39m(arg, Scalar) \u001b[38;5;28;01mfor\u001b[39;00m arg \u001b[38;5;129;01min\u001b[39;00m args):\n\u001b[0;32m   6478\u001b[0m     layer \u001b[38;5;241m=\u001b[39m {\n\u001b[0;32m   6479\u001b[0m         (name, \u001b[38;5;241m0\u001b[39m): (\n\u001b[0;32m   6480\u001b[0m             apply,\n\u001b[1;32m   (...)\u001b[0m\n\u001b[0;32m   6484\u001b[0m         )\n\u001b[0;32m   6485\u001b[0m     }\n",
      "File \u001b[1;32m~\\anaconda3\\lib\\site-packages\\dask\\dataframe\\core.py:6587\u001b[0m, in \u001b[0;36m_get_meta_map_partitions\u001b[1;34m(args, dfs, func, kwargs, meta, parent_meta)\u001b[0m\n\u001b[0;32m   6583\u001b[0m     parent_meta \u001b[38;5;241m=\u001b[39m dfs[\u001b[38;5;241m0\u001b[39m]\u001b[38;5;241m.\u001b[39m_meta\n\u001b[0;32m   6584\u001b[0m \u001b[38;5;28;01mif\u001b[39;00m meta \u001b[38;5;129;01mis\u001b[39;00m no_default:\n\u001b[0;32m   6585\u001b[0m     \u001b[38;5;66;03m# Use non-normalized kwargs here, as we want the real values (not\u001b[39;00m\n\u001b[0;32m   6586\u001b[0m     \u001b[38;5;66;03m# delayed values)\u001b[39;00m\n\u001b[1;32m-> 6587\u001b[0m     meta \u001b[38;5;241m=\u001b[39m _emulate(func, \u001b[38;5;241m*\u001b[39margs, udf\u001b[38;5;241m=\u001b[39m\u001b[38;5;28;01mTrue\u001b[39;00m, \u001b[38;5;241m*\u001b[39m\u001b[38;5;241m*\u001b[39mkwargs)\n\u001b[0;32m   6588\u001b[0m     meta_is_emulated \u001b[38;5;241m=\u001b[39m \u001b[38;5;28;01mTrue\u001b[39;00m\n\u001b[0;32m   6589\u001b[0m \u001b[38;5;28;01melse\u001b[39;00m:\n",
      "File \u001b[1;32m~\\anaconda3\\lib\\site-packages\\dask\\dataframe\\core.py:6405\u001b[0m, in \u001b[0;36m_emulate\u001b[1;34m(func, udf, *args, **kwargs)\u001b[0m\n\u001b[0;32m   6400\u001b[0m \u001b[38;5;28;01mdef\u001b[39;00m \u001b[38;5;21m_emulate\u001b[39m(func, \u001b[38;5;241m*\u001b[39margs, udf\u001b[38;5;241m=\u001b[39m\u001b[38;5;28;01mFalse\u001b[39;00m, \u001b[38;5;241m*\u001b[39m\u001b[38;5;241m*\u001b[39mkwargs):\n\u001b[0;32m   6401\u001b[0m     \u001b[38;5;124;03m\"\"\"\u001b[39;00m\n\u001b[0;32m   6402\u001b[0m \u001b[38;5;124;03m    Apply a function using args / kwargs. If arguments contain dd.DataFrame /\u001b[39;00m\n\u001b[0;32m   6403\u001b[0m \u001b[38;5;124;03m    dd.Series, using internal cache (``_meta``) for calculation\u001b[39;00m\n\u001b[0;32m   6404\u001b[0m \u001b[38;5;124;03m    \"\"\"\u001b[39;00m\n\u001b[1;32m-> 6405\u001b[0m     \u001b[38;5;28;01mwith\u001b[39;00m raise_on_meta_error(funcname(func), udf\u001b[38;5;241m=\u001b[39mudf):\n\u001b[0;32m   6406\u001b[0m         \u001b[38;5;28;01mreturn\u001b[39;00m func(\u001b[38;5;241m*\u001b[39m_extract_meta(args, \u001b[38;5;28;01mTrue\u001b[39;00m), \u001b[38;5;241m*\u001b[39m\u001b[38;5;241m*\u001b[39m_extract_meta(kwargs, \u001b[38;5;28;01mTrue\u001b[39;00m))\n",
      "File \u001b[1;32m~\\anaconda3\\lib\\contextlib.py:153\u001b[0m, in \u001b[0;36m_GeneratorContextManager.__exit__\u001b[1;34m(self, typ, value, traceback)\u001b[0m\n\u001b[0;32m    151\u001b[0m     value \u001b[38;5;241m=\u001b[39m typ()\n\u001b[0;32m    152\u001b[0m \u001b[38;5;28;01mtry\u001b[39;00m:\n\u001b[1;32m--> 153\u001b[0m     \u001b[38;5;28;43mself\u001b[39;49m\u001b[38;5;241;43m.\u001b[39;49m\u001b[43mgen\u001b[49m\u001b[38;5;241;43m.\u001b[39;49m\u001b[43mthrow\u001b[49m\u001b[43m(\u001b[49m\u001b[43mtyp\u001b[49m\u001b[43m,\u001b[49m\u001b[43m \u001b[49m\u001b[43mvalue\u001b[49m\u001b[43m,\u001b[49m\u001b[43m \u001b[49m\u001b[43mtraceback\u001b[49m\u001b[43m)\u001b[49m\n\u001b[0;32m    154\u001b[0m \u001b[38;5;28;01mexcept\u001b[39;00m \u001b[38;5;167;01mStopIteration\u001b[39;00m \u001b[38;5;28;01mas\u001b[39;00m exc:\n\u001b[0;32m    155\u001b[0m     \u001b[38;5;66;03m# Suppress StopIteration *unless* it's the same exception that\u001b[39;00m\n\u001b[0;32m    156\u001b[0m     \u001b[38;5;66;03m# was passed to throw().  This prevents a StopIteration\u001b[39;00m\n\u001b[0;32m    157\u001b[0m     \u001b[38;5;66;03m# raised inside the \"with\" statement from being suppressed.\u001b[39;00m\n\u001b[0;32m    158\u001b[0m     \u001b[38;5;28;01mreturn\u001b[39;00m exc \u001b[38;5;129;01mis\u001b[39;00m \u001b[38;5;129;01mnot\u001b[39;00m value\n",
      "File \u001b[1;32m~\\anaconda3\\lib\\site-packages\\dask\\dataframe\\utils.py:203\u001b[0m, in \u001b[0;36mraise_on_meta_error\u001b[1;34m(funcname, udf)\u001b[0m\n\u001b[0;32m    194\u001b[0m msg \u001b[38;5;241m+\u001b[39m\u001b[38;5;241m=\u001b[39m (\n\u001b[0;32m    195\u001b[0m     \u001b[38;5;124m\"\u001b[39m\u001b[38;5;124mOriginal error is below:\u001b[39m\u001b[38;5;130;01m\\n\u001b[39;00m\u001b[38;5;124m\"\u001b[39m\n\u001b[0;32m    196\u001b[0m     \u001b[38;5;124m\"\u001b[39m\u001b[38;5;124m------------------------\u001b[39m\u001b[38;5;130;01m\\n\u001b[39;00m\u001b[38;5;124m\"\u001b[39m\n\u001b[1;32m   (...)\u001b[0m\n\u001b[0;32m    200\u001b[0m     \u001b[38;5;124m\"\u001b[39m\u001b[38;5;132;01m{2}\u001b[39;00m\u001b[38;5;124m\"\u001b[39m\n\u001b[0;32m    201\u001b[0m )\n\u001b[0;32m    202\u001b[0m msg \u001b[38;5;241m=\u001b[39m msg\u001b[38;5;241m.\u001b[39mformat(\u001b[38;5;124mf\u001b[39m\u001b[38;5;124m\"\u001b[39m\u001b[38;5;124m in `\u001b[39m\u001b[38;5;132;01m{\u001b[39;00mfuncname\u001b[38;5;132;01m}\u001b[39;00m\u001b[38;5;124m`\u001b[39m\u001b[38;5;124m\"\u001b[39m \u001b[38;5;28;01mif\u001b[39;00m funcname \u001b[38;5;28;01melse\u001b[39;00m \u001b[38;5;124m\"\u001b[39m\u001b[38;5;124m\"\u001b[39m, \u001b[38;5;28mrepr\u001b[39m(e), tb)\n\u001b[1;32m--> 203\u001b[0m \u001b[38;5;28;01mraise\u001b[39;00m \u001b[38;5;167;01mValueError\u001b[39;00m(msg) \u001b[38;5;28;01mfrom\u001b[39;00m \u001b[38;5;21;01me\u001b[39;00m\n",
      "\u001b[1;31mValueError\u001b[0m: Metadata inference failed in `query`.\n\nYou have supplied a custom function and Dask is unable to \ndetermine the type of output that that function returns. \n\nTo resolve this please provide a meta= keyword.\nThe docstring of the Dask function you ran should have more information.\n\nOriginal error is below:\n------------------------\nUndefinedVariableError(\"name 'STATION' is not defined\")\n\nTraceback:\n---------\n  File \"C:\\Users\\toby\\anaconda3\\lib\\site-packages\\dask\\dataframe\\utils.py\", line 182, in raise_on_meta_error\n    yield\n  File \"C:\\Users\\toby\\anaconda3\\lib\\site-packages\\dask\\dataframe\\core.py\", line 6406, in _emulate\n    return func(*_extract_meta(args, True), **_extract_meta(kwargs, True))\n  File \"C:\\Users\\toby\\anaconda3\\lib\\site-packages\\dask\\utils.py\", line 1070, in __call__\n    return getattr(__obj, self.method)(*args, **kwargs)\n  File \"C:\\Users\\toby\\anaconda3\\lib\\site-packages\\pandas\\util\\_decorators.py\", line 331, in wrapper\n    return func(*args, **kwargs)\n  File \"C:\\Users\\toby\\anaconda3\\lib\\site-packages\\pandas\\core\\frame.py\", line 4474, in query\n    res = self.eval(expr, **kwargs)\n  File \"C:\\Users\\toby\\anaconda3\\lib\\site-packages\\pandas\\util\\_decorators.py\", line 331, in wrapper\n    return func(*args, **kwargs)\n  File \"C:\\Users\\toby\\anaconda3\\lib\\site-packages\\pandas\\core\\frame.py\", line 4612, in eval\n    return _eval(expr, inplace=inplace, **kwargs)\n  File \"C:\\Users\\toby\\anaconda3\\lib\\site-packages\\pandas\\core\\computation\\eval.py\", line 353, in eval\n    parsed_expr = Expr(expr, engine=engine, parser=parser, env=env)\n  File \"C:\\Users\\toby\\anaconda3\\lib\\site-packages\\pandas\\core\\computation\\expr.py\", line 813, in __init__\n    self.terms = self.parse()\n  File \"C:\\Users\\toby\\anaconda3\\lib\\site-packages\\pandas\\core\\computation\\expr.py\", line 832, in parse\n    return self._visitor.visit(self.expr)\n  File \"C:\\Users\\toby\\anaconda3\\lib\\site-packages\\pandas\\core\\computation\\expr.py\", line 415, in visit\n    return visitor(node, **kwargs)\n  File \"C:\\Users\\toby\\anaconda3\\lib\\site-packages\\pandas\\core\\computation\\expr.py\", line 421, in visit_Module\n    return self.visit(expr, **kwargs)\n  File \"C:\\Users\\toby\\anaconda3\\lib\\site-packages\\pandas\\core\\computation\\expr.py\", line 415, in visit\n    return visitor(node, **kwargs)\n  File \"C:\\Users\\toby\\anaconda3\\lib\\site-packages\\pandas\\core\\computation\\expr.py\", line 424, in visit_Expr\n    return self.visit(node.value, **kwargs)\n  File \"C:\\Users\\toby\\anaconda3\\lib\\site-packages\\pandas\\core\\computation\\expr.py\", line 415, in visit\n    return visitor(node, **kwargs)\n  File \"C:\\Users\\toby\\anaconda3\\lib\\site-packages\\pandas\\core\\computation\\expr.py\", line 723, in visit_Compare\n    return self.visit(binop)\n  File \"C:\\Users\\toby\\anaconda3\\lib\\site-packages\\pandas\\core\\computation\\expr.py\", line 415, in visit\n    return visitor(node, **kwargs)\n  File \"C:\\Users\\toby\\anaconda3\\lib\\site-packages\\pandas\\core\\computation\\expr.py\", line 536, in visit_BinOp\n    op, op_class, left, right = self._maybe_transform_eq_ne(node)\n  File \"C:\\Users\\toby\\anaconda3\\lib\\site-packages\\pandas\\core\\computation\\expr.py\", line 456, in _maybe_transform_eq_ne\n    left = self.visit(node.left, side=\"left\")\n  File \"C:\\Users\\toby\\anaconda3\\lib\\site-packages\\pandas\\core\\computation\\expr.py\", line 415, in visit\n    return visitor(node, **kwargs)\n  File \"C:\\Users\\toby\\anaconda3\\lib\\site-packages\\pandas\\core\\computation\\expr.py\", line 549, in visit_Name\n    return self.term_type(node.id, self.env, **kwargs)\n  File \"C:\\Users\\toby\\anaconda3\\lib\\site-packages\\pandas\\core\\computation\\ops.py\", line 85, in __init__\n    self._value = self._resolve_name()\n  File \"C:\\Users\\toby\\anaconda3\\lib\\site-packages\\pandas\\core\\computation\\ops.py\", line 109, in _resolve_name\n    res = self.env.resolve(local_name, is_local=is_local)\n  File \"C:\\Users\\toby\\anaconda3\\lib\\site-packages\\pandas\\core\\computation\\scope.py\", line 211, in resolve\n    raise UndefinedVariableError(key, is_local) from err\n"
     ]
    }
   ],
   "source": [
    "## First I've queried the precip table to filter the data to a specific Station, \n",
    "## using the .shape to establish the row count of 365\n",
    "\n",
    "precip_one_station = precip.query(\"STATION == 'GHCND:USC00045721'\")\n",
    "##precip_one_station.head()\n",
    "\n",
    "precip_one_station.shape"
   ]
  },
  {
   "cell_type": "code",
   "execution_count": null,
   "id": "0c3d5e63",
   "metadata": {},
   "outputs": [],
   "source": [
    "## Then I've used .merge and joined the pre filters variable (precip_one_station) above to inner join on the temp table.\n",
    "## This approach means that the the weather station named \"GHCND:USC00045721\" has been filtered before the \n",
    "## temperture data has been joined onto it - printing the .shape shows that \n",
    "## there is now 47 columns (19+28) and still 365 rows - worth noting that the orgional column count is reduced by -1 \n",
    "## due to the PK not being shown twice\n",
    "\n",
    "inner_merged = pd.merge(precip_one_station, temp)\n",
    "##inner_merged.head()\n",
    "\n",
    "inner_merged.shape"
   ]
  },
  {
   "cell_type": "markdown",
   "id": "15b34371",
   "metadata": {},
   "source": [
    "<h4>Outer Join</h4>"
   ]
  },
  {
   "cell_type": "code",
   "execution_count": 12,
   "id": "561132c2",
   "metadata": {},
   "outputs": [
    {
     "ename": "NameError",
     "evalue": "name 'precip_one_station' is not defined",
     "output_type": "error",
     "traceback": [
      "\u001b[1;31m---------------------------------------------------------------------------\u001b[0m",
      "\u001b[1;31mNameError\u001b[0m                                 Traceback (most recent call last)",
      "Cell \u001b[1;32mIn[12], line 5\u001b[0m\n\u001b[0;32m      1\u001b[0m \u001b[38;5;66;03m## Using the pre filtered variable (precip_one_station) again, I have Outer Joined onto the temperture table. \u001b[39;00m\n\u001b[0;32m      2\u001b[0m \u001b[38;5;66;03m## The Outer Join means that I have return all the values of Station and Date but only returned the rest of teh values \u001b[39;00m\n\u001b[0;32m      3\u001b[0m \u001b[38;5;66;03m## for Weather Station One, this increases the over all row count  \u001b[39;00m\n\u001b[1;32m----> 5\u001b[0m outer_merged \u001b[38;5;241m=\u001b[39m pd\u001b[38;5;241m.\u001b[39mmerge(\u001b[43mprecip_one_station\u001b[49m, temp, how\u001b[38;5;241m=\u001b[39m\u001b[38;5;124m\"\u001b[39m\u001b[38;5;124mouter\u001b[39m\u001b[38;5;124m\"\u001b[39m, on\u001b[38;5;241m=\u001b[39m[\u001b[38;5;124m\"\u001b[39m\u001b[38;5;124mSTATION\u001b[39m\u001b[38;5;124m\"\u001b[39m, \u001b[38;5;124m\"\u001b[39m\u001b[38;5;124mDATE\u001b[39m\u001b[38;5;124m\"\u001b[39m])\n\u001b[0;32m      6\u001b[0m \u001b[38;5;66;03m##outer_merged.head()\u001b[39;00m\n\u001b[0;32m      8\u001b[0m outer_merged\u001b[38;5;241m.\u001b[39mshape\n",
      "\u001b[1;31mNameError\u001b[0m: name 'precip_one_station' is not defined"
     ]
    }
   ],
   "source": [
    "## Using the pre filtered variable (precip_one_station) again, I have Outer Joined onto the temperture table. \n",
    "## The Outer Join means that I have return all the values of Station and Date but only returned the rest of teh values \n",
    "## for Weather Station One, this increases the over all row count  \n",
    "\n",
    "outer_merged = pd.merge(precip_one_station, temp, how=\"outer\", on=[\"STATION\", \"DATE\"])\n",
    "##outer_merged.head()\n",
    "\n",
    "outer_merged.shape\n"
   ]
  },
  {
   "cell_type": "code",
   "execution_count": 13,
   "id": "0870845e",
   "metadata": {},
   "outputs": [
    {
     "ename": "NameError",
     "evalue": "name 'precip_one_station' is not defined",
     "output_type": "error",
     "traceback": [
      "\u001b[1;31m---------------------------------------------------------------------------\u001b[0m",
      "\u001b[1;31mNameError\u001b[0m                                 Traceback (most recent call last)",
      "Cell \u001b[1;32mIn[13], line 2\u001b[0m\n\u001b[0;32m      1\u001b[0m \u001b[38;5;66;03m## Left Outer does the same as the Outer in this case as we are uwing the left table \u001b[39;00m\n\u001b[1;32m----> 2\u001b[0m left_merged \u001b[38;5;241m=\u001b[39m pd\u001b[38;5;241m.\u001b[39mmerge(temp, \u001b[43mprecip_one_station\u001b[49m, how\u001b[38;5;241m=\u001b[39m\u001b[38;5;124m\"\u001b[39m\u001b[38;5;124mleft\u001b[39m\u001b[38;5;124m\"\u001b[39m, on\u001b[38;5;241m=\u001b[39m[\u001b[38;5;124m\"\u001b[39m\u001b[38;5;124mSTATION\u001b[39m\u001b[38;5;124m\"\u001b[39m, \u001b[38;5;124m\"\u001b[39m\u001b[38;5;124mDATE\u001b[39m\u001b[38;5;124m\"\u001b[39m])\n\u001b[0;32m      3\u001b[0m left_merged\u001b[38;5;241m.\u001b[39mshape\n",
      "\u001b[1;31mNameError\u001b[0m: name 'precip_one_station' is not defined"
     ]
    }
   ],
   "source": [
    "## Left Outer does the same as the Outer in this case as we are uwing the left table \n",
    "left_merged = pd.merge(temp, precip_one_station, how=\"left\", on=[\"STATION\", \"DATE\"])\n",
    "left_merged.shape\n"
   ]
  },
  {
   "cell_type": "code",
   "execution_count": 14,
   "id": "76a2a849",
   "metadata": {},
   "outputs": [
    {
     "ename": "NameError",
     "evalue": "name 'precip_one_station' is not defined",
     "output_type": "error",
     "traceback": [
      "\u001b[1;31m---------------------------------------------------------------------------\u001b[0m",
      "\u001b[1;31mNameError\u001b[0m                                 Traceback (most recent call last)",
      "Cell \u001b[1;32mIn[14], line 2\u001b[0m\n\u001b[0;32m      1\u001b[0m \u001b[38;5;66;03m## Right Outer does the same as we have reversed the filtered variable with the temp table\u001b[39;00m\n\u001b[1;32m----> 2\u001b[0m right_merged \u001b[38;5;241m=\u001b[39m pd\u001b[38;5;241m.\u001b[39mmerge(\u001b[43mprecip_one_station\u001b[49m, temp, how\u001b[38;5;241m=\u001b[39m\u001b[38;5;124m\"\u001b[39m\u001b[38;5;124mright\u001b[39m\u001b[38;5;124m\"\u001b[39m, on\u001b[38;5;241m=\u001b[39m[\u001b[38;5;124m\"\u001b[39m\u001b[38;5;124mSTATION\u001b[39m\u001b[38;5;124m\"\u001b[39m, \u001b[38;5;124m\"\u001b[39m\u001b[38;5;124mDATE\u001b[39m\u001b[38;5;124m\"\u001b[39m])\n\u001b[0;32m      3\u001b[0m right_merged\u001b[38;5;241m.\u001b[39mshape\n",
      "\u001b[1;31mNameError\u001b[0m: name 'precip_one_station' is not defined"
     ]
    }
   ],
   "source": [
    "## Right Outer does the same as we have reversed the filtered variable with the temp table\n",
    "right_merged = pd.merge(precip_one_station, temp, how=\"right\", on=[\"STATION\", \"DATE\"])\n",
    "right_merged.shape\n",
    "##(127020, 48)"
   ]
  },
  {
   "cell_type": "code",
   "execution_count": 15,
   "id": "8e2a168a",
   "metadata": {},
   "outputs": [
    {
     "ename": "NameError",
     "evalue": "name 'precip_one_station' is not defined",
     "output_type": "error",
     "traceback": [
      "\u001b[1;31m---------------------------------------------------------------------------\u001b[0m",
      "\u001b[1;31mNameError\u001b[0m                                 Traceback (most recent call last)",
      "Cell \u001b[1;32mIn[15], line 2\u001b[0m\n\u001b[0;32m      1\u001b[0m \u001b[38;5;66;03m## Right Outer does the same as we have reversed the filtered variable with the temp table\u001b[39;00m\n\u001b[1;32m----> 2\u001b[0m right_merged \u001b[38;5;241m=\u001b[39m pd\u001b[38;5;241m.\u001b[39mmerge(temp, \u001b[43mprecip_one_station\u001b[49m, how\u001b[38;5;241m=\u001b[39m\u001b[38;5;124m\"\u001b[39m\u001b[38;5;124mright\u001b[39m\u001b[38;5;124m\"\u001b[39m, on\u001b[38;5;241m=\u001b[39m[\u001b[38;5;124m\"\u001b[39m\u001b[38;5;124mSTATION\u001b[39m\u001b[38;5;124m\"\u001b[39m, \u001b[38;5;124m\"\u001b[39m\u001b[38;5;124mDATE\u001b[39m\u001b[38;5;124m\"\u001b[39m])\n\u001b[0;32m      3\u001b[0m right_merged\u001b[38;5;241m.\u001b[39mshape\n",
      "\u001b[1;31mNameError\u001b[0m: name 'precip_one_station' is not defined"
     ]
    }
   ],
   "source": [
    "## Right Outer does the same as we have reversed the filtered variable with the temp table\n",
    "right_merged = pd.merge(temp, precip_one_station, how=\"right\", on=[\"STATION\", \"DATE\"])\n",
    "right_merged.shape\n",
    "##(127020, 48)"
   ]
  },
  {
   "cell_type": "markdown",
   "id": "156a7cd1",
   "metadata": {},
   "source": [
    "<h4>Concatenation</h4>"
   ]
  },
  {
   "cell_type": "code",
   "execution_count": 16,
   "id": "84750755",
   "metadata": {},
   "outputs": [],
   "source": [
    "## First load all the files\n",
    "bios = pd.read_csv('bios.csv')\n",
    "car = pd.read_csv('Car_Insurance_Claim.csv') \n",
    "coffee = pd.read_csv('coffee.csv')\n",
    "regions = pd.read_csv('noc_regions.csv')\n"
   ]
  },
  {
   "cell_type": "code",
   "execution_count": 17,
   "id": "40587d61",
   "metadata": {},
   "outputs": [
    {
     "data": {
      "text/plain": [
       "(155744, 34)"
      ]
     },
     "execution_count": 17,
     "metadata": {},
     "output_type": "execute_result"
    }
   ],
   "source": [
    "## Concat vertically is 10+19+3+3-1 for the index\n",
    "\n",
    "combined_df = pd.concat([bios, car, coffee, regions], ignore_index=True)\n",
    "combined_df.shape"
   ]
  },
  {
   "cell_type": "code",
   "execution_count": 18,
   "id": "88f58cfd",
   "metadata": {
    "scrolled": true
   },
   "outputs": [
    {
     "data": {
      "text/plain": [
       "<bound method NDFrame.head of         athlete_id                   name   born_date    born_city  \\\n",
       "s1 0           1.0  Jean-François Blanchy  1886-12-12     Bordeaux   \n",
       "   1           2.0         Arnaud Boetsch  1969-04-01       Meulan   \n",
       "   2           3.0           Jean Borotra  1898-08-13     Biarritz   \n",
       "   3           4.0        Jacques Brugnon  1895-05-11  Paris VIIIe   \n",
       "   4           5.0           Albert Canet  1878-04-17   Wandsworth   \n",
       "...            ...                    ...         ...          ...   \n",
       "s4 225         NaN                    NaN         NaN          NaN   \n",
       "   226         NaN                    NaN         NaN          NaN   \n",
       "   227         NaN                    NaN         NaN          NaN   \n",
       "   228         NaN                    NaN         NaN          NaN   \n",
       "   229         NaN                    NaN         NaN          NaN   \n",
       "\n",
       "                 born_region born_country     NOC  height_cm  weight_kg  \\\n",
       "s1 0                 Gironde          FRA  France        NaN        NaN   \n",
       "   1                Yvelines          FRA  France      183.0       76.0   \n",
       "   2    Pyrénées-Atlantiques          FRA  France      183.0       76.0   \n",
       "   3                   Paris          FRA  France      168.0       64.0   \n",
       "   4                 England          GBR  France        NaN        NaN   \n",
       "...                      ...          ...     ...        ...        ...   \n",
       "s4 225                   NaN          NaN     YEM        NaN        NaN   \n",
       "   226                   NaN          NaN     YMD        NaN        NaN   \n",
       "   227                   NaN          NaN     YUG        NaN        NaN   \n",
       "   228                   NaN          NaN     ZAM        NaN        NaN   \n",
       "   229                   NaN          NaN     ZIM        NaN        NaN   \n",
       "\n",
       "         died_date  ...  VEHICLE_TYPE SPEEDING_VIOLATIONS DUIS PAST_ACCIDENTS  \\\n",
       "s1 0    1960-10-02  ...           NaN                 NaN  NaN            NaN   \n",
       "   1           NaN  ...           NaN                 NaN  NaN            NaN   \n",
       "   2    1994-07-17  ...           NaN                 NaN  NaN            NaN   \n",
       "   3    1978-03-20  ...           NaN                 NaN  NaN            NaN   \n",
       "   4    1930-07-25  ...           NaN                 NaN  NaN            NaN   \n",
       "...            ...  ...           ...                 ...  ...            ...   \n",
       "s4 225         NaN  ...           NaN                 NaN  NaN            NaN   \n",
       "   226         NaN  ...           NaN                 NaN  NaN            NaN   \n",
       "   227         NaN  ...           NaN                 NaN  NaN            NaN   \n",
       "   228         NaN  ...           NaN                 NaN  NaN            NaN   \n",
       "   229         NaN  ...           NaN                 NaN  NaN            NaN   \n",
       "\n",
       "       OUTCOME  Day Coffee Type  Units Sold    region        notes  \n",
       "s1 0       NaN  NaN         NaN         NaN       NaN          NaN  \n",
       "   1       NaN  NaN         NaN         NaN       NaN          NaN  \n",
       "   2       NaN  NaN         NaN         NaN       NaN          NaN  \n",
       "   3       NaN  NaN         NaN         NaN       NaN          NaN  \n",
       "   4       NaN  NaN         NaN         NaN       NaN          NaN  \n",
       "...        ...  ...         ...         ...       ...          ...  \n",
       "s4 225     NaN  NaN         NaN         NaN     Yemen          NaN  \n",
       "   226     NaN  NaN         NaN         NaN     Yemen  South Yemen  \n",
       "   227     NaN  NaN         NaN         NaN    Serbia   Yugoslavia  \n",
       "   228     NaN  NaN         NaN         NaN    Zambia          NaN  \n",
       "   229     NaN  NaN         NaN         NaN  Zimbabwe          NaN  \n",
       "\n",
       "[155744 rows x 34 columns]>"
      ]
     },
     "execution_count": 18,
     "metadata": {},
     "output_type": "execute_result"
    }
   ],
   "source": [
    "## Adding a hierarchical index at the outermost level of the data with the keys option.\n",
    "\n",
    "combined_df = pd.concat([bios, car, coffee, regions], keys=['s1','s2','s3','s4'])\n",
    "combined_df.head"
   ]
  },
  {
   "cell_type": "markdown",
   "id": "e3979cf0",
   "metadata": {},
   "source": [
    "---------\n",
    "\n",
    "Back to Car"
   ]
  },
  {
   "cell_type": "code",
   "execution_count": 19,
   "id": "ba744b47",
   "metadata": {},
   "outputs": [
    {
     "name": "stdout",
     "output_type": "stream",
     "text": [
      "Initial records: 10000\n"
     ]
    }
   ],
   "source": [
    "## Count row to establish records\n",
    "initial_count = len(car)\n",
    "print(f\"Initial records: {initial_count}\")"
   ]
  },
  {
   "cell_type": "code",
   "execution_count": 20,
   "id": "3182e6cc",
   "metadata": {},
   "outputs": [
    {
     "name": "stdout",
     "output_type": "stream",
     "text": [
      "Records after removing NaNs: 8149\n"
     ]
    }
   ],
   "source": [
    "# Remove rows with NaN values\n",
    "car_cleaned = car.dropna()\n",
    "\n",
    "# Check the number of remaining records\n",
    "remaining_count = len(car_cleaned)\n",
    "print(f\"Records after removing NaNs: {remaining_count}\")"
   ]
  },
  {
   "cell_type": "code",
   "execution_count": 21,
   "id": "19b70dcb",
   "metadata": {
    "scrolled": true
   },
   "outputs": [
    {
     "name": "stdout",
     "output_type": "stream",
     "text": [
      "upper class      4336\n",
      "middle class     2138\n",
      "poverty          1814\n",
      "working class    1712\n",
      "Name: INCOME, dtype: int64\n"
     ]
    }
   ],
   "source": [
    "# Find value counts for the 'income' column\n",
    "income_counts = car['INCOME'].value_counts()\n",
    "print(income_counts)"
   ]
  },
  {
   "cell_type": "code",
   "execution_count": 22,
   "id": "f4fcd153",
   "metadata": {},
   "outputs": [
    {
     "data": {
      "image/png": "[encoded data removed]",
      "text/plain": [
       "<Figure size 640x480 with 1 Axes>"
      ]
     },
     "metadata": {},
     "output_type": "display_data"
    }
   ],
   "source": [
    "import matplotlib.pyplot as plt\n",
    "\n",
    "income_counts.plot(kind='bar')\n",
    "plt.title('Income Distribution')\n",
    "##plt.xlabel('Income')\n",
    "##plt.ylabel('Frequency')\n",
    "plt.xticks(rotation=25)\n",
    "plt.show()"
   ]
  },
  {
   "cell_type": "code",
   "execution_count": 34,
   "id": "bd175aea",
   "metadata": {
    "scrolled": true
   },
   "outputs": [
    {
     "data": {
      "text/plain": [
       "<bound method NDFrame.head of           ID    AGE  GENDER      RACE DRIVING_EXPERIENCE    EDUCATION  \\\n",
       "0     569520    65+  female  majority               0-9y  high school   \n",
       "1     750365  16-25    male  majority               0-9y         none   \n",
       "2     199901  16-25  female  majority               0-9y  high school   \n",
       "3     478866  16-25    male  majority               0-9y   university   \n",
       "4     731664  26-39    male  majority             10-19y         none   \n",
       "...      ...    ...     ...       ...                ...          ...   \n",
       "9995  323164  26-39  female  majority             10-19y   university   \n",
       "9996  910346  26-39  female  majority             10-19y         none   \n",
       "9997  468409  26-39    male  majority               0-9y  high school   \n",
       "9998  903459  26-39  female  majority             10-19y  high school   \n",
       "9999  442696  26-39  female  majority               0-9y         none   \n",
       "\n",
       "             INCOME  CREDIT_SCORE  VEHICLE_OWNERSHIP VEHICLE_YEAR  MARRIED  \\\n",
       "0       upper class      0.629027                  1   after 2015        0   \n",
       "1           poverty      0.357757                  0  before 2015        0   \n",
       "2     working class      0.493146                  1  before 2015        0   \n",
       "3     working class      0.206013                  1  before 2015        0   \n",
       "4     working class      0.388366                  1  before 2015        0   \n",
       "...             ...           ...                ...          ...      ...   \n",
       "9995    upper class      0.582787                  1  before 2015        0   \n",
       "9996   middle class      0.522231                  1   after 2015        0   \n",
       "9997   middle class      0.470940                  1  before 2015        0   \n",
       "9998        poverty      0.364185                  0  before 2015        0   \n",
       "9999  working class      0.435225                  1  before 2015        1   \n",
       "\n",
       "      CHILDREN  POSTAL_CODE  ANNUAL_MILEAGE VEHICLE_TYPE  SPEEDING_VIOLATIONS  \\\n",
       "0            1        10238         12000.0        sedan                    0   \n",
       "1            0        10238         16000.0        sedan                    0   \n",
       "2            0        10238         11000.0        sedan                    0   \n",
       "3            1        32765         11000.0        sedan                    0   \n",
       "4            0        32765         12000.0        sedan                    2   \n",
       "...        ...          ...             ...          ...                  ...   \n",
       "9995         0        10238         16000.0        sedan                    0   \n",
       "9996         1        32765             NaN        sedan                    1   \n",
       "9997         1        10238         14000.0        sedan                    0   \n",
       "9998         1        10238         13000.0        sedan                    2   \n",
       "9999         1        10238         13000.0        sedan                    0   \n",
       "\n",
       "      DUIS  PAST_ACCIDENTS  OUTCOME  \n",
       "0        0               0        0  \n",
       "1        0               0        1  \n",
       "2        0               0        0  \n",
       "3        0               0        0  \n",
       "4        0               1        1  \n",
       "...    ...             ...      ...  \n",
       "9995     0               1        0  \n",
       "9996     0               0        0  \n",
       "9997     0               0        0  \n",
       "9998     0               1        1  \n",
       "9999     0               0        0  \n",
       "\n",
       "[10000 rows x 19 columns]>"
      ]
     },
     "execution_count": 34,
     "metadata": {},
     "output_type": "execute_result"
    }
   ],
   "source": [
    "car.head\n",
    "\n",
    "# NOTES\n",
    "# GENDER\n",
    "# male\n",
    "# female\n",
    "\n"
   ]
  },
  {
   "cell_type": "code",
   "execution_count": 42,
   "id": "26d96158",
   "metadata": {},
   "outputs": [
    {
     "name": "stdout",
     "output_type": "stream",
     "text": [
      "FEMALE\n",
      "high school    2233\n",
      "university     1746\n",
      "none           1031\n",
      "Name: EDUCATION, dtype: int64\n",
      "\n",
      "MALE\n",
      "university     2182\n",
      "high school    1924\n",
      "none            884\n",
      "Name: EDUCATION, dtype: int64\n",
      "\n",
      "             FEMALE  MALE\n",
      "high school    2233  1924\n",
      "none           1031   884\n",
      "university     1746  2182\n"
     ]
    }
   ],
   "source": [
    "femaleEdCount = car[car['VEHICLE_TYPE']=='sports car']['SPEEDING_VIOLATIONS'].value_counts()\n",
    "print('SPORTS')\n",
    "print(femaleEdCount)\n",
    "print()\n",
    "\n",
    "maleEdCount = car[car['VEHICLE_TYPE']=='sedan']['SPEEDING_VIOLATIONS'].value_counts()\n",
    "print('SEDAN')\n",
    "print(maleEdCount)\n",
    "print()\n",
    "\n",
    "combineEdCount = pd.DataFrame({'FEMALE':femaleEdCount, 'MALE':maleEdCount})\n",
    "print (combineEdCount)\n"
   ]
  },
  {
   "cell_type": "code",
   "execution_count": 47,
   "id": "41b4bb97",
   "metadata": {},
   "outputs": [
    {
     "name": "stdout",
     "output_type": "stream",
     "text": [
      "    SPORTS  SEDAN\n",
      "0    229.0   4799\n",
      "1     84.0   1460\n",
      "2     61.0   1100\n",
      "3     40.0    790\n",
      "4     27.0    503\n",
      "5     10.0    309\n",
      "6      9.0    179\n",
      "7      3.0    137\n",
      "8      3.0     72\n",
      "9      1.0     48\n",
      "10     4.0     46\n",
      "11     2.0     28\n",
      "12     NaN     20\n",
      "13     1.0     11\n",
      "14     1.0      4\n",
      "15     NaN      8\n",
      "16     1.0      3\n",
      "17     NaN      3\n",
      "18     NaN      1\n",
      "19     1.0      1\n",
      "22     NaN      1\n"
     ]
    }
   ],
   "source": [
    "sportsCount = car[car['VEHICLE_TYPE']=='sports car']['SPEEDING_VIOLATIONS'].value_counts()\n",
    "sedanCount = car[car['VEHICLE_TYPE']=='sedan']['SPEEDING_VIOLATIONS'].value_counts()\n",
    "\n",
    "combineCarCount = pd.DataFrame({'SPORTS':sportsCount, 'SEDAN':sedanCount})\n",
    "print (combineCarCount)\n",
    "\n",
    "## NB. SPORTS is a float due to it having NaN values"
   ]
  },
  {
   "cell_type": "code",
   "execution_count": 53,
   "id": "86ee0198",
   "metadata": {},
   "outputs": [
    {
     "name": "stdout",
     "output_type": "stream",
     "text": [
      "              SPEEDING_VIOLATIONS  CHILDREN\n",
      "VEHICLE_TYPE                               \n",
      "sedan                        1.48      0.69\n",
      "sports car                   1.50      0.67\n"
     ]
    }
   ],
   "source": [
    "vehGroup = car.groupby('VEHICLE_TYPE').agg({'SPEEDING_VIOLATIONS':'mean','CHILDREN':'mean'}).round(2)\n",
    "print(vehGroup)\n",
    "\n"
   ]
  },
  {
   "cell_type": "code",
   "execution_count": 54,
   "id": "04ae2890",
   "metadata": {},
   "outputs": [
    {
     "name": "stdout",
     "output_type": "stream",
     "text": [
      "                    PAST_ACCIDENTS\n",
      "DRIVING_EXPERIENCE                \n",
      "0-9y                          0.00\n",
      "10-19y                        0.96\n",
      "20-29y                        1.97\n",
      "30y+                          3.07\n"
     ]
    }
   ],
   "source": [
    "## Pivot Table\n",
    "expRiskPivot = car.pivot_table(index='DRIVING_EXPERIENCE', values='PAST_ACCIDENTS', aggfunc='mean').round(2)\n",
    "print(expRiskPivot)"
   ]
  },
  {
   "cell_type": "code",
   "execution_count": 57,
   "id": "f92bc537",
   "metadata": {},
   "outputs": [
    {
     "name": "stdout",
     "output_type": "stream",
     "text": [
      "                           median         mean          min\n",
      "                     CREDIT_SCORE CREDIT_SCORE CREDIT_SCORE\n",
      "INCOME        GENDER                                       \n",
      "middle class  female        0.544        0.539        0.248\n",
      "              male          0.506        0.508        0.200\n",
      "poverty       female        0.363        0.364        0.053\n",
      "              male          0.332        0.330        0.061\n",
      "upper class   female        0.628        0.627        0.315\n",
      "              male          0.605        0.602        0.256\n",
      "working class female        0.444        0.446        0.185\n",
      "              male          0.415        0.417        0.124\n"
     ]
    }
   ],
   "source": [
    "# pivot table with INCOME and GENDER as indexes and calculate Median, Mean, and Min for CREDIT_SCORE\n",
    "\n",
    "incGenderCredit = car.pivot_table(index=['INCOME', 'GENDER'],values='CREDIT_SCORE',aggfunc=['median', 'mean', 'min']).round(3)\n",
    "print(incGenderCredit)\n"
   ]
  },
  {
   "cell_type": "code",
   "execution_count": 75,
   "id": "cb9c2561",
   "metadata": {},
   "outputs": [
    {
     "name": "stdout",
     "output_type": "stream",
     "text": [
      "                                     sum                    \n",
      "                          PAST_ACCIDENTS SPEEDING_VIOLATIONS\n",
      "DRIVING_EXPERIENCE GENDER                                   \n",
      "0-9y               female              0                   0\n",
      "                   male                0                   0\n",
      "10-19y             female           1013                1489\n",
      "                   male             2153                2854\n",
      "20-29y             female           1380                2033\n",
      "                   male             2786                3761\n",
      "30y+               female           1055                1642\n",
      "                   male             2176                3050\n"
     ]
    }
   ],
   "source": [
    "genderInsight = car.pivot_table(index=['DRIVING_EXPERIENCE', 'GENDER'],\n",
    "                                values=['SPEEDING_VIOLATIONS', 'PAST_ACCIDENTS'],\n",
    "                                aggfunc=['sum']\n",
    ").round(2)\n",
    "\n",
    "print(genderInsight)\n"
   ]
  }
 ],
 "metadata": {
  "kernelspec": {
   "display_name": "Python 3 (ipykernel)",
   "language": "python",
   "name": "python3"
  },
  "language_info": {
   "codemirror_mode": {
    "name": "ipython",
    "version": 3
   },
   "file_extension": ".py",
   "mimetype": "text/x-python",
   "name": "python",
   "nbconvert_exporter": "python",
   "pygments_lexer": "ipython3",
   "version": "3.10.9"
  }
 },
 "nbformat": 4,
 "nbformat_minor": 5
}
