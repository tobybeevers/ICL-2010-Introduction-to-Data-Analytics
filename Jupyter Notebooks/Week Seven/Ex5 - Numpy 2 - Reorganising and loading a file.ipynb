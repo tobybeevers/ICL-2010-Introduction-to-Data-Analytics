{
 "cells": [
  {
   "cell_type": "markdown",
   "id": "39d31a55",
   "metadata": {},
   "source": [
    "Reorganising Arrays\n",
    "\n",
    "Why do we reorganise\n",
    "\n",
    "Arrays in NumPy are reorganized for several important reasons:\n",
    "- Changing data structure: Reshaping allows you to modify the dimensions of an array without altering its data, enabling you to adapt the array to different computational needs or data representations.\n",
    "- Performance optimization: Reordering array elements can improve memory access patterns and cache utilization, potentially leading to faster computations.\n",
    "- Data analysis: Reorganizing arrays facilitates various data analysis tasks, such as combining multiple datasets, extracting specific subsets of data, or preparing data for specific algorithms.\n",
    "- Compatibility: Reshaping arrays can make them compatible with other functions or libraries that expect input data in a particular shape or format.\n",
    "- Visualization: Changing array shapes can be necessary for proper data visualization, such as converting a 1D array into a 2D array for image processing\n",
    "\n",
    "Sources:\n",
    "\n",
    "https://numpy.org/devdocs/dev/internals.html\n",
    "\n",
    "https://realpython.com/numpy-reshape/ \n",
    "\n",
    "https://numpy.org/devdocs/dev/internals.html\n"
   ]
  },
  {
   "cell_type": "code",
   "execution_count": null,
   "id": "7bb08cc1",
   "metadata": {},
   "outputs": [],
   "source": []
  }
 ],
 "metadata": {
  "kernelspec": {
   "display_name": "Python 3 (ipykernel)",
   "language": "python",
   "name": "python3"
  },
  "language_info": {
   "codemirror_mode": {
    "name": "ipython",
    "version": 3
   },
   "file_extension": ".py",
   "mimetype": "text/x-python",
   "name": "python",
   "nbconvert_exporter": "python",
   "pygments_lexer": "ipython3",
   "version": "3.10.9"
  }
 },
 "nbformat": 4,
 "nbformat_minor": 5
}
