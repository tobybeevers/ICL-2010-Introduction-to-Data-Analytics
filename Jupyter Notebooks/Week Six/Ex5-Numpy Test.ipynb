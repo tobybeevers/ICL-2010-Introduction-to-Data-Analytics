{
 "cells": [
  {
   "cell_type": "markdown",
   "metadata": {},
   "source": [
    "<H1>Numpy Exercise Test 11/12/24"
   ]
  },
  {
   "cell_type": "markdown",
   "metadata": {
    "vscode": {
     "languageId": "plaintext"
    }
   },
   "source": [
    "**1. Accessing and modifying specific elements, rows, and columns Access a specific element:**\n",
    "\n",
    "Create a 2D array [[1, 2, 3], [4, 5, 6], [7, 8, 9]] and access the element at the second row and third column.\n"
   ]
  },
  {
   "cell_type": "code",
   "execution_count": 102,
   "metadata": {},
   "outputs": [],
   "source": [
    "## Begin by importing Numpy\n",
    "import numpy as np"
   ]
  },
  {
   "cell_type": "code",
   "execution_count": 103,
   "metadata": {},
   "outputs": [
    {
     "name": "stdout",
     "output_type": "stream",
     "text": [
      "The 2x3 element = 6\n"
     ]
    }
   ],
   "source": [
    "a = np.array([[1,2,3],[4,5,6],[7,8,9]])\n",
    "v = a[1, 2]\n",
    "print(\"The 2x3 element =\",v)"
   ]
  },
  {
   "cell_type": "markdown",
   "metadata": {},
   "source": [
    "--------\n",
    "**2. Access a specific column:**\n",
    "\n",
    "Access the third column of the array [[5, 10, 15], [20, 25, 30], [35, 40, 45]].\n"
   ]
  },
  {
   "cell_type": "code",
   "execution_count": 104,
   "metadata": {},
   "outputs": [
    {
     "name": "stdout",
     "output_type": "stream",
     "text": [
      "The 2x3 element = [35 40 45]\n"
     ]
    }
   ],
   "source": [
    "b = np.array([[5, 10, 15], [20, 25, 30], [35, 40, 45]])\n",
    "v2 = b[2]\n",
    "print(\"The 2x3 element =\",v2)"
   ]
  },
  {
   "cell_type": "markdown",
   "metadata": {},
   "source": [
    "----------\n",
    "**3. Access multiple elements using indexing:**\n",
    "\n",
    "Given the array [[2, 4, 6], [8, 10, 12], [14, 16, 18]], access elements 6, 10, and 14 using index notation.\n",
    "\n",
    "**4. The syntax will be similar to this but with different numbers:**\n",
    "\n",
    "print(arr[4, 8], arr[3, 7], arr[10, 14]))\n"
   ]
  },
  {
   "cell_type": "code",
   "execution_count": 108,
   "metadata": {},
   "outputs": [
    {
     "name": "stdout",
     "output_type": "stream",
     "text": [
      "Elements 6, 10 & 14 = 6 10 14\n"
     ]
    }
   ],
   "source": [
    "c = np.array([[2, 4, 6], [8, 10, 12], [14, 16, 18]])\n",
    "print(\"Elements 6, 10 & 14 =\",c[0, 2], c[1, 1], c[2, 0])"
   ]
  },
  {
   "cell_type": "code",
   "execution_count": 109,
   "metadata": {},
   "outputs": [
    {
     "name": "stdout",
     "output_type": "stream",
     "text": [
      "I may have misunderstood this question but there are no matching elements so this will get an error\n"
     ]
    }
   ],
   "source": [
    "print(\"I may have misunderstood this question but there are no matching elements so this will get an error\")\n",
    "## This code will show an error due to the index not matching the array\n",
    "## print(c[4, 8], c[3, 7], c[10, 14])"
   ]
  },
  {
   "cell_type": "markdown",
   "metadata": {},
   "source": [
    "-----------\n",
    "**5. Modify a specific element:**\n",
    "\n",
    "Replace the value at the first row and first column of [[0, 1, 2], [3, 4, 5], [6, 7, 8]] with 99."
   ]
  },
  {
   "cell_type": "code",
   "execution_count": 112,
   "metadata": {},
   "outputs": [
    {
     "name": "stdout",
     "output_type": "stream",
     "text": [
      "Origional array\n",
      "[[0 1 2]\n",
      " [3 4 5]\n",
      " [6 7 8]]\n",
      "\n",
      "Array with 99 added to first row, first column\n",
      "[[99  1  2]\n",
      " [ 3  4  5]\n",
      " [ 6  7  8]]\n"
     ]
    }
   ],
   "source": [
    "d = np.array([[0, 1, 2], [3, 4, 5], [6, 7, 8]])\n",
    "print(\"Origional array\")\n",
    "print (d)\n",
    "d2 = d.copy()\n",
    "d2 [0,0] = 99\n",
    "print()\n",
    "print (\"Array with 99 added to first row, first column\")\n",
    "print (d2)"
   ]
  },
  {
   "cell_type": "markdown",
   "metadata": {},
   "source": [
    "--------\n",
    "**6.Replace a row:**\n",
    "\n",
    "Replace the third row of [[10, 20, 30], [40, 50, 60], [70, 80, 90]] with [1, 1, 1].\n"
   ]
  },
  {
   "cell_type": "code",
   "execution_count": 114,
   "metadata": {},
   "outputs": [
    {
     "name": "stdout",
     "output_type": "stream",
     "text": [
      "Origional array\n",
      "[[10 20 30]\n",
      " [40 50 60]\n",
      " [70 80 90]]\n",
      "\n",
      "Array with 1's added to third row\n",
      "[[10 20 30]\n",
      " [40 50 60]\n",
      " [ 1  1  1]]\n"
     ]
    }
   ],
   "source": [
    "e = np.array([[10, 20, 30], [40, 50, 60], [70, 80, 90]])\n",
    "print (\"Origional array\")\n",
    "print (e)\n",
    "\n",
    "e2 = e.copy()\n",
    "e2[2] = [1, 1, 1]\n",
    "print()\n",
    "print (\"Array with 1's added to third row\")\n",
    "print(e2)"
   ]
  },
  {
   "cell_type": "code",
   "execution_count": 115,
   "metadata": {},
   "outputs": [
    {
     "name": "stdout",
     "output_type": "stream",
     "text": [
      "This uses the Numpy vertical stack to merge the arrays, the horizontal stack will not work as the elements do not match\n",
      "[[0 0 0 0 0]\n",
      " [0 1 1 1 0]\n",
      " [0 6 6 6 0]\n",
      " [0 1 1 1 0]\n",
      " [0 0 0 0 0]]\n"
     ]
    }
   ],
   "source": [
    "##Can you create this new array by merging two existing arrays\n",
    "\n",
    "f = np.array([[0,0,0,0,0],[0,1,1,1,0]])\n",
    "g = np.array([[0,6,6,6,0],[0,1,1,1,0],[0,0,0,0,0]])\n",
    "merge = np.vstack ((f,g))\n",
    "print (\"This uses the Numpy vertical stack to merge the arrays, the horizontal stack will not work as the elements do not match\")\n",
    "print (merge)"
   ]
  },
  {
   "cell_type": "markdown",
   "metadata": {},
   "source": [
    "<h3>Maths and Stats\n"
   ]
  },
  {
   "cell_type": "markdown",
   "metadata": {},
   "source": [
    "**1. Element-wise addition:** Create two 1D arrays, [1, 2, 3] and [4, 5, 6], and add them element-wise.\n",
    "\n",
    "**2. Element-wise division:** Divide [10, 20, 30] by [2, 4, 5] element-wise.\n",
    "\n",
    "**3. Calculate the mean of an array:** Create an array [10, 20, 30, 40, 50] and calculate its mean.\n",
    "\n",
    "**4. Find the standard deviation:** Compute the standard deviation of the array [10, 20, 30, 40, 50]\n",
    "\n",
    "**5. Percentile calculation:** Compute the 25th, 50th, and 75th percentiles of the array [10, 20, 30, 40, 50]."
   ]
  },
  {
   "cell_type": "code",
   "execution_count": 118,
   "metadata": {},
   "outputs": [
    {
     "name": "stdout",
     "output_type": "stream",
     "text": [
      "This is array 1 [[1 2 3]]\n",
      "This is array 2 [[4 5 6]]\n",
      "The is the two added together [[5 7 9]]\n"
     ]
    }
   ],
   "source": [
    "## 1. Element-wise addition\n",
    "h1 = np.array([[1, 2, 3]])\n",
    "h2 = np.array([[4, 5, 6]])\n",
    "print(\"This is array 1\", h1)\n",
    "print(\"This is array 2\", h2)\n",
    "h12 = h1 + h2\n",
    "print (\"The is the two added together\",h12)"
   ]
  },
  {
   "cell_type": "code",
   "execution_count": 119,
   "metadata": {},
   "outputs": [
    {
     "name": "stdout",
     "output_type": "stream",
     "text": [
      "This is array 1 [[10 20 30]]\n",
      "This is array 2 [[2 4 5]]\n",
      "The is the two divided [[5 5 6]]\n"
     ]
    }
   ],
   "source": [
    "## 2. Element-wise division\n",
    "i1 = np.array([[10, 20, 30]]) \n",
    "i2 = np.array([[2, 4, 5]])\n",
    "print(\"This is array 1\", i1)\n",
    "print(\"This is array 2\", i2)\n",
    "i12 = i1 / i2\n",
    "print (\"The is the two divided\",i12.astype(int))"
   ]
  },
  {
   "cell_type": "code",
   "execution_count": 122,
   "metadata": {},
   "outputs": [
    {
     "name": "stdout",
     "output_type": "stream",
     "text": [
      "The mean = 30\n"
     ]
    }
   ],
   "source": [
    "## 3. Calculate the mean of an array\n",
    "j = np.array([[10, 20, 30, 40, 50]])\n",
    "mean_all = np.mean(j)\n",
    "print (\"The mean =\", mean_all.astype(int))"
   ]
  },
  {
   "cell_type": "code",
   "execution_count": 124,
   "metadata": {},
   "outputs": [
    {
     "name": "stdout",
     "output_type": "stream",
     "text": [
      "The Standard Deviation = 14.142135623730951\n",
      "Rounded value = 14\n"
     ]
    }
   ],
   "source": [
    "## 4. Find the standard deviation\n",
    "k = np.array([[10, 20, 30, 40, 50]])\n",
    "sd_all = np.std(k)\n",
    "print (\"The Standard Deviation =\",sd_all)\n",
    "print (\"Rounded value =\",sd_all.astype(int))"
   ]
  },
  {
   "cell_type": "code",
   "execution_count": 129,
   "metadata": {},
   "outputs": [
    {
     "name": "stdout",
     "output_type": "stream",
     "text": [
      "25th Percentile = 20\n",
      "50th Percentile = 30\n",
      "75th Percentile = 40\n"
     ]
    }
   ],
   "source": [
    "## 5. Percentile calculation\n",
    "l = np.array([[10, 20, 30, 40, 50]])\n",
    "\n",
    "perc_25 = np.percentile(l, 25)   # 25th percentile\n",
    "perc_50 = np.percentile(l, 50)   # 50th percentile (Median)\n",
    "perc_75 = np.percentile(l, 75)   # 75th percentile\n",
    "\n",
    "print(\"25th Percentile =\", perc_25.astype(int))\n",
    "print(\"50th Percentile =\", perc_50.astype(int))\n",
    "print(\"75th Percentile =\", perc_75.astype(int))"
   ]
  },
  {
   "cell_type": "code",
   "execution_count": null,
   "metadata": {},
   "outputs": [],
   "source": []
  }
 ],
 "metadata": {
  "kernelspec": {
   "display_name": "Python 3 (ipykernel)",
   "language": "python",
   "name": "python3"
  },
  "language_info": {
   "codemirror_mode": {
    "name": "ipython",
    "version": 3
   },
   "file_extension": ".py",
   "mimetype": "text/x-python",
   "name": "python",
   "nbconvert_exporter": "python",
   "pygments_lexer": "ipython3",
   "version": "3.10.9"
  }
 },
 "nbformat": 4,
 "nbformat_minor": 2
}
