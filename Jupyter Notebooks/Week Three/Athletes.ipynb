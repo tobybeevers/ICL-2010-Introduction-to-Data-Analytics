{
  "metadata": {
    "kernelspec": {
      "name": "python",
      "display_name": "Python (Pyodide)",
      "language": "python"
    },
    "language_info": {
      "codemirror_mode": {
        "name": "python",
        "version": 3
      },
      "file_extension": ".py",
      "mimetype": "text/x-python",
      "name": "python",
      "nbconvert_exporter": "python",
      "pygments_lexer": "ipython3",
      "version": "3.8"
    }
  },
  "nbformat_minor": 4,
  "nbformat": 4,
  "cells": [
    {
      "cell_type": "markdown",
      "source": "**Introduction**\n\n - Create a new folder in JuypterLite for Week Three\n - Import the bios.csv as the underlaying dataset\n - Now import the pandas library\n   \n------",
      "metadata": {}
    },
    {
      "cell_type": "code",
      "source": "## Import pandas library\nimport pandas as pd\nbios = pd.read_csv('bios.csv')\nprint(bios)",
      "metadata": {
        "trusted": true
      },
      "outputs": [
        {
          "name": "stderr",
          "text": "<ipython-input-1-92b31b1a2afd>:2: DeprecationWarning: \nPyarrow will become a required dependency of pandas in the next major release of pandas (pandas 3.0),\n(to allow more performant data types, such as the Arrow string type, and better interoperability with other libraries)\nbut was not found to be installed on your system.\nIf this would cause problems for you,\nplease provide us feedback at https://github.com/pandas-dev/pandas/issues/54466\n        \n  import pandas as pd\n",
          "output_type": "stream"
        },
        {
          "name": "stdout",
          "text": "        athlete_id                   name   born_date        born_city  \\\n0                1  Jean-François Blanchy  1886-12-12         Bordeaux   \n1                2         Arnaud Boetsch  1969-04-01           Meulan   \n2                3           Jean Borotra  1898-08-13         Biarritz   \n3                4        Jacques Brugnon  1895-05-11      Paris VIIIe   \n4                5           Albert Canet  1878-04-17       Wandsworth   \n...            ...                    ...         ...              ...   \n145495      149222      Polina Luchnikova  2002-01-30            Serov   \n145496      149223    Valeriya Merkusheva  1999-09-20  Moskva (Moscow)   \n145497      149224        Yuliya Smirnova  1998-05-08           Kotlas   \n145498      149225         André Foussard  1899-05-19            Niort   \n145499      149814          Bill Phillips  1913-07-15     Dulwich Hill   \n\n                 born_region born_country        NOC  height_cm  weight_kg  \\\n0                    Gironde          FRA     France        NaN        NaN   \n1                   Yvelines          FRA     France      183.0       76.0   \n2       Pyrénées-Atlantiques          FRA     France      183.0       76.0   \n3                      Paris          FRA     France      168.0       64.0   \n4                    England          GBR     France        NaN        NaN   \n...                      ...          ...        ...        ...        ...   \n145495            Sverdlovsk          RUS        ROC      167.0       61.0   \n145496                Moskva          RUS        ROC      168.0       65.0   \n145497           Arkhangelsk          RUS        ROC      163.0       55.0   \n145498           Deux-Sèvres          FRA     France      166.0        NaN   \n145499       New South Wales          AUS  Australia        NaN        NaN   \n\n         died_date  \n0       1960-10-02  \n1              NaN  \n2       1994-07-17  \n3       1978-03-20  \n4       1930-07-25  \n...            ...  \n145495         NaN  \n145496         NaN  \n145497         NaN  \n145498  1986-03-18  \n145499  2003-10-20  \n\n[145500 rows x 10 columns]\n",
          "output_type": "stream"
        }
      ],
      "execution_count": 1
    },
    {
      "cell_type": "markdown",
      "source": "-------\n\n**Using .columns in panda**\n\nIn pandas, bios.columns is an attribute that returns the labels of the columns in the DataFrame named bios.\n\n*Key Points:*\n - Type: The output is a pandas Index object, which contains the names of the columns.\n - Usage: You can use it to inspect the column names, iterate through them, or manipulate them as needed.\n\n*See the below and it basically returns the header of the cvs file*\n\n----",
      "metadata": {}
    },
    {
      "cell_type": "code",
      "source": "## The .column in pands is not considered a \"Function\" it is an attribute of a dataframe\nbios.columns",
      "metadata": {
        "trusted": true
      },
      "outputs": [
        {
          "execution_count": 2,
          "output_type": "execute_result",
          "data": {
            "text/plain": "Index(['athlete_id', 'name', 'born_date', 'born_city', 'born_region',\n       'born_country', 'NOC', 'height_cm', 'weight_kg', 'died_date'],\n      dtype='object')"
          },
          "metadata": {}
        }
      ],
      "execution_count": 2
    },
    {
      "cell_type": "markdown",
      "source": "------\n\n**Using the .tolist**\n\nIn the pandas library, bios.index.tolist() is used to convert the index of a DataFrame (or Series) named bios into a Python list.\nHere's a breakdown of what each part does:\n\n - bios: This is a pandas DataFrame or Series.\n - index: This attribute retrieves the index (row labels) of the DataFrame or Series.\n - tolist(): This method converts the index (which is typically a pandas Index object) into a standard Python list.\n\nSo, bios.index.tolist() will give you a list containing all the row labels of the bios DataFrame or Series. This can be useful for further processing or for iterating through the index values.\n\n------",
      "metadata": {}
    },
    {
      "cell_type": "code",
      "source": "## 145500 row on the dataset\n\nbios.index.tolist()",
      "metadata": {
        "trusted": true
      },
      "outputs": [],
      "execution_count": null
    },
    {
      "cell_type": "markdown",
      "source": "-------\n\n**Using .info in pandas**\n\nIn pandas, the .info() method is used to get a concise summary of a DataFrame. When you call bios.info(), it provides useful information about the DataFrame, including:\n\n - Index Range: Shows the range of the index (e.g., RangeIndex: 100 entries, 0 to 99).\n - Columns: Lists the names of the columns, their data types, and the number of non-null values.\n - Data Types: Indicates the data type of each column (e.g., int64, float64, object).\n - Memory Usage: Displays the amount of memory used by the DataFrame.\n\nThis method is especially useful for quickly understanding the structure of your data, checking for missing values, and identifying data types. \n\n-------",
      "metadata": {}
    },
    {
      "cell_type": "code",
      "source": "bios.info()",
      "metadata": {
        "trusted": true
      },
      "outputs": [],
      "execution_count": null
    },
    {
      "cell_type": "markdown",
      "source": "-----\n\n**Using .stats in panda**\n\nIn pandas, there isn't a built-in .stats method. However, if you're looking for statistical summaries of a DataFrame, you might be thinking of the .describe() method.\n''''\n.describe()\n''''\n\nThe .describe() method provides descriptive statistics for numeric columns in a DataFrame, including: \n- Count: Number of non-null values.\n- Mean: Average of the values.\n- Standard Deviation (std): Measure of the amount of variation or dispersion.\n- Min: Minimum value.\n- 25th Percentile (25%): First quartile.\n- 50th Percentile (50%): Median.\n- 75th Percentile (75%): Third quartile.\n- Max: Maximum value.\n\n------",
      "metadata": {}
    },
    {
      "cell_type": "code",
      "source": "## Worth noting that .describe will only return INT or FLOAT, by adding (include='object') you can see the values that are STR\nbios.describe (include='object')\n#bios.describe()",
      "metadata": {
        "trusted": true
      },
      "outputs": [],
      "execution_count": null
    },
    {
      "cell_type": "markdown",
      "source": "----\n\n**Using display in pandas**\n\nThsi will return the top and bottom 5 rows of the dataframe\n\n--------",
      "metadata": {}
    },
    {
      "cell_type": "code",
      "source": "display(bios)",
      "metadata": {
        "trusted": true
      },
      "outputs": [],
      "execution_count": null
    },
    {
      "cell_type": "markdown",
      "source": "--------\n\n**Now moving into locating data using pandas, these can be seen as filter**\n\nShow all the record that are over 215, in this case CMs\n`````\nbios.loc[bios['height_cm']>215]\n`````\nIf you want only certain columns you include them after the record you want \n`````\nbios.loc[bios['height_cm'] > 215, ['name', 'height_cm']]\n`````\nYou can also go shorthand with\n````\nbios[bios['height_cm'] > 215, ['name', 'height_cm']]\n````\nYou can filter on multiple values with the & \n``````\nbios[(bios['height_cm'] > 215) & (bios['born_country']=='USA')]\n``````\nFiltering in objects (STR) isn't always that great\n````\nbios[bios['name'].str.contains('keith')] # Filter by string conditions. You'll see the results aren't great\n````\nA useful additional to the search above. Ignore the case used in the name. You'll see this has many more results than above.\n`````\nbios[bios['name'].str.contains('keith', case=False)]\n`````\n\n\n**<span style=\"color:red;\"> Always make sure to use parentheses around each condition when combining them with & or | to avoid ambiguity. </span> **\n\n-------  ",
      "metadata": {}
    },
    {
      "cell_type": "code",
      "source": "bios[(bios['height_cm'] > 215) & (bios['born_country']=='USA')][['name', 'height_cm']]",
      "metadata": {
        "trusted": true
      },
      "outputs": [],
      "execution_count": null
    },
    {
      "cell_type": "markdown",
      "source": "------\n\n**Regex expressions**\n\nRegular Expressions (Regex) Regular Expression, or regex or regexp in short, is extremely and amazingly powerful in searching and manipulating text strings, particularly in processing text files. One line of regex can easily replace several dozen lines of programming codes.\n\n**Special Regex Characters:** These characters have special meaning in regex (use the link): ., +, *, ?, ^, $, (, ), [, ], {, }, |, \\.\n\nSource\nhttps://www3.ntu.edu.sg/home/ehchua/programming/howto/Regexe.html#:~:text=Regular%20Expressions%20(Regex),dozen%20lines%20of%20programming%20codes\n\n-------\n",
      "metadata": {}
    },
    {
      "cell_type": "code",
      "source": "## This time we are searching for Keith OR Patrick\n\nbios[bios['name'].str.contains('keith|patrick', case=False)]\n\n## OR Operator (|): E.g., the regex four|4 accepts strings \"four\" or \"4\". NB. This is only searching on the \"name\" column",
      "metadata": {
        "trusted": true
      },
      "outputs": [],
      "execution_count": null
    },
    {
      "cell_type": "code",
      "source": "# Other useful regex filters\n# Find athletes born in cities that start with a vowel:\n\nvowel_cities = bios[bios['born_city'].str.contains(r'^[AEIOUaeiou]', na=False)]\nvowel_cities",
      "metadata": {
        "trusted": true
      },
      "outputs": [],
      "execution_count": null
    },
    {
      "cell_type": "code",
      "source": "# Find athletes with names that contain exactly two vowels:\ntwo_vowels = bios[bios['name'].str.contains(r'^[^AEIOUaeiou]*[AEIOUaeiou][^AEIOUaeiou]*[AEIOUaeiou][^AEIOUaeiou]*$', na=False)]\ntwo_vowels\n",
      "metadata": {
        "trusted": true
      },
      "outputs": [],
      "execution_count": null
    },
    {
      "cell_type": "markdown",
      "source": "--------\n\nThe r before the string in the regular expression (e.g., r'^[AEIOUaeiou]') indicates that it is a raw string in Python.\n\n**Why use a raw string?**\n\n**1. Escape Characters:** In regular strings, backslashes \\ are used as escape characters. For example, \\n represents a newline, and \\t represents a tab. If you use a backslash in a regular expression, it can lead to confusion. By using a raw string, Python treats backslashes as literal characters and doesn't interpret them as escape sequences.\n\n**2. Simplicity:** Raw strings make it easier to write regular expressions without worrying about escaping backslashes. For example, to match a backslash in a regex, you would normally write it as \\ \\ , but in a raw string, you can just use \\ .\n\n*Example*\n\n - Regular string: \"\\\\d\" matches a digit.\n - Raw string: r\"\\d\" also matches a digit, but it's clearer because you don't have to double the backslash.\n - \nIn your case, since there are no backslashes in the regex, using a raw string makes the expression easier to read and avoids potential confusion with escape characters.\n\n-----",
      "metadata": {}
    },
    {
      "cell_type": "code",
      "source": "# Find athletes with names that have repeated consecutive letters (e.g., \"Aaron\", \"Emmett\"):\n#repeated_letters = bios[bios['name'].str.extract(r'(.)\\1', na=False)]\n#repeated_letters = bios[bios['name'].str.contains(r'([a-zA-Z])\\1', na=False)]\n\n#repeated_letters = bios[bios['name'].str.contains(r'(.)\\1', na=False, regex=True)]\n\n\n# Create a boolean mask using str.contains\nmask = bios['name'].str.contains(r'(.)\\1', na=False)\n\n# Use the mask to filter the DataFrame\nrepeated_letters = bios[mask]\nprint(repeated_letters)",
      "metadata": {
        "trusted": true
      },
      "outputs": [],
      "execution_count": null
    },
    {
      "cell_type": "code",
      "source": "# Find athletes with names ending in 'son' or 'sen'\nson_sen_names = bios[bios['name'].str.contains(r'son$|sen$', case=False, na=False)]\nprint(son_sen_names['name'].tolist())",
      "metadata": {
        "trusted": true
      },
      "outputs": [],
      "execution_count": null
    },
    {
      "cell_type": "code",
      "source": "# Find athletes with names that do not contain any vowels:\nno_vowels = bios[bios['name'].str.contains(r'^[^AEIOUaeiou]*$', na=False)]\nprint(no_vowels['name'])",
      "metadata": {
        "trusted": true
      },
      "outputs": [],
      "execution_count": null
    },
    {
      "cell_type": "code",
      "source": "# Find athletes whose names contain a hyphen or an apostrophe:\nhyphen_apostrophe = bios[bios['name'].str.contains(r\"[-']\", na=False)]\nprint (hyphen_apostrophe['name'])",
      "metadata": {
        "trusted": true
      },
      "outputs": [],
      "execution_count": null
    },
    {
      "cell_type": "code",
      "source": "# Find athletes with names that start and end with the same letter:\nstart_end_same = bios[bios['name'].str.contains(r'^(.).*\\1$', na=False, case=False)]\nprint(start_end_same['name'])",
      "metadata": {
        "trusted": true
      },
      "outputs": [],
      "execution_count": null
    },
    {
      "cell_type": "code",
      "source": "# Find athletes with a born_city that has exactly 7 characters:\ncity_seven_chars = bios[bios['born_city'].str.contains(r'^.{7}$', na=False)]\nprint (city_seven_chars [['name', 'born_city']])",
      "metadata": {
        "trusted": true
      },
      "outputs": [],
      "execution_count": null
    },
    {
      "cell_type": "code",
      "source": "# Find athletes with names containing three or more vowels:\nthree_or_more_vowels = bios[bios['name'].str.contains(r'([AEIOUaeiou].*){3,}', na=False)]\nprint (three_or_more_vowels['name'])",
      "metadata": {
        "trusted": true
      },
      "outputs": [],
      "execution_count": null
    },
    {
      "cell_type": "markdown",
      "source": "-------\n\n**The below cells show two diufferent methods for the same results - Query Vs isin**\n\n - For simple membership checks on smaller datasets, isin() is often sufficient and fast.\n - For complex filtering conditions, especially on larger datasets, query() can provide better readability and potentially better performance.\n - When using query(), ensure proper data types are used for columns to optimise performance.\n - Consider using Parquet file format and column pruning for significant performance improvements when working with large datasets.\n - For distributed computing with libraries like Dask, be aware of potential performance issues with isin() on large filter lists and many partitions.\n\n`````\nvar.isin()\nvar.query()\n`````\n-------",
      "metadata": {}
    },
    {
      "cell_type": "code",
      "source": "## isin method (e.g 3 countries) & startswith (e.g. Bob).  \nbios[bios['born_country'].isin([\"USA\", \"FRA\", \"GBR\"]) & (bios['name'].str.startswith(\"Bob\"))]\n",
      "metadata": {
        "trusted": true
      },
      "outputs": [
        {
          "execution_count": 4,
          "output_type": "execute_result",
          "data": {
            "text/plain": "        athlete_id               name   born_date    born_city    born_region  \\\n3422          3434       Bobby Kelsey  1938-12-08       London        England   \n3513          3525        Bobby Wells  1961-05-15       London        England   \n4866          4884         Bob Purdie  1911-02-18      Glasgow       Scotland   \n5745          5768         Bob Boozer  1937-04-26        Omaha       Nebraska   \n6294          6323     Bob Jeangerard  1932-06-20     Evanston       Illinois   \n...            ...                ...         ...          ...            ...   \n124504      126809         Bob Willis  1987-03-15      Chicago       Illinois   \n126356      128708        Bobby Brown  1991-06-05       Denver       Colorado   \n135183      138328       Bobby Butler  1987-04-26  Marlborough  Massachusetts   \n135193      138340  Bobby Sanguinetti  1988-02-29      Trenton     New Jersey   \n144657      148353       Bobby Lammie  1997-02-10    Stranraer       Scotland   \n\n       born_country            NOC  height_cm  weight_kg   died_date  \n3422            GBR  Great Britain      177.0       62.0         NaN  \n3513            GBR  Great Britain      193.0       91.0         NaN  \n4866            GBR    New Zealand        NaN        NaN  1982-07-09  \n5745            USA  United States      203.0       99.0  2012-05-19  \n6294            USA  United States      190.0       86.0  2014-07-05  \n...             ...            ...        ...        ...         ...  \n124504          USA  United States      193.0       80.0         NaN  \n126356          USA  United States      188.0       82.0         NaN  \n135183          USA  United States      183.0       86.0         NaN  \n135193          USA  United States      188.0       86.0         NaN  \n144657          GBR  Great Britain        NaN        NaN         NaN  \n\n[183 rows x 10 columns]",
            "text/html": "<div>\n<style scoped>\n    .dataframe tbody tr th:only-of-type {\n        vertical-align: middle;\n    }\n\n    .dataframe tbody tr th {\n        vertical-align: top;\n    }\n\n    .dataframe thead th {\n        text-align: right;\n    }\n</style>\n<table border=\"1\" class=\"dataframe\">\n  <thead>\n    <tr style=\"text-align: right;\">\n      <th></th>\n      <th>athlete_id</th>\n      <th>name</th>\n      <th>born_date</th>\n      <th>born_city</th>\n      <th>born_region</th>\n      <th>born_country</th>\n      <th>NOC</th>\n      <th>height_cm</th>\n      <th>weight_kg</th>\n      <th>died_date</th>\n    </tr>\n  </thead>\n  <tbody>\n    <tr>\n      <th>3422</th>\n      <td>3434</td>\n      <td>Bobby Kelsey</td>\n      <td>1938-12-08</td>\n      <td>London</td>\n      <td>England</td>\n      <td>GBR</td>\n      <td>Great Britain</td>\n      <td>177.0</td>\n      <td>62.0</td>\n      <td>NaN</td>\n    </tr>\n    <tr>\n      <th>3513</th>\n      <td>3525</td>\n      <td>Bobby Wells</td>\n      <td>1961-05-15</td>\n      <td>London</td>\n      <td>England</td>\n      <td>GBR</td>\n      <td>Great Britain</td>\n      <td>193.0</td>\n      <td>91.0</td>\n      <td>NaN</td>\n    </tr>\n    <tr>\n      <th>4866</th>\n      <td>4884</td>\n      <td>Bob Purdie</td>\n      <td>1911-02-18</td>\n      <td>Glasgow</td>\n      <td>Scotland</td>\n      <td>GBR</td>\n      <td>New Zealand</td>\n      <td>NaN</td>\n      <td>NaN</td>\n      <td>1982-07-09</td>\n    </tr>\n    <tr>\n      <th>5745</th>\n      <td>5768</td>\n      <td>Bob Boozer</td>\n      <td>1937-04-26</td>\n      <td>Omaha</td>\n      <td>Nebraska</td>\n      <td>USA</td>\n      <td>United States</td>\n      <td>203.0</td>\n      <td>99.0</td>\n      <td>2012-05-19</td>\n    </tr>\n    <tr>\n      <th>6294</th>\n      <td>6323</td>\n      <td>Bob Jeangerard</td>\n      <td>1932-06-20</td>\n      <td>Evanston</td>\n      <td>Illinois</td>\n      <td>USA</td>\n      <td>United States</td>\n      <td>190.0</td>\n      <td>86.0</td>\n      <td>2014-07-05</td>\n    </tr>\n    <tr>\n      <th>...</th>\n      <td>...</td>\n      <td>...</td>\n      <td>...</td>\n      <td>...</td>\n      <td>...</td>\n      <td>...</td>\n      <td>...</td>\n      <td>...</td>\n      <td>...</td>\n      <td>...</td>\n    </tr>\n    <tr>\n      <th>124504</th>\n      <td>126809</td>\n      <td>Bob Willis</td>\n      <td>1987-03-15</td>\n      <td>Chicago</td>\n      <td>Illinois</td>\n      <td>USA</td>\n      <td>United States</td>\n      <td>193.0</td>\n      <td>80.0</td>\n      <td>NaN</td>\n    </tr>\n    <tr>\n      <th>126356</th>\n      <td>128708</td>\n      <td>Bobby Brown</td>\n      <td>1991-06-05</td>\n      <td>Denver</td>\n      <td>Colorado</td>\n      <td>USA</td>\n      <td>United States</td>\n      <td>188.0</td>\n      <td>82.0</td>\n      <td>NaN</td>\n    </tr>\n    <tr>\n      <th>135183</th>\n      <td>138328</td>\n      <td>Bobby Butler</td>\n      <td>1987-04-26</td>\n      <td>Marlborough</td>\n      <td>Massachusetts</td>\n      <td>USA</td>\n      <td>United States</td>\n      <td>183.0</td>\n      <td>86.0</td>\n      <td>NaN</td>\n    </tr>\n    <tr>\n      <th>135193</th>\n      <td>138340</td>\n      <td>Bobby Sanguinetti</td>\n      <td>1988-02-29</td>\n      <td>Trenton</td>\n      <td>New Jersey</td>\n      <td>USA</td>\n      <td>United States</td>\n      <td>188.0</td>\n      <td>86.0</td>\n      <td>NaN</td>\n    </tr>\n    <tr>\n      <th>144657</th>\n      <td>148353</td>\n      <td>Bobby Lammie</td>\n      <td>1997-02-10</td>\n      <td>Stranraer</td>\n      <td>Scotland</td>\n      <td>GBR</td>\n      <td>Great Britain</td>\n      <td>NaN</td>\n      <td>NaN</td>\n      <td>NaN</td>\n    </tr>\n  </tbody>\n</table>\n<p>183 rows × 10 columns</p>\n</div>"
          },
          "metadata": {}
        }
      ],
      "execution_count": 4
    },
    {
      "cell_type": "code",
      "source": "#The query function is similar to the filter methods above but is little used according to the tutorial I'm following.\nbios.query('born_country == \"USA\" and born_city == \"Seattle\"') ",
      "metadata": {
        "trusted": true
      },
      "outputs": [
        {
          "execution_count": 3,
          "output_type": "execute_result",
          "data": {
            "text/plain": "        athlete_id                   name   born_date born_city born_region  \\\n11030        11088          David Halpern  1955-08-18   Seattle  Washington   \n12800        12870            Todd Trewin  1958-04-20   Seattle  Washington   \n15476        15583         Scott McKinley  1968-10-15   Seattle  Washington   \n29079        29293            Joyce Tanac  1950-09-27   Seattle  Washington   \n31135        31371        Bill Kuhlemeier  1908-01-14   Seattle  Washington   \n...            ...                    ...         ...       ...         ...   \n133392      136331          Hans Struzyna  1989-03-31   Seattle  Washington   \n135448      138662  Maude Davis Crossland  2003-03-19   Seattle  Washington   \n136993      140229        Jenell Berhorst  2003-12-13   Seattle  Washington   \n143507      147159         Nevin Harrison  2002-06-02   Seattle  Washington   \n145446      149169       Corinne Stoddard  2001-08-15   Seattle  Washington   \n\n       born_country            NOC  height_cm  weight_kg   died_date  \n11030           USA  United States      178.0       79.0         NaN  \n12800           USA  United States      180.0       75.0         NaN  \n15476           USA  United States      183.0       75.0         NaN  \n29079           USA  United States      156.0       49.0         NaN  \n31135           USA  United States        NaN        NaN  2001-07-08  \n...             ...            ...        ...        ...         ...  \n133392          USA  United States      188.0       91.0         NaN  \n135448          USA       Colombia        NaN        NaN         NaN  \n136993          USA  United States        NaN        NaN         NaN  \n143507          USA  United States      175.0       73.0         NaN  \n145446          USA  United States        NaN        NaN         NaN  \n\n[102 rows x 10 columns]",
            "text/html": "<div>\n<style scoped>\n    .dataframe tbody tr th:only-of-type {\n        vertical-align: middle;\n    }\n\n    .dataframe tbody tr th {\n        vertical-align: top;\n    }\n\n    .dataframe thead th {\n        text-align: right;\n    }\n</style>\n<table border=\"1\" class=\"dataframe\">\n  <thead>\n    <tr style=\"text-align: right;\">\n      <th></th>\n      <th>athlete_id</th>\n      <th>name</th>\n      <th>born_date</th>\n      <th>born_city</th>\n      <th>born_region</th>\n      <th>born_country</th>\n      <th>NOC</th>\n      <th>height_cm</th>\n      <th>weight_kg</th>\n      <th>died_date</th>\n    </tr>\n  </thead>\n  <tbody>\n    <tr>\n      <th>11030</th>\n      <td>11088</td>\n      <td>David Halpern</td>\n      <td>1955-08-18</td>\n      <td>Seattle</td>\n      <td>Washington</td>\n      <td>USA</td>\n      <td>United States</td>\n      <td>178.0</td>\n      <td>79.0</td>\n      <td>NaN</td>\n    </tr>\n    <tr>\n      <th>12800</th>\n      <td>12870</td>\n      <td>Todd Trewin</td>\n      <td>1958-04-20</td>\n      <td>Seattle</td>\n      <td>Washington</td>\n      <td>USA</td>\n      <td>United States</td>\n      <td>180.0</td>\n      <td>75.0</td>\n      <td>NaN</td>\n    </tr>\n    <tr>\n      <th>15476</th>\n      <td>15583</td>\n      <td>Scott McKinley</td>\n      <td>1968-10-15</td>\n      <td>Seattle</td>\n      <td>Washington</td>\n      <td>USA</td>\n      <td>United States</td>\n      <td>183.0</td>\n      <td>75.0</td>\n      <td>NaN</td>\n    </tr>\n    <tr>\n      <th>29079</th>\n      <td>29293</td>\n      <td>Joyce Tanac</td>\n      <td>1950-09-27</td>\n      <td>Seattle</td>\n      <td>Washington</td>\n      <td>USA</td>\n      <td>United States</td>\n      <td>156.0</td>\n      <td>49.0</td>\n      <td>NaN</td>\n    </tr>\n    <tr>\n      <th>31135</th>\n      <td>31371</td>\n      <td>Bill Kuhlemeier</td>\n      <td>1908-01-14</td>\n      <td>Seattle</td>\n      <td>Washington</td>\n      <td>USA</td>\n      <td>United States</td>\n      <td>NaN</td>\n      <td>NaN</td>\n      <td>2001-07-08</td>\n    </tr>\n    <tr>\n      <th>...</th>\n      <td>...</td>\n      <td>...</td>\n      <td>...</td>\n      <td>...</td>\n      <td>...</td>\n      <td>...</td>\n      <td>...</td>\n      <td>...</td>\n      <td>...</td>\n      <td>...</td>\n    </tr>\n    <tr>\n      <th>133392</th>\n      <td>136331</td>\n      <td>Hans Struzyna</td>\n      <td>1989-03-31</td>\n      <td>Seattle</td>\n      <td>Washington</td>\n      <td>USA</td>\n      <td>United States</td>\n      <td>188.0</td>\n      <td>91.0</td>\n      <td>NaN</td>\n    </tr>\n    <tr>\n      <th>135448</th>\n      <td>138662</td>\n      <td>Maude Davis Crossland</td>\n      <td>2003-03-19</td>\n      <td>Seattle</td>\n      <td>Washington</td>\n      <td>USA</td>\n      <td>Colombia</td>\n      <td>NaN</td>\n      <td>NaN</td>\n      <td>NaN</td>\n    </tr>\n    <tr>\n      <th>136993</th>\n      <td>140229</td>\n      <td>Jenell Berhorst</td>\n      <td>2003-12-13</td>\n      <td>Seattle</td>\n      <td>Washington</td>\n      <td>USA</td>\n      <td>United States</td>\n      <td>NaN</td>\n      <td>NaN</td>\n      <td>NaN</td>\n    </tr>\n    <tr>\n      <th>143507</th>\n      <td>147159</td>\n      <td>Nevin Harrison</td>\n      <td>2002-06-02</td>\n      <td>Seattle</td>\n      <td>Washington</td>\n      <td>USA</td>\n      <td>United States</td>\n      <td>175.0</td>\n      <td>73.0</td>\n      <td>NaN</td>\n    </tr>\n    <tr>\n      <th>145446</th>\n      <td>149169</td>\n      <td>Corinne Stoddard</td>\n      <td>2001-08-15</td>\n      <td>Seattle</td>\n      <td>Washington</td>\n      <td>USA</td>\n      <td>United States</td>\n      <td>NaN</td>\n      <td>NaN</td>\n      <td>NaN</td>\n    </tr>\n  </tbody>\n</table>\n<p>102 rows × 10 columns</p>\n</div>"
          },
          "metadata": {}
        }
      ],
      "execution_count": 3
    },
    {
      "cell_type": "code",
      "source": "",
      "metadata": {
        "trusted": true
      },
      "outputs": [],
      "execution_count": null
    }
  ]
}