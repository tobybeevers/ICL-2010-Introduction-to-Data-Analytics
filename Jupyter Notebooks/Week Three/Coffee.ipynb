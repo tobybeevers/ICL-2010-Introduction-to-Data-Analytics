{
  "metadata": {
    "kernelspec": {
      "name": "python",
      "display_name": "Python (Pyodide)",
      "language": "python"
    },
    "language_info": {
      "codemirror_mode": {
        "name": "python",
        "version": 3
      },
      "file_extension": ".py",
      "mimetype": "text/x-python",
      "name": "python",
      "nbconvert_exporter": "python",
      "pygments_lexer": "ipython3",
      "version": "3.8"
    }
  },
  "nbformat_minor": 4,
  "nbformat": 4,
  "cells": [
    {
      "cell_type": "markdown",
      "source": "# Week Three into Week Four\n\n*TB was away for LEC with SLT*\n\n**Introducing NumPy Library**\n\n----------",
      "metadata": {}
    },
    {
      "cell_type": "code",
      "source": "## Import pandas and numpy libraries\nimport pandas as pd\nimport numpy as np\ncoffee = pd.read_csv('coffee.csv')\nprint(coffee)",
      "metadata": {
        "trusted": true
      },
      "outputs": [
        {
          "name": "stdout",
          "text": "          Day Coffee Type  Units Sold\n0      Monday    Espresso          25\n1      Monday       Latte          15\n2     Tuesday    Espresso          30\n3     Tuesday       Latte          20\n4   Wednesday    Espresso          35\n5   Wednesday       Latte          25\n6    Thursday    Espresso          40\n7    Thursday       Latte          30\n8      Friday    Espresso          45\n9      Friday       Latte          35\n10   Saturday    Espresso          45\n11   Saturday       Latte          35\n12     Sunday    Espresso          45\n13     Sunday       Latte          35\n",
          "output_type": "stream"
        }
      ],
      "execution_count": 8
    },
    {
      "cell_type": "code",
      "source": "coffee['price'] = 4.99\ndisplay(coffee)",
      "metadata": {
        "trusted": true
      },
      "outputs": [
        {
          "output_type": "display_data",
          "data": {
            "text/plain": "          Day Coffee Type  Units Sold  price\n0      Monday    Espresso          25   4.99\n1      Monday       Latte          15   4.99\n2     Tuesday    Espresso          30   4.99\n3     Tuesday       Latte          20   4.99\n4   Wednesday    Espresso          35   4.99\n5   Wednesday       Latte          25   4.99\n6    Thursday    Espresso          40   4.99\n7    Thursday       Latte          30   4.99\n8      Friday    Espresso          45   4.99\n9      Friday       Latte          35   4.99\n10   Saturday    Espresso          45   4.99\n11   Saturday       Latte          35   4.99\n12     Sunday    Espresso          45   4.99\n13     Sunday       Latte          35   4.99",
            "text/html": "<div>\n<style scoped>\n    .dataframe tbody tr th:only-of-type {\n        vertical-align: middle;\n    }\n\n    .dataframe tbody tr th {\n        vertical-align: top;\n    }\n\n    .dataframe thead th {\n        text-align: right;\n    }\n</style>\n<table border=\"1\" class=\"dataframe\">\n  <thead>\n    <tr style=\"text-align: right;\">\n      <th></th>\n      <th>Day</th>\n      <th>Coffee Type</th>\n      <th>Units Sold</th>\n      <th>price</th>\n    </tr>\n  </thead>\n  <tbody>\n    <tr>\n      <th>0</th>\n      <td>Monday</td>\n      <td>Espresso</td>\n      <td>25</td>\n      <td>4.99</td>\n    </tr>\n    <tr>\n      <th>1</th>\n      <td>Monday</td>\n      <td>Latte</td>\n      <td>15</td>\n      <td>4.99</td>\n    </tr>\n    <tr>\n      <th>2</th>\n      <td>Tuesday</td>\n      <td>Espresso</td>\n      <td>30</td>\n      <td>4.99</td>\n    </tr>\n    <tr>\n      <th>3</th>\n      <td>Tuesday</td>\n      <td>Latte</td>\n      <td>20</td>\n      <td>4.99</td>\n    </tr>\n    <tr>\n      <th>4</th>\n      <td>Wednesday</td>\n      <td>Espresso</td>\n      <td>35</td>\n      <td>4.99</td>\n    </tr>\n    <tr>\n      <th>5</th>\n      <td>Wednesday</td>\n      <td>Latte</td>\n      <td>25</td>\n      <td>4.99</td>\n    </tr>\n    <tr>\n      <th>6</th>\n      <td>Thursday</td>\n      <td>Espresso</td>\n      <td>40</td>\n      <td>4.99</td>\n    </tr>\n    <tr>\n      <th>7</th>\n      <td>Thursday</td>\n      <td>Latte</td>\n      <td>30</td>\n      <td>4.99</td>\n    </tr>\n    <tr>\n      <th>8</th>\n      <td>Friday</td>\n      <td>Espresso</td>\n      <td>45</td>\n      <td>4.99</td>\n    </tr>\n    <tr>\n      <th>9</th>\n      <td>Friday</td>\n      <td>Latte</td>\n      <td>35</td>\n      <td>4.99</td>\n    </tr>\n    <tr>\n      <th>10</th>\n      <td>Saturday</td>\n      <td>Espresso</td>\n      <td>45</td>\n      <td>4.99</td>\n    </tr>\n    <tr>\n      <th>11</th>\n      <td>Saturday</td>\n      <td>Latte</td>\n      <td>35</td>\n      <td>4.99</td>\n    </tr>\n    <tr>\n      <th>12</th>\n      <td>Sunday</td>\n      <td>Espresso</td>\n      <td>45</td>\n      <td>4.99</td>\n    </tr>\n    <tr>\n      <th>13</th>\n      <td>Sunday</td>\n      <td>Latte</td>\n      <td>35</td>\n      <td>4.99</td>\n    </tr>\n  </tbody>\n</table>\n</div>"
          },
          "metadata": {}
        }
      ],
      "execution_count": 9
    },
    {
      "cell_type": "code",
      "source": "#create a new column called new_price. Using the numpy method where, check coffee types where it is Espresso, IF so make it 3.99. ELSE make it 5.99\n# NB. see the .np we are now using Numpy\n\ncoffee['new_price'] = np.where(coffee['Coffee Type']=='Espresso', 3.99, 5.99)\ncoffee",
      "metadata": {
        "trusted": true
      },
      "outputs": [
        {
          "execution_count": 10,
          "output_type": "execute_result",
          "data": {
            "text/plain": "          Day Coffee Type  Units Sold  price  new_price\n0      Monday    Espresso          25   4.99       3.99\n1      Monday       Latte          15   4.99       5.99\n2     Tuesday    Espresso          30   4.99       3.99\n3     Tuesday       Latte          20   4.99       5.99\n4   Wednesday    Espresso          35   4.99       3.99\n5   Wednesday       Latte          25   4.99       5.99\n6    Thursday    Espresso          40   4.99       3.99\n7    Thursday       Latte          30   4.99       5.99\n8      Friday    Espresso          45   4.99       3.99\n9      Friday       Latte          35   4.99       5.99\n10   Saturday    Espresso          45   4.99       3.99\n11   Saturday       Latte          35   4.99       5.99\n12     Sunday    Espresso          45   4.99       3.99\n13     Sunday       Latte          35   4.99       5.99",
            "text/html": "<div>\n<style scoped>\n    .dataframe tbody tr th:only-of-type {\n        vertical-align: middle;\n    }\n\n    .dataframe tbody tr th {\n        vertical-align: top;\n    }\n\n    .dataframe thead th {\n        text-align: right;\n    }\n</style>\n<table border=\"1\" class=\"dataframe\">\n  <thead>\n    <tr style=\"text-align: right;\">\n      <th></th>\n      <th>Day</th>\n      <th>Coffee Type</th>\n      <th>Units Sold</th>\n      <th>price</th>\n      <th>new_price</th>\n    </tr>\n  </thead>\n  <tbody>\n    <tr>\n      <th>0</th>\n      <td>Monday</td>\n      <td>Espresso</td>\n      <td>25</td>\n      <td>4.99</td>\n      <td>3.99</td>\n    </tr>\n    <tr>\n      <th>1</th>\n      <td>Monday</td>\n      <td>Latte</td>\n      <td>15</td>\n      <td>4.99</td>\n      <td>5.99</td>\n    </tr>\n    <tr>\n      <th>2</th>\n      <td>Tuesday</td>\n      <td>Espresso</td>\n      <td>30</td>\n      <td>4.99</td>\n      <td>3.99</td>\n    </tr>\n    <tr>\n      <th>3</th>\n      <td>Tuesday</td>\n      <td>Latte</td>\n      <td>20</td>\n      <td>4.99</td>\n      <td>5.99</td>\n    </tr>\n    <tr>\n      <th>4</th>\n      <td>Wednesday</td>\n      <td>Espresso</td>\n      <td>35</td>\n      <td>4.99</td>\n      <td>3.99</td>\n    </tr>\n    <tr>\n      <th>5</th>\n      <td>Wednesday</td>\n      <td>Latte</td>\n      <td>25</td>\n      <td>4.99</td>\n      <td>5.99</td>\n    </tr>\n    <tr>\n      <th>6</th>\n      <td>Thursday</td>\n      <td>Espresso</td>\n      <td>40</td>\n      <td>4.99</td>\n      <td>3.99</td>\n    </tr>\n    <tr>\n      <th>7</th>\n      <td>Thursday</td>\n      <td>Latte</td>\n      <td>30</td>\n      <td>4.99</td>\n      <td>5.99</td>\n    </tr>\n    <tr>\n      <th>8</th>\n      <td>Friday</td>\n      <td>Espresso</td>\n      <td>45</td>\n      <td>4.99</td>\n      <td>3.99</td>\n    </tr>\n    <tr>\n      <th>9</th>\n      <td>Friday</td>\n      <td>Latte</td>\n      <td>35</td>\n      <td>4.99</td>\n      <td>5.99</td>\n    </tr>\n    <tr>\n      <th>10</th>\n      <td>Saturday</td>\n      <td>Espresso</td>\n      <td>45</td>\n      <td>4.99</td>\n      <td>3.99</td>\n    </tr>\n    <tr>\n      <th>11</th>\n      <td>Saturday</td>\n      <td>Latte</td>\n      <td>35</td>\n      <td>4.99</td>\n      <td>5.99</td>\n    </tr>\n    <tr>\n      <th>12</th>\n      <td>Sunday</td>\n      <td>Espresso</td>\n      <td>45</td>\n      <td>4.99</td>\n      <td>3.99</td>\n    </tr>\n    <tr>\n      <th>13</th>\n      <td>Sunday</td>\n      <td>Latte</td>\n      <td>35</td>\n      <td>4.99</td>\n      <td>5.99</td>\n    </tr>\n  </tbody>\n</table>\n</div>"
          },
          "metadata": {}
        }
      ],
      "execution_count": 10
    },
    {
      "cell_type": "markdown",
      "source": "------\n\n# Powerful Hey\n\n*“What if I wanted to change more than two conditions at once using where?”*\nThe method is boolean based so you can’t, or at least you can’t easily.\nhttps://sparkbyexamples.com/python/numpy-where-multiple-conditions/\n\nTake some time to experiment with the Numpy method where.\nhttps://www.geeksforgeeks.org/numpy-where-in-python/\n\n-------\n\n*NumPy Example 1 - Usage of NumPy where()*\n\n```\narr = np.array([5, 10, 15, 20, 25])\nprint(\"Given array:\", arr)\n\n# Get the indices of array elements\narr1=np.where(arr)\nprint(\"Get indices of given array:\", arr1)\n````\n\n**Result**\n\nGiven array: [ 5 10 15 20 25]\n\nGet indices of given array: (array([0, 1, 2, 3, 4], dtype=int32),)",
      "metadata": {}
    },
    {
      "cell_type": "code",
      "source": "arr = np.array([5, 10, 15, 20, 25])\nprint(\"Given array:\", arr)\n\n# Get the indices of array elements\narr1=np.where(arr)\nprint(\"Get indices of given array:\", arr1)",
      "metadata": {
        "trusted": true
      },
      "outputs": [
        {
          "name": "stdout",
          "text": "Given array: [ 5 10 15 20 25]\nGet indices of given array: (array([0, 1, 2, 3, 4], dtype=int32),)\n",
          "output_type": "stream"
        }
      ],
      "execution_count": 11
    },
    {
      "cell_type": "markdown",
      "source": "------\n\n*NumPy Example 2 - NumPy where() Multiple Conditions With the & Operator*\n```\narr = np.array([5, 10, 15, 20, 25])\n\n# Use numpy.where() multiple conditions with the & operator\narr2 = arr[np.where((arr >5) & (arr <25))]\nprint(\"Get selected array elements:\", arr2)\n````\n\n**Result**\n\nGet selected array elements: [10 15 20]",
      "metadata": {}
    },
    {
      "cell_type": "code",
      "source": "arr = np.array([5, 10, 15, 20, 25])\n\n# Use numpy.where() multiple conditions with the & operator\narr2 = arr[np.where((arr >5) & (arr <25))]\nprint(\"Get selected array elements:\", arr2)",
      "metadata": {
        "trusted": true
      },
      "outputs": [
        {
          "name": "stdout",
          "text": "Get selected array elements: [10 15 20]\n",
          "output_type": "stream"
        }
      ],
      "execution_count": 12
    },
    {
      "cell_type": "code",
      "source": "",
      "metadata": {
        "trusted": true
      },
      "outputs": [],
      "execution_count": null
    }
  ]
}