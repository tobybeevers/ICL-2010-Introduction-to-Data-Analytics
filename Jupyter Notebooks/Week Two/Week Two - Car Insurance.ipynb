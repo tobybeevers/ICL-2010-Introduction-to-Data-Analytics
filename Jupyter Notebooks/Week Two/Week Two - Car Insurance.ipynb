{
  "metadata": {
    "kernelspec": {
      "name": "python",
      "display_name": "Python (Pyodide)",
      "language": "python"
    },
    "language_info": {
      "codemirror_mode": {
        "name": "python",
        "version": 3
      },
      "file_extension": ".py",
      "mimetype": "text/x-python",
      "name": "python",
      "nbconvert_exporter": "python",
      "pygments_lexer": "ipython3",
      "version": "3.8"
    }
  },
  "nbformat_minor": 4,
  "nbformat": 4,
  "cells": [
    {
      "cell_type": "markdown",
      "source": "**Exercise**\n\nUsing the commands we used with coffee.csv answer the questions/complete the actions below:\n- How many different datatypes are there in the car insurance csv?\n- Use describe and copy a screen of what the result is.\n- How many unique DUIS are there in the dataset?\n- How many unique values are stored in the dataset?\n- What specific record is at index 369?\n- Print the columns with annual mileage and children from index 234-245\n- Sort the entire dataset by credit score in descending order.\n- Sort by Education firstly and Income secondly\n- The person in index has just been caught speeding again. Make his speeding violations 2.\n- The person in 2233 may be having some kind of crisis. Change their vehicle type to a tank.\n- Change the index in the dataframe to become the ID column\n\nBegin by importing numpy and pandas\n\n------",
      "metadata": {}
    },
    {
      "cell_type": "code",
      "source": "import numpy as np\nimport pandas as pd\n\ninsurance=pd.read_csv('Car_Insurance_Claim.csv')\ninsurance.head(4)\n",
      "metadata": {
        "trusted": true
      },
      "outputs": [
        {
          "execution_count": 11,
          "output_type": "execute_result",
          "data": {
            "text/plain": "       ID    AGE  GENDER      RACE DRIVING_EXPERIENCE    EDUCATION  \\\n0  569520    65+  female  majority               0-9y  high school   \n1  750365  16-25    male  majority               0-9y         none   \n2  199901  16-25  female  majority               0-9y  high school   \n3  478866  16-25    male  majority               0-9y   university   \n\n          INCOME  CREDIT_SCORE  VEHICLE_OWNERSHIP VEHICLE_YEAR  MARRIED  \\\n0    upper class      0.629027                  1   after 2015        0   \n1        poverty      0.357757                  0  before 2015        0   \n2  working class      0.493146                  1  before 2015        0   \n3  working class      0.206013                  1  before 2015        0   \n\n   CHILDREN  POSTAL_CODE  ANNUAL_MILEAGE VEHICLE_TYPE  SPEEDING_VIOLATIONS  \\\n0         1        10238         12000.0        sedan                    0   \n1         0        10238         16000.0        sedan                    0   \n2         0        10238         11000.0        sedan                    0   \n3         1        32765         11000.0        sedan                    0   \n\n   DUIS  PAST_ACCIDENTS  OUTCOME  \n0     0               0        0  \n1     0               0        1  \n2     0               0        0  \n3     0               0        0  ",
            "text/html": "<div>\n<style scoped>\n    .dataframe tbody tr th:only-of-type {\n        vertical-align: middle;\n    }\n\n    .dataframe tbody tr th {\n        vertical-align: top;\n    }\n\n    .dataframe thead th {\n        text-align: right;\n    }\n</style>\n<table border=\"1\" class=\"dataframe\">\n  <thead>\n    <tr style=\"text-align: right;\">\n      <th></th>\n      <th>ID</th>\n      <th>AGE</th>\n      <th>GENDER</th>\n      <th>RACE</th>\n      <th>DRIVING_EXPERIENCE</th>\n      <th>EDUCATION</th>\n      <th>INCOME</th>\n      <th>CREDIT_SCORE</th>\n      <th>VEHICLE_OWNERSHIP</th>\n      <th>VEHICLE_YEAR</th>\n      <th>MARRIED</th>\n      <th>CHILDREN</th>\n      <th>POSTAL_CODE</th>\n      <th>ANNUAL_MILEAGE</th>\n      <th>VEHICLE_TYPE</th>\n      <th>SPEEDING_VIOLATIONS</th>\n      <th>DUIS</th>\n      <th>PAST_ACCIDENTS</th>\n      <th>OUTCOME</th>\n    </tr>\n  </thead>\n  <tbody>\n    <tr>\n      <th>0</th>\n      <td>569520</td>\n      <td>65+</td>\n      <td>female</td>\n      <td>majority</td>\n      <td>0-9y</td>\n      <td>high school</td>\n      <td>upper class</td>\n      <td>0.629027</td>\n      <td>1</td>\n      <td>after 2015</td>\n      <td>0</td>\n      <td>1</td>\n      <td>10238</td>\n      <td>12000.0</td>\n      <td>sedan</td>\n      <td>0</td>\n      <td>0</td>\n      <td>0</td>\n      <td>0</td>\n    </tr>\n    <tr>\n      <th>1</th>\n      <td>750365</td>\n      <td>16-25</td>\n      <td>male</td>\n      <td>majority</td>\n      <td>0-9y</td>\n      <td>none</td>\n      <td>poverty</td>\n      <td>0.357757</td>\n      <td>0</td>\n      <td>before 2015</td>\n      <td>0</td>\n      <td>0</td>\n      <td>10238</td>\n      <td>16000.0</td>\n      <td>sedan</td>\n      <td>0</td>\n      <td>0</td>\n      <td>0</td>\n      <td>1</td>\n    </tr>\n    <tr>\n      <th>2</th>\n      <td>199901</td>\n      <td>16-25</td>\n      <td>female</td>\n      <td>majority</td>\n      <td>0-9y</td>\n      <td>high school</td>\n      <td>working class</td>\n      <td>0.493146</td>\n      <td>1</td>\n      <td>before 2015</td>\n      <td>0</td>\n      <td>0</td>\n      <td>10238</td>\n      <td>11000.0</td>\n      <td>sedan</td>\n      <td>0</td>\n      <td>0</td>\n      <td>0</td>\n      <td>0</td>\n    </tr>\n    <tr>\n      <th>3</th>\n      <td>478866</td>\n      <td>16-25</td>\n      <td>male</td>\n      <td>majority</td>\n      <td>0-9y</td>\n      <td>university</td>\n      <td>working class</td>\n      <td>0.206013</td>\n      <td>1</td>\n      <td>before 2015</td>\n      <td>0</td>\n      <td>1</td>\n      <td>32765</td>\n      <td>11000.0</td>\n      <td>sedan</td>\n      <td>0</td>\n      <td>0</td>\n      <td>0</td>\n      <td>0</td>\n    </tr>\n  </tbody>\n</table>\n</div>"
          },
          "metadata": {}
        }
      ],
      "execution_count": 11
    },
    {
      "cell_type": "code",
      "source": "## How many different datatypes are there in the car insurance csv?\n\n## You could us the below and get a tbale of each type, a small dataset is ok but if you want a summary then the .unique will introduce and array but not a count of\n##insurance.info()\n\ninsurance.dtypes.unique()",
      "metadata": {
        "trusted": true
      },
      "outputs": [
        {
          "execution_count": 23,
          "output_type": "execute_result",
          "data": {
            "text/plain": "array([dtype('int64'), dtype('O'), dtype('float64')], dtype=object)"
          },
          "metadata": {}
        }
      ],
      "execution_count": 23
    },
    {
      "cell_type": "code",
      "source": "## Use describe and copy a screen of what the result is\n\ninsurance.describe",
      "metadata": {
        "trusted": true
      },
      "outputs": [
        {
          "execution_count": 24,
          "output_type": "execute_result",
          "data": {
            "text/plain": "<bound method NDFrame.describe of           ID    AGE  GENDER      RACE DRIVING_EXPERIENCE    EDUCATION  \\\n0     569520    65+  female  majority               0-9y  high school   \n1     750365  16-25    male  majority               0-9y         none   \n2     199901  16-25  female  majority               0-9y  high school   \n3     478866  16-25    male  majority               0-9y   university   \n4     731664  26-39    male  majority             10-19y         none   \n...      ...    ...     ...       ...                ...          ...   \n9995  323164  26-39  female  majority             10-19y   university   \n9996  910346  26-39  female  majority             10-19y         none   \n9997  468409  26-39    male  majority               0-9y  high school   \n9998  903459  26-39  female  majority             10-19y  high school   \n9999  442696  26-39  female  majority               0-9y         none   \n\n             INCOME  CREDIT_SCORE  VEHICLE_OWNERSHIP VEHICLE_YEAR  MARRIED  \\\n0       upper class      0.629027                  1   after 2015        0   \n1           poverty      0.357757                  0  before 2015        0   \n2     working class      0.493146                  1  before 2015        0   \n3     working class      0.206013                  1  before 2015        0   \n4     working class      0.388366                  1  before 2015        0   \n...             ...           ...                ...          ...      ...   \n9995    upper class      0.582787                  1  before 2015        0   \n9996   middle class      0.522231                  1   after 2015        0   \n9997   middle class      0.470940                  1  before 2015        0   \n9998        poverty      0.364185                  0  before 2015        0   \n9999  working class      0.435225                  1  before 2015        1   \n\n      CHILDREN  POSTAL_CODE  ANNUAL_MILEAGE VEHICLE_TYPE  SPEEDING_VIOLATIONS  \\\n0            1        10238         12000.0        sedan                    0   \n1            0        10238         16000.0        sedan                    0   \n2            0        10238         11000.0        sedan                    0   \n3            1        32765         11000.0        sedan                    0   \n4            0        32765         12000.0        sedan                    2   \n...        ...          ...             ...          ...                  ...   \n9995         0        10238         16000.0        sedan                    0   \n9996         1        32765             NaN        sedan                    1   \n9997         1        10238         14000.0        sedan                    0   \n9998         1        10238         13000.0        sedan                    2   \n9999         1        10238         13000.0        sedan                    0   \n\n      DUIS  PAST_ACCIDENTS  OUTCOME  \n0        0               0        0  \n1        0               0        1  \n2        0               0        0  \n3        0               0        0  \n4        0               1        1  \n...    ...             ...      ...  \n9995     0               1        0  \n9996     0               0        0  \n9997     0               0        0  \n9998     0               1        1  \n9999     0               0        0  \n\n[10000 rows x 19 columns]>"
          },
          "metadata": {}
        }
      ],
      "execution_count": 24
    },
    {
      "cell_type": "code",
      "source": "## How many unique DUIS are there in the dataset?\n\ninsurance['DUIS'].unique()\n",
      "metadata": {
        "trusted": true
      },
      "outputs": [
        {
          "execution_count": 28,
          "output_type": "execute_result",
          "data": {
            "text/plain": "array([0, 2, 1, 3, 4, 5, 6], dtype=int64)"
          },
          "metadata": {}
        }
      ],
      "execution_count": 28
    },
    {
      "cell_type": "code",
      "source": "## How many unique values are stored in the dataset?\n\ninsurance.nunique().sum()\n",
      "metadata": {
        "trusted": true
      },
      "outputs": [
        {
          "execution_count": 31,
          "output_type": "execute_result",
          "data": {
            "text/plain": "19117"
          },
          "metadata": {}
        }
      ],
      "execution_count": 31
    },
    {
      "cell_type": "code",
      "source": "## What specific record is at index 369?\n\ninsurance.loc[369]\n",
      "metadata": {
        "trusted": true
      },
      "outputs": [
        {
          "execution_count": 36,
          "output_type": "execute_result",
          "data": {
            "text/plain": "ID                          871263\nAGE                            65+\nGENDER                      female\nRACE                      majority\nDRIVING_EXPERIENCE          10-19y\nEDUCATION               university\nINCOME                 upper class\nCREDIT_SCORE              0.583806\nVEHICLE_OWNERSHIP                1\nVEHICLE_YEAR            after 2015\nMARRIED                          1\nCHILDREN                         1\nPOSTAL_CODE                  10238\nANNUAL_MILEAGE             11000.0\nVEHICLE_TYPE                 sedan\nSPEEDING_VIOLATIONS              0\nDUIS                             0\nPAST_ACCIDENTS                   0\nOUTCOME                          0\nName: 369, dtype: object"
          },
          "metadata": {}
        }
      ],
      "execution_count": 36
    },
    {
      "cell_type": "code",
      "source": "## Print the columns with annual mileage and children from index 234-245\n\ninsurance.loc[234:245, [\"ANNUAL_MILEAGE\", \"CHILDREN\"]]\n",
      "metadata": {
        "trusted": true
      },
      "outputs": [
        {
          "execution_count": 42,
          "output_type": "execute_result",
          "data": {
            "text/plain": "     ANNUAL_MILEAGE  CHILDREN\n234         15000.0         0\n235         11000.0         1\n236          9000.0         1\n237         11000.0         1\n238          7000.0         1\n239          8000.0         1\n240          8000.0         1\n241         16000.0         0\n242         17000.0         0\n243         10000.0         1\n244             NaN         0\n245          7000.0         1",
            "text/html": "<div>\n<style scoped>\n    .dataframe tbody tr th:only-of-type {\n        vertical-align: middle;\n    }\n\n    .dataframe tbody tr th {\n        vertical-align: top;\n    }\n\n    .dataframe thead th {\n        text-align: right;\n    }\n</style>\n<table border=\"1\" class=\"dataframe\">\n  <thead>\n    <tr style=\"text-align: right;\">\n      <th></th>\n      <th>ANNUAL_MILEAGE</th>\n      <th>CHILDREN</th>\n    </tr>\n  </thead>\n  <tbody>\n    <tr>\n      <th>234</th>\n      <td>15000.0</td>\n      <td>0</td>\n    </tr>\n    <tr>\n      <th>235</th>\n      <td>11000.0</td>\n      <td>1</td>\n    </tr>\n    <tr>\n      <th>236</th>\n      <td>9000.0</td>\n      <td>1</td>\n    </tr>\n    <tr>\n      <th>237</th>\n      <td>11000.0</td>\n      <td>1</td>\n    </tr>\n    <tr>\n      <th>238</th>\n      <td>7000.0</td>\n      <td>1</td>\n    </tr>\n    <tr>\n      <th>239</th>\n      <td>8000.0</td>\n      <td>1</td>\n    </tr>\n    <tr>\n      <th>240</th>\n      <td>8000.0</td>\n      <td>1</td>\n    </tr>\n    <tr>\n      <th>241</th>\n      <td>16000.0</td>\n      <td>0</td>\n    </tr>\n    <tr>\n      <th>242</th>\n      <td>17000.0</td>\n      <td>0</td>\n    </tr>\n    <tr>\n      <th>243</th>\n      <td>10000.0</td>\n      <td>1</td>\n    </tr>\n    <tr>\n      <th>244</th>\n      <td>NaN</td>\n      <td>0</td>\n    </tr>\n    <tr>\n      <th>245</th>\n      <td>7000.0</td>\n      <td>1</td>\n    </tr>\n  </tbody>\n</table>\n</div>"
          },
          "metadata": {}
        }
      ],
      "execution_count": 42
    },
    {
      "cell_type": "code",
      "source": "## Sort the entire dataset by credit score in descending order.\n\ninsurance.sort_values(\"CREDIT_SCORE\",ascending=False)\n",
      "metadata": {
        "trusted": true
      },
      "outputs": [
        {
          "execution_count": 44,
          "output_type": "execute_result",
          "data": {
            "text/plain": "          ID    AGE  GENDER      RACE DRIVING_EXPERIENCE    EDUCATION  \\\n8057  825288  40-64    male  majority             10-19y   university   \n4552  224416  26-39  female  majority             10-19y  high school   \n7816  618914    65+  female  majority             10-19y   university   \n5267  778054  40-64  female  majority             20-29y   university   \n8576   11655  26-39  female  majority             10-19y  high school   \n...      ...    ...     ...       ...                ...          ...   \n9952  870405  40-64  female  majority             10-19y   university   \n9967   27406  26-39  female  majority             10-19y  high school   \n9981  366048  26-39    male  majority               0-9y  high school   \n9985  595418  16-25    male  minority               0-9y  high school   \n9988  479789  26-39    male  majority             10-19y  high school   \n\n             INCOME  CREDIT_SCORE  VEHICLE_OWNERSHIP VEHICLE_YEAR  MARRIED  \\\n8057    upper class      0.960819                  1   after 2015        0   \n4552    upper class      0.915883                  1   after 2015        0   \n7816    upper class      0.914117                  1  before 2015        1   \n5267    upper class      0.896299                  1   after 2015        1   \n8576    upper class      0.884410                  1   after 2015        1   \n...             ...           ...                ...          ...      ...   \n9952    upper class           NaN                  1   after 2015        1   \n9967   middle class           NaN                  0  before 2015        0   \n9981  working class           NaN                  1  before 2015        0   \n9985  working class           NaN                  1  before 2015        0   \n9988        poverty           NaN                  0  before 2015        0   \n\n      CHILDREN  POSTAL_CODE  ANNUAL_MILEAGE VEHICLE_TYPE  SPEEDING_VIOLATIONS  \\\n8057         1        10238         10000.0        sedan                    1   \n4552         0        32765          8000.0        sedan                    1   \n7816         1        10238          7000.0        sedan                    0   \n5267         1        10238         12000.0        sedan                    1   \n8576         1        10238         10000.0        sedan                    0   \n...        ...          ...             ...          ...                  ...   \n9952         1        32765          5000.0        sedan                    1   \n9967         0        92101         13000.0        sedan                    1   \n9981         1        10238         11000.0        sedan                    0   \n9985         1        10238         11000.0        sedan                    0   \n9988         0        10238             NaN        sedan                    1   \n\n      DUIS  PAST_ACCIDENTS  OUTCOME  \n8057     0               1        0  \n4552     0               0        0  \n7816     0               0        0  \n5267     0               1        0  \n8576     0               0        0  \n...    ...             ...      ...  \n9952     0               0        0  \n9967     0               0        0  \n9981     0               0        0  \n9985     0               0        0  \n9988     0               2        1  \n\n[10000 rows x 19 columns]",
            "text/html": "<div>\n<style scoped>\n    .dataframe tbody tr th:only-of-type {\n        vertical-align: middle;\n    }\n\n    .dataframe tbody tr th {\n        vertical-align: top;\n    }\n\n    .dataframe thead th {\n        text-align: right;\n    }\n</style>\n<table border=\"1\" class=\"dataframe\">\n  <thead>\n    <tr style=\"text-align: right;\">\n      <th></th>\n      <th>ID</th>\n      <th>AGE</th>\n      <th>GENDER</th>\n      <th>RACE</th>\n      <th>DRIVING_EXPERIENCE</th>\n      <th>EDUCATION</th>\n      <th>INCOME</th>\n      <th>CREDIT_SCORE</th>\n      <th>VEHICLE_OWNERSHIP</th>\n      <th>VEHICLE_YEAR</th>\n      <th>MARRIED</th>\n      <th>CHILDREN</th>\n      <th>POSTAL_CODE</th>\n      <th>ANNUAL_MILEAGE</th>\n      <th>VEHICLE_TYPE</th>\n      <th>SPEEDING_VIOLATIONS</th>\n      <th>DUIS</th>\n      <th>PAST_ACCIDENTS</th>\n      <th>OUTCOME</th>\n    </tr>\n  </thead>\n  <tbody>\n    <tr>\n      <th>8057</th>\n      <td>825288</td>\n      <td>40-64</td>\n      <td>male</td>\n      <td>majority</td>\n      <td>10-19y</td>\n      <td>university</td>\n      <td>upper class</td>\n      <td>0.960819</td>\n      <td>1</td>\n      <td>after 2015</td>\n      <td>0</td>\n      <td>1</td>\n      <td>10238</td>\n      <td>10000.0</td>\n      <td>sedan</td>\n      <td>1</td>\n      <td>0</td>\n      <td>1</td>\n      <td>0</td>\n    </tr>\n    <tr>\n      <th>4552</th>\n      <td>224416</td>\n      <td>26-39</td>\n      <td>female</td>\n      <td>majority</td>\n      <td>10-19y</td>\n      <td>high school</td>\n      <td>upper class</td>\n      <td>0.915883</td>\n      <td>1</td>\n      <td>after 2015</td>\n      <td>0</td>\n      <td>0</td>\n      <td>32765</td>\n      <td>8000.0</td>\n      <td>sedan</td>\n      <td>1</td>\n      <td>0</td>\n      <td>0</td>\n      <td>0</td>\n    </tr>\n    <tr>\n      <th>7816</th>\n      <td>618914</td>\n      <td>65+</td>\n      <td>female</td>\n      <td>majority</td>\n      <td>10-19y</td>\n      <td>university</td>\n      <td>upper class</td>\n      <td>0.914117</td>\n      <td>1</td>\n      <td>before 2015</td>\n      <td>1</td>\n      <td>1</td>\n      <td>10238</td>\n      <td>7000.0</td>\n      <td>sedan</td>\n      <td>0</td>\n      <td>0</td>\n      <td>0</td>\n      <td>0</td>\n    </tr>\n    <tr>\n      <th>5267</th>\n      <td>778054</td>\n      <td>40-64</td>\n      <td>female</td>\n      <td>majority</td>\n      <td>20-29y</td>\n      <td>university</td>\n      <td>upper class</td>\n      <td>0.896299</td>\n      <td>1</td>\n      <td>after 2015</td>\n      <td>1</td>\n      <td>1</td>\n      <td>10238</td>\n      <td>12000.0</td>\n      <td>sedan</td>\n      <td>1</td>\n      <td>0</td>\n      <td>1</td>\n      <td>0</td>\n    </tr>\n    <tr>\n      <th>8576</th>\n      <td>11655</td>\n      <td>26-39</td>\n      <td>female</td>\n      <td>majority</td>\n      <td>10-19y</td>\n      <td>high school</td>\n      <td>upper class</td>\n      <td>0.884410</td>\n      <td>1</td>\n      <td>after 2015</td>\n      <td>1</td>\n      <td>1</td>\n      <td>10238</td>\n      <td>10000.0</td>\n      <td>sedan</td>\n      <td>0</td>\n      <td>0</td>\n      <td>0</td>\n      <td>0</td>\n    </tr>\n    <tr>\n      <th>...</th>\n      <td>...</td>\n      <td>...</td>\n      <td>...</td>\n      <td>...</td>\n      <td>...</td>\n      <td>...</td>\n      <td>...</td>\n      <td>...</td>\n      <td>...</td>\n      <td>...</td>\n      <td>...</td>\n      <td>...</td>\n      <td>...</td>\n      <td>...</td>\n      <td>...</td>\n      <td>...</td>\n      <td>...</td>\n      <td>...</td>\n      <td>...</td>\n    </tr>\n    <tr>\n      <th>9952</th>\n      <td>870405</td>\n      <td>40-64</td>\n      <td>female</td>\n      <td>majority</td>\n      <td>10-19y</td>\n      <td>university</td>\n      <td>upper class</td>\n      <td>NaN</td>\n      <td>1</td>\n      <td>after 2015</td>\n      <td>1</td>\n      <td>1</td>\n      <td>32765</td>\n      <td>5000.0</td>\n      <td>sedan</td>\n      <td>1</td>\n      <td>0</td>\n      <td>0</td>\n      <td>0</td>\n    </tr>\n    <tr>\n      <th>9967</th>\n      <td>27406</td>\n      <td>26-39</td>\n      <td>female</td>\n      <td>majority</td>\n      <td>10-19y</td>\n      <td>high school</td>\n      <td>middle class</td>\n      <td>NaN</td>\n      <td>0</td>\n      <td>before 2015</td>\n      <td>0</td>\n      <td>0</td>\n      <td>92101</td>\n      <td>13000.0</td>\n      <td>sedan</td>\n      <td>1</td>\n      <td>0</td>\n      <td>0</td>\n      <td>0</td>\n    </tr>\n    <tr>\n      <th>9981</th>\n      <td>366048</td>\n      <td>26-39</td>\n      <td>male</td>\n      <td>majority</td>\n      <td>0-9y</td>\n      <td>high school</td>\n      <td>working class</td>\n      <td>NaN</td>\n      <td>1</td>\n      <td>before 2015</td>\n      <td>0</td>\n      <td>1</td>\n      <td>10238</td>\n      <td>11000.0</td>\n      <td>sedan</td>\n      <td>0</td>\n      <td>0</td>\n      <td>0</td>\n      <td>0</td>\n    </tr>\n    <tr>\n      <th>9985</th>\n      <td>595418</td>\n      <td>16-25</td>\n      <td>male</td>\n      <td>minority</td>\n      <td>0-9y</td>\n      <td>high school</td>\n      <td>working class</td>\n      <td>NaN</td>\n      <td>1</td>\n      <td>before 2015</td>\n      <td>0</td>\n      <td>1</td>\n      <td>10238</td>\n      <td>11000.0</td>\n      <td>sedan</td>\n      <td>0</td>\n      <td>0</td>\n      <td>0</td>\n      <td>0</td>\n    </tr>\n    <tr>\n      <th>9988</th>\n      <td>479789</td>\n      <td>26-39</td>\n      <td>male</td>\n      <td>majority</td>\n      <td>10-19y</td>\n      <td>high school</td>\n      <td>poverty</td>\n      <td>NaN</td>\n      <td>0</td>\n      <td>before 2015</td>\n      <td>0</td>\n      <td>0</td>\n      <td>10238</td>\n      <td>NaN</td>\n      <td>sedan</td>\n      <td>1</td>\n      <td>0</td>\n      <td>2</td>\n      <td>1</td>\n    </tr>\n  </tbody>\n</table>\n<p>10000 rows × 19 columns</p>\n</div>"
          },
          "metadata": {}
        }
      ],
      "execution_count": 44
    },
    {
      "cell_type": "code",
      "source": "## Sort by Education firstly and Income secondly\n\ninsurance.sort_values(by = ['EDUCATION', 'INCOME'])\n",
      "metadata": {
        "trusted": true
      },
      "outputs": [
        {
          "execution_count": 45,
          "output_type": "execute_result",
          "data": {
            "text/plain": "          ID    AGE  GENDER      RACE DRIVING_EXPERIENCE    EDUCATION  \\\n14    980181  26-39    male  majority             10-19y  high school   \n21    912828  16-25    male  majority               0-9y  high school   \n26     98515  40-64    male  majority             10-19y  high school   \n30    642614  40-64    male  majority             20-29y  high school   \n34    146897  26-39  female  majority               0-9y  high school   \n...      ...    ...     ...       ...                ...          ...   \n9870  914534  16-25  female  majority               0-9y   university   \n9908  920333  26-39    male  majority             10-19y   university   \n9931   61277  16-25  female  majority               0-9y   university   \n9956   70825  26-39    male  majority             10-19y   university   \n9964  456628  26-39    male  majority             10-19y   university   \n\n             INCOME  CREDIT_SCORE  VEHICLE_OWNERSHIP VEHICLE_YEAR  MARRIED  \\\n14     middle class      0.461568                  1  before 2015        1   \n21     middle class      0.553260                  1   after 2015        1   \n26     middle class      0.626996                  1  before 2015        0   \n30     middle class      0.521804                  1   after 2015        1   \n34     middle class      0.604684                  1  before 2015        1   \n...             ...           ...                ...          ...      ...   \n9870  working class           NaN                  1   after 2015        0   \n9908  working class      0.368035                  0  before 2015        1   \n9931  working class      0.459474                  1  before 2015        0   \n9956  working class      0.307399                  1  before 2015        0   \n9964  working class      0.491151                  0  before 2015        0   \n\n      CHILDREN  POSTAL_CODE  ANNUAL_MILEAGE VEHICLE_TYPE  SPEEDING_VIOLATIONS  \\\n14           1        10238         12000.0        sedan                    0   \n21           1        32765          8000.0        sedan                    0   \n26           0        10238         13000.0        sedan                    1   \n30           1        92101          7000.0        sedan                    2   \n34           1        21217         11000.0        sedan                    0   \n...        ...          ...             ...          ...                  ...   \n9870         1        10238         13000.0        sedan                    0   \n9908         0        10238             NaN        sedan                    0   \n9931         1        10238         13000.0        sedan                    0   \n9956         0        10238         14000.0        sedan                    3   \n9964         1        10238         11000.0        sedan                    2   \n\n      DUIS  PAST_ACCIDENTS  OUTCOME  \n14       2               1        0  \n21       0               0        1  \n26       1               0        0  \n30       0               1        0  \n34       0               0        1  \n...    ...             ...      ...  \n9870     0               0        0  \n9908     0               0        1  \n9931     0               0        1  \n9956     0               0        0  \n9964     0               1        1  \n\n[10000 rows x 19 columns]",
            "text/html": "<div>\n<style scoped>\n    .dataframe tbody tr th:only-of-type {\n        vertical-align: middle;\n    }\n\n    .dataframe tbody tr th {\n        vertical-align: top;\n    }\n\n    .dataframe thead th {\n        text-align: right;\n    }\n</style>\n<table border=\"1\" class=\"dataframe\">\n  <thead>\n    <tr style=\"text-align: right;\">\n      <th></th>\n      <th>ID</th>\n      <th>AGE</th>\n      <th>GENDER</th>\n      <th>RACE</th>\n      <th>DRIVING_EXPERIENCE</th>\n      <th>EDUCATION</th>\n      <th>INCOME</th>\n      <th>CREDIT_SCORE</th>\n      <th>VEHICLE_OWNERSHIP</th>\n      <th>VEHICLE_YEAR</th>\n      <th>MARRIED</th>\n      <th>CHILDREN</th>\n      <th>POSTAL_CODE</th>\n      <th>ANNUAL_MILEAGE</th>\n      <th>VEHICLE_TYPE</th>\n      <th>SPEEDING_VIOLATIONS</th>\n      <th>DUIS</th>\n      <th>PAST_ACCIDENTS</th>\n      <th>OUTCOME</th>\n    </tr>\n  </thead>\n  <tbody>\n    <tr>\n      <th>14</th>\n      <td>980181</td>\n      <td>26-39</td>\n      <td>male</td>\n      <td>majority</td>\n      <td>10-19y</td>\n      <td>high school</td>\n      <td>middle class</td>\n      <td>0.461568</td>\n      <td>1</td>\n      <td>before 2015</td>\n      <td>1</td>\n      <td>1</td>\n      <td>10238</td>\n      <td>12000.0</td>\n      <td>sedan</td>\n      <td>0</td>\n      <td>2</td>\n      <td>1</td>\n      <td>0</td>\n    </tr>\n    <tr>\n      <th>21</th>\n      <td>912828</td>\n      <td>16-25</td>\n      <td>male</td>\n      <td>majority</td>\n      <td>0-9y</td>\n      <td>high school</td>\n      <td>middle class</td>\n      <td>0.553260</td>\n      <td>1</td>\n      <td>after 2015</td>\n      <td>1</td>\n      <td>1</td>\n      <td>32765</td>\n      <td>8000.0</td>\n      <td>sedan</td>\n      <td>0</td>\n      <td>0</td>\n      <td>0</td>\n      <td>1</td>\n    </tr>\n    <tr>\n      <th>26</th>\n      <td>98515</td>\n      <td>40-64</td>\n      <td>male</td>\n      <td>majority</td>\n      <td>10-19y</td>\n      <td>high school</td>\n      <td>middle class</td>\n      <td>0.626996</td>\n      <td>1</td>\n      <td>before 2015</td>\n      <td>0</td>\n      <td>0</td>\n      <td>10238</td>\n      <td>13000.0</td>\n      <td>sedan</td>\n      <td>1</td>\n      <td>1</td>\n      <td>0</td>\n      <td>0</td>\n    </tr>\n    <tr>\n      <th>30</th>\n      <td>642614</td>\n      <td>40-64</td>\n      <td>male</td>\n      <td>majority</td>\n      <td>20-29y</td>\n      <td>high school</td>\n      <td>middle class</td>\n      <td>0.521804</td>\n      <td>1</td>\n      <td>after 2015</td>\n      <td>1</td>\n      <td>1</td>\n      <td>92101</td>\n      <td>7000.0</td>\n      <td>sedan</td>\n      <td>2</td>\n      <td>0</td>\n      <td>1</td>\n      <td>0</td>\n    </tr>\n    <tr>\n      <th>34</th>\n      <td>146897</td>\n      <td>26-39</td>\n      <td>female</td>\n      <td>majority</td>\n      <td>0-9y</td>\n      <td>high school</td>\n      <td>middle class</td>\n      <td>0.604684</td>\n      <td>1</td>\n      <td>before 2015</td>\n      <td>1</td>\n      <td>1</td>\n      <td>21217</td>\n      <td>11000.0</td>\n      <td>sedan</td>\n      <td>0</td>\n      <td>0</td>\n      <td>0</td>\n      <td>1</td>\n    </tr>\n    <tr>\n      <th>...</th>\n      <td>...</td>\n      <td>...</td>\n      <td>...</td>\n      <td>...</td>\n      <td>...</td>\n      <td>...</td>\n      <td>...</td>\n      <td>...</td>\n      <td>...</td>\n      <td>...</td>\n      <td>...</td>\n      <td>...</td>\n      <td>...</td>\n      <td>...</td>\n      <td>...</td>\n      <td>...</td>\n      <td>...</td>\n      <td>...</td>\n      <td>...</td>\n    </tr>\n    <tr>\n      <th>9870</th>\n      <td>914534</td>\n      <td>16-25</td>\n      <td>female</td>\n      <td>majority</td>\n      <td>0-9y</td>\n      <td>university</td>\n      <td>working class</td>\n      <td>NaN</td>\n      <td>1</td>\n      <td>after 2015</td>\n      <td>0</td>\n      <td>1</td>\n      <td>10238</td>\n      <td>13000.0</td>\n      <td>sedan</td>\n      <td>0</td>\n      <td>0</td>\n      <td>0</td>\n      <td>0</td>\n    </tr>\n    <tr>\n      <th>9908</th>\n      <td>920333</td>\n      <td>26-39</td>\n      <td>male</td>\n      <td>majority</td>\n      <td>10-19y</td>\n      <td>university</td>\n      <td>working class</td>\n      <td>0.368035</td>\n      <td>0</td>\n      <td>before 2015</td>\n      <td>1</td>\n      <td>0</td>\n      <td>10238</td>\n      <td>NaN</td>\n      <td>sedan</td>\n      <td>0</td>\n      <td>0</td>\n      <td>0</td>\n      <td>1</td>\n    </tr>\n    <tr>\n      <th>9931</th>\n      <td>61277</td>\n      <td>16-25</td>\n      <td>female</td>\n      <td>majority</td>\n      <td>0-9y</td>\n      <td>university</td>\n      <td>working class</td>\n      <td>0.459474</td>\n      <td>1</td>\n      <td>before 2015</td>\n      <td>0</td>\n      <td>1</td>\n      <td>10238</td>\n      <td>13000.0</td>\n      <td>sedan</td>\n      <td>0</td>\n      <td>0</td>\n      <td>0</td>\n      <td>1</td>\n    </tr>\n    <tr>\n      <th>9956</th>\n      <td>70825</td>\n      <td>26-39</td>\n      <td>male</td>\n      <td>majority</td>\n      <td>10-19y</td>\n      <td>university</td>\n      <td>working class</td>\n      <td>0.307399</td>\n      <td>1</td>\n      <td>before 2015</td>\n      <td>0</td>\n      <td>0</td>\n      <td>10238</td>\n      <td>14000.0</td>\n      <td>sedan</td>\n      <td>3</td>\n      <td>0</td>\n      <td>0</td>\n      <td>0</td>\n    </tr>\n    <tr>\n      <th>9964</th>\n      <td>456628</td>\n      <td>26-39</td>\n      <td>male</td>\n      <td>majority</td>\n      <td>10-19y</td>\n      <td>university</td>\n      <td>working class</td>\n      <td>0.491151</td>\n      <td>0</td>\n      <td>before 2015</td>\n      <td>0</td>\n      <td>1</td>\n      <td>10238</td>\n      <td>11000.0</td>\n      <td>sedan</td>\n      <td>2</td>\n      <td>0</td>\n      <td>1</td>\n      <td>1</td>\n    </tr>\n  </tbody>\n</table>\n<p>10000 rows × 19 columns</p>\n</div>"
          },
          "metadata": {}
        }
      ],
      "execution_count": 45
    },
    {
      "cell_type": "code",
      "source": "## The person in index 8888 has just been caught speeding again. Make his speeding violations 2.\n\ninsurance.loc[8888, 'SPEEDING_VIOLATIONS'] = 2\ninsurance.to_csv('Car_Insurance_Claim.csv', index=False)\n\ninsurance.loc[8888, 'SPEEDING_VIOLATIONS']",
      "metadata": {
        "trusted": true
      },
      "outputs": [
        {
          "execution_count": 57,
          "output_type": "execute_result",
          "data": {
            "text/plain": "2"
          },
          "metadata": {}
        }
      ],
      "execution_count": 57
    },
    {
      "cell_type": "code",
      "source": "## The person in 2233 may be having some kind of crisis. Change their vehicle type to a tank.\n## IMPORTANT to know that this only updates the df (dataframe), not the csv file\n\ninsurance.loc[2233, 'VEHICLE_TYPE'] = 'tank'\ninsurance.to_csv('Car_Insurance_Claim.csv', index=False)\n\ninsurance.loc[8888, 'VEHICLE_TYPE']",
      "metadata": {
        "trusted": true
      },
      "outputs": [
        {
          "execution_count": 60,
          "output_type": "execute_result",
          "data": {
            "text/plain": "'tank'"
          },
          "metadata": {}
        }
      ],
      "execution_count": 60
    },
    {
      "cell_type": "code",
      "source": "## Change the index in the dataframe to become the ID column\n\ninsurance.index=insurance[\"ID\"]\ndisplay(insurance)\n",
      "metadata": {
        "trusted": true
      },
      "outputs": [
        {
          "output_type": "display_data",
          "data": {
            "text/plain": "            ID    AGE  GENDER      RACE DRIVING_EXPERIENCE    EDUCATION  \\\nID                                                                        \n569520  569520    65+  female  majority               0-9y  high school   \n750365  750365  16-25    male  majority               0-9y         none   \n199901  199901  16-25  female  majority               0-9y  high school   \n478866  478866  16-25    male  majority               0-9y   university   \n731664  731664  26-39    male  majority             10-19y         none   \n...        ...    ...     ...       ...                ...          ...   \n323164  323164  26-39  female  majority             10-19y   university   \n910346  910346  26-39  female  majority             10-19y         none   \n468409  468409  26-39    male  majority               0-9y  high school   \n903459  903459  26-39  female  majority             10-19y  high school   \n442696  442696  26-39  female  majority               0-9y         none   \n\n               INCOME  CREDIT_SCORE  VEHICLE_OWNERSHIP VEHICLE_YEAR  MARRIED  \\\nID                                                                             \n569520    upper class      0.629027                  1   after 2015        0   \n750365        poverty      0.357757                  0  before 2015        0   \n199901  working class      0.493146                  1  before 2015        0   \n478866  working class      0.206013                  1  before 2015        0   \n731664  working class      0.388366                  1  before 2015        0   \n...               ...           ...                ...          ...      ...   \n323164    upper class      0.582787                  1  before 2015        0   \n910346   middle class      0.522231                  1   after 2015        0   \n468409   middle class      0.470940                  1  before 2015        0   \n903459        poverty      0.364185                  0  before 2015        0   \n442696  working class      0.435225                  1  before 2015        1   \n\n        CHILDREN  POSTAL_CODE  ANNUAL_MILEAGE VEHICLE_TYPE  \\\nID                                                           \n569520         1        10238         12000.0        sedan   \n750365         0        10238         16000.0        sedan   \n199901         0        10238         11000.0        sedan   \n478866         1        32765         11000.0        sedan   \n731664         0        32765         12000.0        sedan   \n...          ...          ...             ...          ...   \n323164         0        10238         16000.0        sedan   \n910346         1        32765             NaN        sedan   \n468409         1        10238         14000.0        sedan   \n903459         1        10238         13000.0        sedan   \n442696         1        10238         13000.0        sedan   \n\n       SPEEDING_VIOLATIONS  DUIS  PAST_ACCIDENTS  OUTCOME  \nID                                                         \n569520                   0     0               0        0  \n750365                   0     0               0        1  \n199901                   0     0               0        0  \n478866                   0     0               0        0  \n731664                   2     0               1        1  \n...                    ...   ...             ...      ...  \n323164                   0     0               1        0  \n910346                   1     0               0        0  \n468409                   0     0               0        0  \n903459                   2     0               1        1  \n442696                   0     0               0        0  \n\n[10000 rows x 19 columns]",
            "text/html": "<div>\n<style scoped>\n    .dataframe tbody tr th:only-of-type {\n        vertical-align: middle;\n    }\n\n    .dataframe tbody tr th {\n        vertical-align: top;\n    }\n\n    .dataframe thead th {\n        text-align: right;\n    }\n</style>\n<table border=\"1\" class=\"dataframe\">\n  <thead>\n    <tr style=\"text-align: right;\">\n      <th></th>\n      <th>ID</th>\n      <th>AGE</th>\n      <th>GENDER</th>\n      <th>RACE</th>\n      <th>DRIVING_EXPERIENCE</th>\n      <th>EDUCATION</th>\n      <th>INCOME</th>\n      <th>CREDIT_SCORE</th>\n      <th>VEHICLE_OWNERSHIP</th>\n      <th>VEHICLE_YEAR</th>\n      <th>MARRIED</th>\n      <th>CHILDREN</th>\n      <th>POSTAL_CODE</th>\n      <th>ANNUAL_MILEAGE</th>\n      <th>VEHICLE_TYPE</th>\n      <th>SPEEDING_VIOLATIONS</th>\n      <th>DUIS</th>\n      <th>PAST_ACCIDENTS</th>\n      <th>OUTCOME</th>\n    </tr>\n    <tr>\n      <th>ID</th>\n      <th></th>\n      <th></th>\n      <th></th>\n      <th></th>\n      <th></th>\n      <th></th>\n      <th></th>\n      <th></th>\n      <th></th>\n      <th></th>\n      <th></th>\n      <th></th>\n      <th></th>\n      <th></th>\n      <th></th>\n      <th></th>\n      <th></th>\n      <th></th>\n      <th></th>\n    </tr>\n  </thead>\n  <tbody>\n    <tr>\n      <th>569520</th>\n      <td>569520</td>\n      <td>65+</td>\n      <td>female</td>\n      <td>majority</td>\n      <td>0-9y</td>\n      <td>high school</td>\n      <td>upper class</td>\n      <td>0.629027</td>\n      <td>1</td>\n      <td>after 2015</td>\n      <td>0</td>\n      <td>1</td>\n      <td>10238</td>\n      <td>12000.0</td>\n      <td>sedan</td>\n      <td>0</td>\n      <td>0</td>\n      <td>0</td>\n      <td>0</td>\n    </tr>\n    <tr>\n      <th>750365</th>\n      <td>750365</td>\n      <td>16-25</td>\n      <td>male</td>\n      <td>majority</td>\n      <td>0-9y</td>\n      <td>none</td>\n      <td>poverty</td>\n      <td>0.357757</td>\n      <td>0</td>\n      <td>before 2015</td>\n      <td>0</td>\n      <td>0</td>\n      <td>10238</td>\n      <td>16000.0</td>\n      <td>sedan</td>\n      <td>0</td>\n      <td>0</td>\n      <td>0</td>\n      <td>1</td>\n    </tr>\n    <tr>\n      <th>199901</th>\n      <td>199901</td>\n      <td>16-25</td>\n      <td>female</td>\n      <td>majority</td>\n      <td>0-9y</td>\n      <td>high school</td>\n      <td>working class</td>\n      <td>0.493146</td>\n      <td>1</td>\n      <td>before 2015</td>\n      <td>0</td>\n      <td>0</td>\n      <td>10238</td>\n      <td>11000.0</td>\n      <td>sedan</td>\n      <td>0</td>\n      <td>0</td>\n      <td>0</td>\n      <td>0</td>\n    </tr>\n    <tr>\n      <th>478866</th>\n      <td>478866</td>\n      <td>16-25</td>\n      <td>male</td>\n      <td>majority</td>\n      <td>0-9y</td>\n      <td>university</td>\n      <td>working class</td>\n      <td>0.206013</td>\n      <td>1</td>\n      <td>before 2015</td>\n      <td>0</td>\n      <td>1</td>\n      <td>32765</td>\n      <td>11000.0</td>\n      <td>sedan</td>\n      <td>0</td>\n      <td>0</td>\n      <td>0</td>\n      <td>0</td>\n    </tr>\n    <tr>\n      <th>731664</th>\n      <td>731664</td>\n      <td>26-39</td>\n      <td>male</td>\n      <td>majority</td>\n      <td>10-19y</td>\n      <td>none</td>\n      <td>working class</td>\n      <td>0.388366</td>\n      <td>1</td>\n      <td>before 2015</td>\n      <td>0</td>\n      <td>0</td>\n      <td>32765</td>\n      <td>12000.0</td>\n      <td>sedan</td>\n      <td>2</td>\n      <td>0</td>\n      <td>1</td>\n      <td>1</td>\n    </tr>\n    <tr>\n      <th>...</th>\n      <td>...</td>\n      <td>...</td>\n      <td>...</td>\n      <td>...</td>\n      <td>...</td>\n      <td>...</td>\n      <td>...</td>\n      <td>...</td>\n      <td>...</td>\n      <td>...</td>\n      <td>...</td>\n      <td>...</td>\n      <td>...</td>\n      <td>...</td>\n      <td>...</td>\n      <td>...</td>\n      <td>...</td>\n      <td>...</td>\n      <td>...</td>\n    </tr>\n    <tr>\n      <th>323164</th>\n      <td>323164</td>\n      <td>26-39</td>\n      <td>female</td>\n      <td>majority</td>\n      <td>10-19y</td>\n      <td>university</td>\n      <td>upper class</td>\n      <td>0.582787</td>\n      <td>1</td>\n      <td>before 2015</td>\n      <td>0</td>\n      <td>0</td>\n      <td>10238</td>\n      <td>16000.0</td>\n      <td>sedan</td>\n      <td>0</td>\n      <td>0</td>\n      <td>1</td>\n      <td>0</td>\n    </tr>\n    <tr>\n      <th>910346</th>\n      <td>910346</td>\n      <td>26-39</td>\n      <td>female</td>\n      <td>majority</td>\n      <td>10-19y</td>\n      <td>none</td>\n      <td>middle class</td>\n      <td>0.522231</td>\n      <td>1</td>\n      <td>after 2015</td>\n      <td>0</td>\n      <td>1</td>\n      <td>32765</td>\n      <td>NaN</td>\n      <td>sedan</td>\n      <td>1</td>\n      <td>0</td>\n      <td>0</td>\n      <td>0</td>\n    </tr>\n    <tr>\n      <th>468409</th>\n      <td>468409</td>\n      <td>26-39</td>\n      <td>male</td>\n      <td>majority</td>\n      <td>0-9y</td>\n      <td>high school</td>\n      <td>middle class</td>\n      <td>0.470940</td>\n      <td>1</td>\n      <td>before 2015</td>\n      <td>0</td>\n      <td>1</td>\n      <td>10238</td>\n      <td>14000.0</td>\n      <td>sedan</td>\n      <td>0</td>\n      <td>0</td>\n      <td>0</td>\n      <td>0</td>\n    </tr>\n    <tr>\n      <th>903459</th>\n      <td>903459</td>\n      <td>26-39</td>\n      <td>female</td>\n      <td>majority</td>\n      <td>10-19y</td>\n      <td>high school</td>\n      <td>poverty</td>\n      <td>0.364185</td>\n      <td>0</td>\n      <td>before 2015</td>\n      <td>0</td>\n      <td>1</td>\n      <td>10238</td>\n      <td>13000.0</td>\n      <td>sedan</td>\n      <td>2</td>\n      <td>0</td>\n      <td>1</td>\n      <td>1</td>\n    </tr>\n    <tr>\n      <th>442696</th>\n      <td>442696</td>\n      <td>26-39</td>\n      <td>female</td>\n      <td>majority</td>\n      <td>0-9y</td>\n      <td>none</td>\n      <td>working class</td>\n      <td>0.435225</td>\n      <td>1</td>\n      <td>before 2015</td>\n      <td>1</td>\n      <td>1</td>\n      <td>10238</td>\n      <td>13000.0</td>\n      <td>sedan</td>\n      <td>0</td>\n      <td>0</td>\n      <td>0</td>\n      <td>0</td>\n    </tr>\n  </tbody>\n</table>\n<p>10000 rows × 19 columns</p>\n</div>"
          },
          "metadata": {}
        }
      ],
      "execution_count": 73
    }
  ]
}