{
  "metadata": {
    "kernelspec": {
      "name": "python",
      "display_name": "Python (Pyodide)",
      "language": "python"
    },
    "language_info": {
      "codemirror_mode": {
        "name": "python",
        "version": 3
      },
      "file_extension": ".py",
      "mimetype": "text/x-python",
      "name": "python",
      "nbconvert_exporter": "python",
      "pygments_lexer": "ipython3",
      "version": "3.8"
    }
  },
  "nbformat_minor": 4,
  "nbformat": 4,
  "cells": [
    {
      "cell_type": "markdown",
      "source": "**Introduction**\n- Create a new folder in JuypterLite for Week Two\n- Import the coffee.csv as the underlaying dataset\n- Now import the pandas library, and print it",
      "metadata": {}
    },
    {
      "cell_type": "code",
      "source": "## Import the pandas library, and then create a object/dataframe called coffee\nimport pandas as pd\ncoffee = pd.read_csv('coffee.csv')\n\n## Interesting - using print(coffee), display(coffee)and coffee do the same thing but with slightly different output\n## coffee\nprint(coffee)\n## display(coffee)",
      "metadata": {
        "trusted": true
      },
      "outputs": [
        {
          "name": "stdout",
          "text": "          Day Coffee Type  Units Sold\n0      Monday    Espresso          25\n1      Monday       Latte          15\n2     Tuesday    Espresso          30\n3     Tuesday       Latte          20\n4   Wednesday    Espresso          35\n5   Wednesday       Latte          25\n6    Thursday    Espresso          40\n7    Thursday       Latte          30\n8      Friday    Espresso          45\n9      Friday       Latte          35\n10   Saturday    Espresso          45\n11   Saturday       Latte          35\n12     Sunday    Espresso          45\n13     Sunday       Latte          35\n",
          "output_type": "stream"
        }
      ],
      "execution_count": 19
    },
    {
      "cell_type": "markdown",
      "source": "---------------\n**Info & Reading**\n\nhttps://pbpython.com/pandas_dtypes.html\n\n|Pandas dtype |Python type  |NumPy type                                                      |Usage |\n|-------------|-------------|-----------------------                                         |------|\n|object       |str or mixed |string_, unicode_, mixed types                                  |\tText or mixed numeric and non-numeric values|\n|int64        |int          |int_, int8, int16, int32, int64, uint8, uint16, uint32, uint64  |Integer numbers|\n|float64      |float        |float_, float16, float32, float64                               |\tFloating point numbers|\n|bool         |bool         |bool_\t|True/False values|\n|datetime64   |NA           |datetime64[ns]\t|Date and time values|\n|timedelta[ns]|NA           |NA\t|Differences between two datetimes|\n|category\t  |NA           |NA\t|Finite list of text values|\n\nhttps://stackoverflow.com/questions/34881079/pandas-distinction-between-str-and-object-types\n\n----------------",
      "metadata": {}
    },
    {
      "cell_type": "code",
      "source": "## Examples\n## Display column names, in the csv file there ar column headers\ncoffee.columns",
      "metadata": {
        "trusted": true
      },
      "outputs": [
        {
          "execution_count": 20,
          "output_type": "execute_result",
          "data": {
            "text/plain": "Index(['Day', 'Coffee Type', 'Units Sold'], dtype='object')"
          },
          "metadata": {}
        }
      ],
      "execution_count": 20
    },
    {
      "cell_type": "code",
      "source": "## Index display, the index is the number of rows in the csv\ncoffee.index.tolist()",
      "metadata": {
        "trusted": true
      },
      "outputs": [
        {
          "execution_count": 21,
          "output_type": "execute_result",
          "data": {
            "text/plain": "[0, 1, 2, 3, 4, 5, 6, 7, 8, 9, 10, 11, 12, 13]"
          },
          "metadata": {}
        }
      ],
      "execution_count": 21
    },
    {
      "cell_type": "code",
      "source": "## Dataframe information\n## This give you the summary information about the data within the frame df\ncoffee.info()",
      "metadata": {
        "trusted": true
      },
      "outputs": [
        {
          "name": "stdout",
          "text": "<class 'pandas.core.frame.DataFrame'>\nRangeIndex: 14 entries, 0 to 13\nData columns (total 3 columns):\n #   Column       Non-Null Count  Dtype \n---  ------       --------------  ----- \n 0   Day          14 non-null     object\n 1   Coffee Type  14 non-null     object\n 2   Units Sold   14 non-null     int64 \ndtypes: int64(1), object(2)\nmemory usage: 296.0+ bytes\n",
          "output_type": "stream"
        }
      ],
      "execution_count": 22
    },
    {
      "cell_type": "code",
      "source": "## Key stats\n## Interesting one, this gives you the stats from the datset. The 25,50,75% is the placing within the MIN and MAX\ncoffee.describe() ",
      "metadata": {
        "trusted": true
      },
      "outputs": [
        {
          "execution_count": 23,
          "output_type": "execute_result",
          "data": {
            "text/plain": "       Units Sold\ncount   14.000000\nmean    32.857143\nstd      9.346798\nmin     15.000000\n25%     26.250000\n50%     35.000000\n75%     38.750000\nmax     45.000000",
            "text/html": "<div>\n<style scoped>\n    .dataframe tbody tr th:only-of-type {\n        vertical-align: middle;\n    }\n\n    .dataframe tbody tr th {\n        vertical-align: top;\n    }\n\n    .dataframe thead th {\n        text-align: right;\n    }\n</style>\n<table border=\"1\" class=\"dataframe\">\n  <thead>\n    <tr style=\"text-align: right;\">\n      <th></th>\n      <th>Units Sold</th>\n    </tr>\n  </thead>\n  <tbody>\n    <tr>\n      <th>count</th>\n      <td>14.000000</td>\n    </tr>\n    <tr>\n      <th>mean</th>\n      <td>32.857143</td>\n    </tr>\n    <tr>\n      <th>std</th>\n      <td>9.346798</td>\n    </tr>\n    <tr>\n      <th>min</th>\n      <td>15.000000</td>\n    </tr>\n    <tr>\n      <th>25%</th>\n      <td>26.250000</td>\n    </tr>\n    <tr>\n      <th>50%</th>\n      <td>35.000000</td>\n    </tr>\n    <tr>\n      <th>75%</th>\n      <td>38.750000</td>\n    </tr>\n    <tr>\n      <th>max</th>\n      <td>45.000000</td>\n    </tr>\n  </tbody>\n</table>\n</div>"
          },
          "metadata": {}
        }
      ],
      "execution_count": 23
    },
    {
      "cell_type": "code",
      "source": "## Not Unique\ncoffee.nunique()",
      "metadata": {
        "trusted": true
      },
      "outputs": [
        {
          "execution_count": 24,
          "output_type": "execute_result",
          "data": {
            "text/plain": "Day            7\nCoffee Type    2\nUnits Sold     7\ndtype: int64"
          },
          "metadata": {}
        }
      ],
      "execution_count": 24
    },
    {
      "cell_type": "code",
      "source": "## Unique values in a column\ncoffee['Day'].unique() ",
      "metadata": {
        "trusted": true
      },
      "outputs": [
        {
          "execution_count": 25,
          "output_type": "execute_result",
          "data": {
            "text/plain": "array(['Monday', 'Tuesday', 'Wednesday', 'Thursday', 'Friday', 'Saturday',\n       'Sunday'], dtype=object)"
          },
          "metadata": {}
        }
      ],
      "execution_count": 25
    },
    {
      "cell_type": "code",
      "source": "## Count of rows and columns\ncoffee.shape",
      "metadata": {
        "trusted": true
      },
      "outputs": [
        {
          "execution_count": 26,
          "output_type": "execute_result",
          "data": {
            "text/plain": "(14, 3)"
          },
          "metadata": {}
        }
      ],
      "execution_count": 26
    },
    {
      "cell_type": "code",
      "source": "## Overall dimensions, this return the total count of the data values without the headers\ncoffee.size",
      "metadata": {
        "trusted": true
      },
      "outputs": [
        {
          "execution_count": 27,
          "output_type": "execute_result",
          "data": {
            "text/plain": "42"
          },
          "metadata": {}
        }
      ],
      "execution_count": 27
    },
    {
      "cell_type": "markdown",
      "source": "-------\n**Display Frame**\n\nThe three different ways to see a df (dataframe)\n- coffee\n- print(coffee)\n- display(coffee)\nBy including a location to can return just certain values as well\n\n`````\ndisplay(coffee.loc[3])\n```````\n\nhttps://pandas.pydata.org/docs/reference/api/pandas.DataFrame.info.html\n\n-------",
      "metadata": {}
    },
    {
      "cell_type": "code",
      "source": "## Display frame\ncoffee",
      "metadata": {
        "trusted": true
      },
      "outputs": [
        {
          "execution_count": 32,
          "output_type": "execute_result",
          "data": {
            "text/plain": "          Day Coffee Type  Units Sold\n0      Monday    Espresso          25\n1      Monday       Latte          15\n2     Tuesday    Espresso          30\n3     Tuesday       Latte          20\n4   Wednesday    Espresso          35\n5   Wednesday       Latte          25\n6    Thursday    Espresso          40\n7    Thursday       Latte          30\n8      Friday    Espresso          45\n9      Friday       Latte          35\n10   Saturday    Espresso          45\n11   Saturday       Latte          35\n12     Sunday    Espresso          45\n13     Sunday       Latte          35",
            "text/html": "<div>\n<style scoped>\n    .dataframe tbody tr th:only-of-type {\n        vertical-align: middle;\n    }\n\n    .dataframe tbody tr th {\n        vertical-align: top;\n    }\n\n    .dataframe thead th {\n        text-align: right;\n    }\n</style>\n<table border=\"1\" class=\"dataframe\">\n  <thead>\n    <tr style=\"text-align: right;\">\n      <th></th>\n      <th>Day</th>\n      <th>Coffee Type</th>\n      <th>Units Sold</th>\n    </tr>\n  </thead>\n  <tbody>\n    <tr>\n      <th>0</th>\n      <td>Monday</td>\n      <td>Espresso</td>\n      <td>25</td>\n    </tr>\n    <tr>\n      <th>1</th>\n      <td>Monday</td>\n      <td>Latte</td>\n      <td>15</td>\n    </tr>\n    <tr>\n      <th>2</th>\n      <td>Tuesday</td>\n      <td>Espresso</td>\n      <td>30</td>\n    </tr>\n    <tr>\n      <th>3</th>\n      <td>Tuesday</td>\n      <td>Latte</td>\n      <td>20</td>\n    </tr>\n    <tr>\n      <th>4</th>\n      <td>Wednesday</td>\n      <td>Espresso</td>\n      <td>35</td>\n    </tr>\n    <tr>\n      <th>5</th>\n      <td>Wednesday</td>\n      <td>Latte</td>\n      <td>25</td>\n    </tr>\n    <tr>\n      <th>6</th>\n      <td>Thursday</td>\n      <td>Espresso</td>\n      <td>40</td>\n    </tr>\n    <tr>\n      <th>7</th>\n      <td>Thursday</td>\n      <td>Latte</td>\n      <td>30</td>\n    </tr>\n    <tr>\n      <th>8</th>\n      <td>Friday</td>\n      <td>Espresso</td>\n      <td>45</td>\n    </tr>\n    <tr>\n      <th>9</th>\n      <td>Friday</td>\n      <td>Latte</td>\n      <td>35</td>\n    </tr>\n    <tr>\n      <th>10</th>\n      <td>Saturday</td>\n      <td>Espresso</td>\n      <td>45</td>\n    </tr>\n    <tr>\n      <th>11</th>\n      <td>Saturday</td>\n      <td>Latte</td>\n      <td>35</td>\n    </tr>\n    <tr>\n      <th>12</th>\n      <td>Sunday</td>\n      <td>Espresso</td>\n      <td>45</td>\n    </tr>\n    <tr>\n      <th>13</th>\n      <td>Sunday</td>\n      <td>Latte</td>\n      <td>35</td>\n    </tr>\n  </tbody>\n</table>\n</div>"
          },
          "metadata": {}
        }
      ],
      "execution_count": 32
    },
    {
      "cell_type": "code",
      "source": "## display frame\nprint(coffee)",
      "metadata": {
        "trusted": true
      },
      "outputs": [
        {
          "name": "stdout",
          "text": "          Day Coffee Type  Units Sold\n0      Monday    Espresso          25\n1      Monday       Latte          15\n2     Tuesday    Espresso          30\n3     Tuesday       Latte          20\n4   Wednesday    Espresso          35\n5   Wednesday       Latte          25\n6    Thursday    Espresso          40\n7    Thursday       Latte          30\n8      Friday    Espresso          45\n9      Friday       Latte          35\n10   Saturday    Espresso          45\n11   Saturday       Latte          35\n12     Sunday    Espresso          45\n13     Sunday       Latte          35\n",
          "output_type": "stream"
        }
      ],
      "execution_count": 33
    },
    {
      "cell_type": "code",
      "source": "## display frame\ndisplay(coffee)",
      "metadata": {
        "trusted": true
      },
      "outputs": [
        {
          "output_type": "display_data",
          "data": {
            "text/plain": "          Day Coffee Type  Units Sold\n0      Monday    Espresso          25\n1      Monday       Latte          15\n2     Tuesday    Espresso          30\n3     Tuesday       Latte          20\n4   Wednesday    Espresso          35\n5   Wednesday       Latte          25\n6    Thursday    Espresso          40\n7    Thursday       Latte          30\n8      Friday    Espresso          45\n9      Friday       Latte          35\n10   Saturday    Espresso          45\n11   Saturday       Latte          35\n12     Sunday    Espresso          45\n13     Sunday       Latte          35",
            "text/html": "<div>\n<style scoped>\n    .dataframe tbody tr th:only-of-type {\n        vertical-align: middle;\n    }\n\n    .dataframe tbody tr th {\n        vertical-align: top;\n    }\n\n    .dataframe thead th {\n        text-align: right;\n    }\n</style>\n<table border=\"1\" class=\"dataframe\">\n  <thead>\n    <tr style=\"text-align: right;\">\n      <th></th>\n      <th>Day</th>\n      <th>Coffee Type</th>\n      <th>Units Sold</th>\n    </tr>\n  </thead>\n  <tbody>\n    <tr>\n      <th>0</th>\n      <td>Monday</td>\n      <td>Espresso</td>\n      <td>25</td>\n    </tr>\n    <tr>\n      <th>1</th>\n      <td>Monday</td>\n      <td>Latte</td>\n      <td>15</td>\n    </tr>\n    <tr>\n      <th>2</th>\n      <td>Tuesday</td>\n      <td>Espresso</td>\n      <td>30</td>\n    </tr>\n    <tr>\n      <th>3</th>\n      <td>Tuesday</td>\n      <td>Latte</td>\n      <td>20</td>\n    </tr>\n    <tr>\n      <th>4</th>\n      <td>Wednesday</td>\n      <td>Espresso</td>\n      <td>35</td>\n    </tr>\n    <tr>\n      <th>5</th>\n      <td>Wednesday</td>\n      <td>Latte</td>\n      <td>25</td>\n    </tr>\n    <tr>\n      <th>6</th>\n      <td>Thursday</td>\n      <td>Espresso</td>\n      <td>40</td>\n    </tr>\n    <tr>\n      <th>7</th>\n      <td>Thursday</td>\n      <td>Latte</td>\n      <td>30</td>\n    </tr>\n    <tr>\n      <th>8</th>\n      <td>Friday</td>\n      <td>Espresso</td>\n      <td>45</td>\n    </tr>\n    <tr>\n      <th>9</th>\n      <td>Friday</td>\n      <td>Latte</td>\n      <td>35</td>\n    </tr>\n    <tr>\n      <th>10</th>\n      <td>Saturday</td>\n      <td>Espresso</td>\n      <td>45</td>\n    </tr>\n    <tr>\n      <th>11</th>\n      <td>Saturday</td>\n      <td>Latte</td>\n      <td>35</td>\n    </tr>\n    <tr>\n      <th>12</th>\n      <td>Sunday</td>\n      <td>Espresso</td>\n      <td>45</td>\n    </tr>\n    <tr>\n      <th>13</th>\n      <td>Sunday</td>\n      <td>Latte</td>\n      <td>35</td>\n    </tr>\n  </tbody>\n</table>\n</div>"
          },
          "metadata": {}
        }
      ],
      "execution_count": 38
    },
    {
      "cell_type": "code",
      "source": "## display frame\ndisplay(coffee.loc[3])",
      "metadata": {
        "trusted": true
      },
      "outputs": [
        {
          "output_type": "display_data",
          "data": {
            "text/plain": "Day            Tuesday\nCoffee Type      Latte\nUnits Sold          20\nName: 3, dtype: object"
          },
          "metadata": {}
        }
      ],
      "execution_count": 40
    },
    {
      "cell_type": "markdown",
      "source": "----------\n\n**Random Selection & Samples**\n\nHere are some code example for random stuff\n`````\ncoffee.sample\ncoffee.sample(5)\ncoffee.dtypes\ncoffee.loc[0]    ##the [0] is the location vale\ncoffee.loc[[1,2,3]]\ncoffee.loc[5:9, [\"Day\", \"Units Sold\"]]\n````````\n\n---------",
      "metadata": {}
    },
    {
      "cell_type": "code",
      "source": "coffee.sample(5)",
      "metadata": {
        "trusted": true
      },
      "outputs": [
        {
          "execution_count": 43,
          "output_type": "execute_result",
          "data": {
            "text/plain": "         Day Coffee Type  Units Sold\n9     Friday       Latte          35\n11  Saturday       Latte          35\n13    Sunday       Latte          35\n12    Sunday    Espresso          45\n1     Monday       Latte          15",
            "text/html": "<div>\n<style scoped>\n    .dataframe tbody tr th:only-of-type {\n        vertical-align: middle;\n    }\n\n    .dataframe tbody tr th {\n        vertical-align: top;\n    }\n\n    .dataframe thead th {\n        text-align: right;\n    }\n</style>\n<table border=\"1\" class=\"dataframe\">\n  <thead>\n    <tr style=\"text-align: right;\">\n      <th></th>\n      <th>Day</th>\n      <th>Coffee Type</th>\n      <th>Units Sold</th>\n    </tr>\n  </thead>\n  <tbody>\n    <tr>\n      <th>9</th>\n      <td>Friday</td>\n      <td>Latte</td>\n      <td>35</td>\n    </tr>\n    <tr>\n      <th>11</th>\n      <td>Saturday</td>\n      <td>Latte</td>\n      <td>35</td>\n    </tr>\n    <tr>\n      <th>13</th>\n      <td>Sunday</td>\n      <td>Latte</td>\n      <td>35</td>\n    </tr>\n    <tr>\n      <th>12</th>\n      <td>Sunday</td>\n      <td>Espresso</td>\n      <td>45</td>\n    </tr>\n    <tr>\n      <th>1</th>\n      <td>Monday</td>\n      <td>Latte</td>\n      <td>15</td>\n    </tr>\n  </tbody>\n</table>\n</div>"
          },
          "metadata": {}
        }
      ],
      "execution_count": 43
    },
    {
      "cell_type": "code",
      "source": "coffee.dtypes",
      "metadata": {
        "trusted": true
      },
      "outputs": [
        {
          "execution_count": 44,
          "output_type": "execute_result",
          "data": {
            "text/plain": "Day            object\nCoffee Type    object\nUnits Sold      int64\ndtype: object"
          },
          "metadata": {}
        }
      ],
      "execution_count": 44
    },
    {
      "cell_type": "markdown",
      "source": "--------\n\n**Using Locations - loc v's iloc**\n\n*Advantages of loc*\n\n- Allowed in cases like labeled-based indexing.\n- It is easy to read and understand.\n- It can be used with Boolean arrays to solve problems.\n- Can be used on both single and multiple indexes. Disadvantages of loc Some of the disadvantages of loc are as follows:\n- It can be low with large DataFrames.\n- It uses unique indexes, but it may sometimes be different.\n\n*Advantages of iloc*\n\n- Allowed in cases like integer-based indexing.\n- More effective for large DataFrames.\n- It uses integer arrays to solve complex problems.\n- Can be used on both single and multiple indexes. Disadvantages of iloc Some of the disadvantages of iloc are as follows:\n\nIt's hard to read and understand for new users. It can create problems if not updated regularly and lead to data misinterpretation. So we can say that it depends on the uses' needs. But in general, 'loc' is used for label-based indexing, and 'iloc' is used for integer-based indexing.\n\nhttps://www.naukri.com/code360/library/difference-between-loc-and-iloc-in-panda\n\n--------",
      "metadata": {}
    },
    {
      "cell_type": "code",
      "source": "coffee.loc[0]",
      "metadata": {
        "trusted": true
      },
      "outputs": [
        {
          "execution_count": 46,
          "output_type": "execute_result",
          "data": {
            "text/plain": "Day              Monday\nCoffee Type    Espresso\nUnits Sold           25\nName: 0, dtype: object"
          },
          "metadata": {}
        }
      ],
      "execution_count": 46
    },
    {
      "cell_type": "code",
      "source": "## to return mulitiple locations you need [[\ncoffee.loc[[1,2,3]]",
      "metadata": {
        "trusted": true
      },
      "outputs": [
        {
          "execution_count": 47,
          "output_type": "execute_result",
          "data": {
            "text/plain": "       Day Coffee Type  Units Sold\n1   Monday       Latte          15\n2  Tuesday    Espresso          30\n3  Tuesday       Latte          20",
            "text/html": "<div>\n<style scoped>\n    .dataframe tbody tr th:only-of-type {\n        vertical-align: middle;\n    }\n\n    .dataframe tbody tr th {\n        vertical-align: top;\n    }\n\n    .dataframe thead th {\n        text-align: right;\n    }\n</style>\n<table border=\"1\" class=\"dataframe\">\n  <thead>\n    <tr style=\"text-align: right;\">\n      <th></th>\n      <th>Day</th>\n      <th>Coffee Type</th>\n      <th>Units Sold</th>\n    </tr>\n  </thead>\n  <tbody>\n    <tr>\n      <th>1</th>\n      <td>Monday</td>\n      <td>Latte</td>\n      <td>15</td>\n    </tr>\n    <tr>\n      <th>2</th>\n      <td>Tuesday</td>\n      <td>Espresso</td>\n      <td>30</td>\n    </tr>\n    <tr>\n      <th>3</th>\n      <td>Tuesday</td>\n      <td>Latte</td>\n      <td>20</td>\n    </tr>\n  </tbody>\n</table>\n</div>"
          },
          "metadata": {}
        }
      ],
      "execution_count": 47
    },
    {
      "cell_type": "code",
      "source": "## On the left are the row indexes from 5-9. On the right The filter method loc uses columns names as parameters\ncoffee.loc[5:9, [\"Day\", \"Units Sold\"]]",
      "metadata": {
        "trusted": true
      },
      "outputs": [
        {
          "execution_count": 49,
          "output_type": "execute_result",
          "data": {
            "text/plain": "         Day  Units Sold\n5  Wednesday          25\n6   Thursday          40\n7   Thursday          30\n8     Friday          45\n9     Friday          35",
            "text/html": "<div>\n<style scoped>\n    .dataframe tbody tr th:only-of-type {\n        vertical-align: middle;\n    }\n\n    .dataframe tbody tr th {\n        vertical-align: top;\n    }\n\n    .dataframe thead th {\n        text-align: right;\n    }\n</style>\n<table border=\"1\" class=\"dataframe\">\n  <thead>\n    <tr style=\"text-align: right;\">\n      <th></th>\n      <th>Day</th>\n      <th>Units Sold</th>\n    </tr>\n  </thead>\n  <tbody>\n    <tr>\n      <th>5</th>\n      <td>Wednesday</td>\n      <td>25</td>\n    </tr>\n    <tr>\n      <th>6</th>\n      <td>Thursday</td>\n      <td>40</td>\n    </tr>\n    <tr>\n      <th>7</th>\n      <td>Thursday</td>\n      <td>30</td>\n    </tr>\n    <tr>\n      <th>8</th>\n      <td>Friday</td>\n      <td>45</td>\n    </tr>\n    <tr>\n      <th>9</th>\n      <td>Friday</td>\n      <td>35</td>\n    </tr>\n  </tbody>\n</table>\n</div>"
          },
          "metadata": {}
        }
      ],
      "execution_count": 49
    },
    {
      "cell_type": "code",
      "source": "coffee.index=coffee[\"Day\"]\ncoffee.loc[\"Monday\":\"Wednesday\"]",
      "metadata": {
        "trusted": true
      },
      "outputs": [
        {
          "execution_count": 51,
          "output_type": "execute_result",
          "data": {
            "text/plain": "                 Day Coffee Type  Units Sold\nDay                                         \nMonday        Monday    Espresso          25\nMonday        Monday       Latte          15\nTuesday      Tuesday    Espresso          30\nTuesday      Tuesday       Latte          20\nWednesday  Wednesday    Espresso          35\nWednesday  Wednesday       Latte          25",
            "text/html": "<div>\n<style scoped>\n    .dataframe tbody tr th:only-of-type {\n        vertical-align: middle;\n    }\n\n    .dataframe tbody tr th {\n        vertical-align: top;\n    }\n\n    .dataframe thead th {\n        text-align: right;\n    }\n</style>\n<table border=\"1\" class=\"dataframe\">\n  <thead>\n    <tr style=\"text-align: right;\">\n      <th></th>\n      <th>Day</th>\n      <th>Coffee Type</th>\n      <th>Units Sold</th>\n    </tr>\n    <tr>\n      <th>Day</th>\n      <th></th>\n      <th></th>\n      <th></th>\n    </tr>\n  </thead>\n  <tbody>\n    <tr>\n      <th>Monday</th>\n      <td>Monday</td>\n      <td>Espresso</td>\n      <td>25</td>\n    </tr>\n    <tr>\n      <th>Monday</th>\n      <td>Monday</td>\n      <td>Latte</td>\n      <td>15</td>\n    </tr>\n    <tr>\n      <th>Tuesday</th>\n      <td>Tuesday</td>\n      <td>Espresso</td>\n      <td>30</td>\n    </tr>\n    <tr>\n      <th>Tuesday</th>\n      <td>Tuesday</td>\n      <td>Latte</td>\n      <td>20</td>\n    </tr>\n    <tr>\n      <th>Wednesday</th>\n      <td>Wednesday</td>\n      <td>Espresso</td>\n      <td>35</td>\n    </tr>\n    <tr>\n      <th>Wednesday</th>\n      <td>Wednesday</td>\n      <td>Latte</td>\n      <td>25</td>\n    </tr>\n  </tbody>\n</table>\n</div>"
          },
          "metadata": {}
        }
      ],
      "execution_count": 51
    },
    {
      "cell_type": "markdown",
      "source": "-----------\n\n**Sorting**\n\nNB we are still in the same Notebook so we need to undo the Index Rest we completed above\n`````\ncoffee = pd.read_csv('coffee.csv')\n`````\n*Further resources*\nUse this resource to explore further sorting methods and spend time experimenting with this dataset. Some of the contents of this website will be useful for the exercises below.\n\nhttps://www.geeksforgeeks.org/how-to-sort-pandas-dataframe/\n\n-------",
      "metadata": {}
    },
    {
      "cell_type": "code",
      "source": "## This resets the index change we made above to be the days of the week. We're now using integers again\ncoffee = pd.read_csv('coffee.csv')\n\n## This changes the values in the data frame from indexes 1-3 to become 10\ncoffee.loc[1:3, \"Units Sold\"] = 10 \nprint(coffee)",
      "metadata": {
        "trusted": true
      },
      "outputs": [
        {
          "name": "stdout",
          "text": "          Day Coffee Type  Units Sold\n0      Monday    Espresso          25\n1      Monday       Latte          10\n2     Tuesday    Espresso          10\n3     Tuesday       Latte          10\n4   Wednesday    Espresso          35\n5   Wednesday       Latte          25\n6    Thursday    Espresso          40\n7    Thursday       Latte          30\n8      Friday    Espresso          45\n9      Friday       Latte          35\n10   Saturday    Espresso          45\n11   Saturday       Latte          35\n12     Sunday    Espresso          45\n13     Sunday       Latte          35\n",
          "output_type": "stream"
        }
      ],
      "execution_count": 57
    },
    {
      "cell_type": "code",
      "source": "## Sort by units sold. It does this in asceding by default, to change add ascending=false which forces things in the other direction\n## coffee.sort_values(\"Units Sold\", ascending=False) \n\ncoffee.sort_values(\"Units Sold\")\n## or reverse with \n\n##coffee.sort_values(\"Units Sold\",ascending=False)\n",
      "metadata": {
        "trusted": true
      },
      "outputs": [
        {
          "execution_count": 64,
          "output_type": "execute_result",
          "data": {
            "text/plain": "          Day Coffee Type  Units Sold\n1      Monday       Latte          10\n2     Tuesday    Espresso          10\n3     Tuesday       Latte          10\n0      Monday    Espresso          25\n5   Wednesday       Latte          25\n7    Thursday       Latte          30\n4   Wednesday    Espresso          35\n9      Friday       Latte          35\n11   Saturday       Latte          35\n13     Sunday       Latte          35\n6    Thursday    Espresso          40\n8      Friday    Espresso          45\n10   Saturday    Espresso          45\n12     Sunday    Espresso          45",
            "text/html": "<div>\n<style scoped>\n    .dataframe tbody tr th:only-of-type {\n        vertical-align: middle;\n    }\n\n    .dataframe tbody tr th {\n        vertical-align: top;\n    }\n\n    .dataframe thead th {\n        text-align: right;\n    }\n</style>\n<table border=\"1\" class=\"dataframe\">\n  <thead>\n    <tr style=\"text-align: right;\">\n      <th></th>\n      <th>Day</th>\n      <th>Coffee Type</th>\n      <th>Units Sold</th>\n    </tr>\n  </thead>\n  <tbody>\n    <tr>\n      <th>1</th>\n      <td>Monday</td>\n      <td>Latte</td>\n      <td>10</td>\n    </tr>\n    <tr>\n      <th>2</th>\n      <td>Tuesday</td>\n      <td>Espresso</td>\n      <td>10</td>\n    </tr>\n    <tr>\n      <th>3</th>\n      <td>Tuesday</td>\n      <td>Latte</td>\n      <td>10</td>\n    </tr>\n    <tr>\n      <th>0</th>\n      <td>Monday</td>\n      <td>Espresso</td>\n      <td>25</td>\n    </tr>\n    <tr>\n      <th>5</th>\n      <td>Wednesday</td>\n      <td>Latte</td>\n      <td>25</td>\n    </tr>\n    <tr>\n      <th>7</th>\n      <td>Thursday</td>\n      <td>Latte</td>\n      <td>30</td>\n    </tr>\n    <tr>\n      <th>4</th>\n      <td>Wednesday</td>\n      <td>Espresso</td>\n      <td>35</td>\n    </tr>\n    <tr>\n      <th>9</th>\n      <td>Friday</td>\n      <td>Latte</td>\n      <td>35</td>\n    </tr>\n    <tr>\n      <th>11</th>\n      <td>Saturday</td>\n      <td>Latte</td>\n      <td>35</td>\n    </tr>\n    <tr>\n      <th>13</th>\n      <td>Sunday</td>\n      <td>Latte</td>\n      <td>35</td>\n    </tr>\n    <tr>\n      <th>6</th>\n      <td>Thursday</td>\n      <td>Espresso</td>\n      <td>40</td>\n    </tr>\n    <tr>\n      <th>8</th>\n      <td>Friday</td>\n      <td>Espresso</td>\n      <td>45</td>\n    </tr>\n    <tr>\n      <th>10</th>\n      <td>Saturday</td>\n      <td>Espresso</td>\n      <td>45</td>\n    </tr>\n    <tr>\n      <th>12</th>\n      <td>Sunday</td>\n      <td>Espresso</td>\n      <td>45</td>\n    </tr>\n  </tbody>\n</table>\n</div>"
          },
          "metadata": {}
        }
      ],
      "execution_count": 64
    },
    {
      "cell_type": "code",
      "source": "",
      "metadata": {
        "trusted": true
      },
      "outputs": [],
      "execution_count": null
    }
  ]
}